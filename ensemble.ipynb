{
 "cells": [
  {
   "cell_type": "code",
   "execution_count": 31,
   "id": "52ace051-8e9e-4af1-be77-787c9b5b567a",
   "metadata": {},
   "outputs": [],
   "source": [
    "import pandas as pd\n",
    "import pandas_profiling\n",
    "import os\n",
    "import pickle\n",
    "import gc\n",
    "import numpy as np\n",
    "from matplotlib import pyplot as plt\n",
    "%matplotlib inline\n",
    "import seaborn as sns\n",
    "\n",
    "import warnings\n",
    "warnings.filterwarnings('ignore')\n",
    "\n",
    "from sklearn.preprocessing import StandardScaler, MinMaxScaler, LabelEncoder, OneHotEncoder\n",
    "from sklearn.model_selection import train_test_split, KFold, StratifiedKFold\n",
    "from sklearn.metrics import accuracy_score, roc_auc_score, confusion_matrix\n",
    "import lightgbm as lgb\n",
    "\n",
    "#データ読み込み\n",
    "with open('nn_proba.pickle', mode='br') as fi:\n",
    "    p1 = pickle.load(fi)\n",
    "    \n",
    "with open('LGBM_proba.pickle', mode='br') as fi:\n",
    "    p2 = pickle.load(fi)"
   ]
  },
  {
   "cell_type": "code",
   "execution_count": 35,
   "id": "9f3144ae-2cb9-4fa4-9236-08c3c69a8745",
   "metadata": {},
   "outputs": [
    {
     "data": {
      "text/plain": [
       "array([0.2656804 , 0.1783321 , 0.16428877, ..., 0.5772522 , 0.18998696,\n",
       "       0.4275994 ], dtype=float32)"
      ]
     },
     "execution_count": 35,
     "metadata": {},
     "output_type": "execute_result"
    }
   ],
   "source": [
    "p1"
   ]
  },
  {
   "cell_type": "code",
   "execution_count": 36,
   "id": "5f742232-a8c5-4e1c-b4ad-4a40f23376cb",
   "metadata": {},
   "outputs": [
    {
     "data": {
      "text/plain": [
       "array([0.18697312, 0.0512449 , 0.0891755 , ..., 0.60255712, 0.10930006,\n",
       "       0.4734564 ])"
      ]
     },
     "execution_count": 36,
     "metadata": {},
     "output_type": "execute_result"
    }
   ],
   "source": [
    "p2[:,1]"
   ]
  },
  {
   "cell_type": "code",
   "execution_count": null,
   "id": "8cc16657-5af0-497c-bf0b-a10929d69f4c",
   "metadata": {},
   "outputs": [],
   "source": [
    "def evaluate_ensamble(input_df, col_pred):\n",
    "    print('[auc] model1:{:.4f}, model2:{:.4f}, model3:{:.4f} -> ensamble:{:.4f}'.format(\n",
    "        roc_auc_score(input_df"
   ]
  }
 ],
 "metadata": {
  "kernelspec": {
   "display_name": "Python 3 (ipykernel)",
   "language": "python",
   "name": "python3"
  },
  "language_info": {
   "codemirror_mode": {
    "name": "ipython",
    "version": 3
   },
   "file_extension": ".py",
   "mimetype": "text/x-python",
   "name": "python",
   "nbconvert_exporter": "python",
   "pygments_lexer": "ipython3",
   "version": "3.9.10"
  }
 },
 "nbformat": 4,
 "nbformat_minor": 5
}
