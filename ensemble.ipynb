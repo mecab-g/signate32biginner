{
 "cells": [
  {
   "cell_type": "code",
   "execution_count": 89,
   "id": "52ace051-8e9e-4af1-be77-787c9b5b567a",
   "metadata": {},
   "outputs": [],
   "source": [
    "import pandas as pd\n",
    "import pandas_profiling\n",
    "import os\n",
    "import pickle\n",
    "import gc\n",
    "import numpy as np\n",
    "from matplotlib import pyplot as plt\n",
    "%matplotlib inline\n",
    "import seaborn as sns\n",
    "\n",
    "import warnings\n",
    "warnings.filterwarnings('ignore')\n",
    "\n",
    "from sklearn.linear_model import Lasso\n",
    "\n",
    "\n",
    "#評価用\n",
    "\n",
    "train = pd.read_csv(\"data_EDA/train.csv\")\n",
    "test = pd.read_csv(\"data_EDA/test.csv\")\n",
    "\n",
    "with open('ensamble/rf_train.pickle', mode='br') as fi:\n",
    "    train_p1 = pickle.load(fi)\n",
    "    \n",
    "with open('ensamble/lgb_train.pickle', mode='br') as fi:\n",
    "    train_p2 = pickle.load(fi)\n",
    "\n",
    "\n",
    "\n",
    "\n",
    "\n",
    "#データ読み込み\n",
    "with open('ensamble/rf_test.pickle', mode='br') as fi:\n",
    "    test_p1 = pickle.load(fi)\n",
    "    \n",
    "with open('ensamble/lgb_test.pickle', mode='br') as fi:\n",
    "    test_p2 = pickle.load(fi)"
   ]
  },
  {
   "cell_type": "markdown",
   "id": "2c874db4-1bb8-4a03-a1b8-f825b038bd59",
   "metadata": {},
   "source": [
    "## アンサンブル"
   ]
  },
  {
   "cell_type": "code",
   "execution_count": 90,
   "id": "f040cc16-9638-4e99-9433-ab0c2d74b301",
   "metadata": {},
   "outputs": [],
   "source": [
    "df_train = pd.concat([train['Outcome'],train_p1['pred'],train_p2['pred']], axis=1, ignore_index=True).rename(columns={0: 'true', 1: 'pred1', 2: 'pred2'})\n",
    "df_train['ensemble'] = df_train['pred1']*0.5 + df_train['pred2']*0.5\n",
    "\n",
    "df_test = pd.concat([test['index'],test_p1['pred'],test_p2['pred']], axis=1, ignore_index=True).rename(columns={0: 'index', 1: 'pred1', 2: 'pred2'})\n",
    "df_test['ensemble'] = df_test['pred1']*0.5 + df_test['pred2']*0.5\n",
    "\n",
    "def evaluate_ensemble(input_df, col_pred):\n",
    "    print('[auc] model1:{:.4f}, model2:{:.4f}, -> emsamble]{:.4f}'.format(\n",
    "        roc_auc_score(input_df['true'], input_df['pred1']),\n",
    "        roc_auc_score(input_df['true'], input_df['pred2']),\n",
    "        roc_auc_score(input_df['true'], input_df[col_pred]),\n",
    "    ))"
   ]
  },
  {
   "cell_type": "code",
   "execution_count": 91,
   "id": "b58d77f3-bb1b-469c-9633-efd07241f0b1",
   "metadata": {},
   "outputs": [
    {
     "name": "stdout",
     "output_type": "stream",
     "text": [
      "[auc] model1:0.8053, model2:0.8182, -> emsamble]0.8192\n"
     ]
    }
   ],
   "source": [
    "evaluate_ensemble(df_train, col_pred='ensemble')"
   ]
  },
  {
   "cell_type": "code",
   "execution_count": 93,
   "id": "72757370-4701-4d22-8447-99a9fb6ff9e8",
   "metadata": {},
   "outputs": [],
   "source": [
    "sub = df_test.copy()    \n",
    "sub['ensemble'] = np.where(sub['ensemble'] < 0.5, 0, 1)\n",
    "sub = sub[['index', 'ensemble']] \n",
    "sub.to_csv('sub/submission_emsamble.csv', index=None, header=False,)"
   ]
  },
  {
   "cell_type": "markdown",
   "id": "e84b97e6-d66e-4a58-9d0c-be3a1cc79427",
   "metadata": {},
   "source": [
    "## スタッキング"
   ]
  },
  {
   "cell_type": "code",
   "execution_count": null,
   "id": "12d0fd08-7a51-481b-b346-d69cc15984a0",
   "metadata": {},
   "outputs": [],
   "source": [
    "x, y = df_train[['pred1', 'pred2',]], df_train[['true']]\n",
    "oof = np.zero(len(x))\n",
    "models = []\n",
    "\n",
    "cv = list(StratifiedKFold(n_splits=5, shuffle=True, random_state=123).split(x,y))\n",
    "for nfold in np.arrange(5):\n",
    "    idx_tr, idx_va = cv[nfold][0], cv[nfold][1]\n",
    "    x_tr, y_tr = x.loc[idx_tr, :], y.loc[idx_tr, :]\n",
    "    x_va, y_va = x.loc[idx_va, :], y.loc[idx_tr, :]\n",
    "    \n",
    "    model = Lasso(alpha=0.01)\n",
    "    model.fit(x_tr, y_tr)\n",
    "    models.append(model)\n",
    "    \n",
    "    y_va_pred = model.predict(x_va)\n",
    "    oof[idx_va] = y_va_pred\n",
    "    \n",
    "df_train['pred_ensemble2'] = oof\n",
    "df_train['pred_ensemble2'] = df_train['pred_ensemble2'].clip(lower=0, upper=1)\n",
    "df_train.head()"
   ]
  },
  {
   "cell_type": "code",
   "execution_count": null,
   "id": "bdf7bb41-b603-4ce1-82aa-14da6eb06cbc",
   "metadata": {},
   "outputs": [],
   "source": [
    "evaluate_ensemble(df_train, col_pred='pred_ensemble2')"
   ]
  },
  {
   "cell_type": "code",
   "execution_count": null,
   "id": "481bf6f2-a627-41da-8200-4a58789c8d8a",
   "metadata": {},
   "outputs": [],
   "source": [
    "de_test['pred_emsemble'] = 0\n",
    "for model in models:\n",
    "    df_test['pred_emsemble2'] += model.predict(df_test[['pred1', 'pred2']]) / len(models)\n",
    "    df_test['pred_emsemble2'] df_test['pred_emsemble2'].clip(lower0, upper=1)\n",
    "    evaluate_emsemble(df_test, col_pred='pred_ensemble2')"
   ]
  }
 ],
 "metadata": {
  "kernelspec": {
   "display_name": "Python 3 (ipykernel)",
   "language": "python",
   "name": "python3"
  },
  "language_info": {
   "codemirror_mode": {
    "name": "ipython",
    "version": 3
   },
   "file_extension": ".py",
   "mimetype": "text/x-python",
   "name": "python",
   "nbconvert_exporter": "python",
   "pygments_lexer": "ipython3",
   "version": "3.9.13"
  }
 },
 "nbformat": 4,
 "nbformat_minor": 5
}
