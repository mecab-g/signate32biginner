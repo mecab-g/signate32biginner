{
 "cells": [
  {
   "cell_type": "code",
   "execution_count": 1,
   "id": "672aa0d5-f789-4797-bafc-d2c7e30e47b6",
   "metadata": {},
   "outputs": [
    {
     "ename": "ModuleNotFoundError",
     "evalue": "No module named 'optuna'",
     "output_type": "error",
     "traceback": [
      "\u001b[0;31m---------------------------------------------------------------------------\u001b[0m",
      "\u001b[0;31mModuleNotFoundError\u001b[0m                       Traceback (most recent call last)",
      "Input \u001b[0;32mIn [1]\u001b[0m, in \u001b[0;36m<module>\u001b[0;34m\u001b[0m\n\u001b[1;32m     16\u001b[0m \u001b[38;5;28;01mfrom\u001b[39;00m \u001b[38;5;21;01msklearn\u001b[39;00m\u001b[38;5;21;01m.\u001b[39;00m\u001b[38;5;21;01mmetrics\u001b[39;00m \u001b[38;5;28;01mimport\u001b[39;00m accuracy_score, roc_auc_score, confusion_matrix\n\u001b[1;32m     17\u001b[0m \u001b[38;5;28;01mimport\u001b[39;00m \u001b[38;5;21;01mlightgbm\u001b[39;00m \u001b[38;5;28;01mas\u001b[39;00m \u001b[38;5;21;01mlgb\u001b[39;00m\n\u001b[0;32m---> 19\u001b[0m \u001b[38;5;28;01mimport\u001b[39;00m \u001b[38;5;21;01moptuna\u001b[39;00m\n\u001b[1;32m     21\u001b[0m \u001b[38;5;66;03m#データ読み込み\u001b[39;00m\n\u001b[1;32m     22\u001b[0m train \u001b[38;5;241m=\u001b[39m pd\u001b[38;5;241m.\u001b[39mread_csv(\u001b[38;5;124m\"\u001b[39m\u001b[38;5;124mdata_EDA/train.csv\u001b[39m\u001b[38;5;124m\"\u001b[39m)\n",
      "\u001b[0;31mModuleNotFoundError\u001b[0m: No module named 'optuna'"
     ]
    }
   ],
   "source": [
    "import pandas as pd\n",
    "import pandas_profiling\n",
    "import os\n",
    "import pickle\n",
    "import gc\n",
    "import numpy as np\n",
    "from matplotlib import pyplot as plt\n",
    "%matplotlib inline\n",
    "import seaborn as sns\n",
    "\n",
    "import warnings\n",
    "warnings.filterwarnings('ignore')\n",
    "\n",
    "from sklearn.preprocessing import StandardScaler, MinMaxScaler, LabelEncoder, OneHotEncoder\n",
    "from sklearn.model_selection import train_test_split, KFold, StratifiedKFold\n",
    "from sklearn.metrics import accuracy_score, roc_auc_score, confusion_matrix\n",
    "import lightgbm as lgb\n",
    "\n",
    "import optuna\n",
    "\n",
    "#データ読み込み\n",
    "train = pd.read_csv(\"data_EDA/train.csv\")\n",
    "test = pd.read_csv(\"data_EDA/test.csv\")"
   ]
  },
  {
   "cell_type": "code",
   "execution_count": null,
   "id": "1ec70f0f-87ea-4f95-86e8-04da14b76c19",
   "metadata": {},
   "outputs": [],
   "source": [
    "# EDA後の特徴量\n",
    "X_train = train[['DiabetesPedigreeFunction',\n",
    "                 'BMI',\n",
    "                 'Glucose',\n",
    "                 'Age',\n",
    "                 'Pregnancies',\n",
    "                 'Pregnancies_bin',\n",
    "                 'BloodPressure_na' ,\n",
    "                 'BloodPressure_0', \n",
    "                 'SkinThickness',\n",
    "                 'Insulin_0',\n",
    "                 'Insulin_na',\n",
    "                 \n",
    "                 \n",
    "                ]]\n",
    "id_train = train[['index']]\n",
    "y_train = train[['Outcome']]"
   ]
  },
  {
   "cell_type": "code",
   "execution_count": null,
   "id": "8f89671c-3c67-4b40-98a4-6b476d48e911",
   "metadata": {},
   "outputs": [],
   "source": [
    "# 探索しないパラメータ\n",
    "\n",
    "params_base = {\n",
    "    'boosting_type': 'gbdt',\n",
    "    'objective': 'binary',\n",
    "    'metrics': 'auc',\n",
    "    'learning_rate': 0.02,\n",
    "    'n_estimators': 100000,\n",
    "    'bagging_freq': 1,\n",
    "    'seed': 123,\n",
    "}\n",
    "random_state=123\n",
    "\n",
    "def objective(trial):\n",
    "    # 探索するパラメータ\n",
    "    params_tuning = {\n",
    "        'num_leaves': trial.suggest_int('num_leaves',8,256),\n",
    "        'min_data_in_leaf': trial.suggest_int('min_data_in_leaf',5,200),\n",
    "        'min_sum_hessian_in_leaf': trial.suggest_float('min_sum_hessian_in_leaf', 1e-5, 1e-2, log=True),\n",
    "        'feature_fraction': trial.suggest_float('feature_fraction', 0.5, 1.0),\n",
    "        'bagging_fraction': trial.suggest_float('bagging_fraction', 0.5, 1.0),\n",
    "        'reg_alpha': trial.suggest_float('reg_alpha', 1e-2, 1e2, log=True),\n",
    "        'reg_lambda': trial.suggest_float('reg_lambda', 1e-2, 1e2, log=True),\n",
    "    }\n",
    "    params_tuning.update(params_base)\n",
    "    \n",
    "    # モデル学習・評価\n",
    "    list_metrics = []\n",
    "    cv = list(StratifiedKFold(n_splits=4, shuffle=True, random_state=random_state).split(X_train, y_train))\n",
    "    for nfold in np.arange(4):\n",
    "        idx_tr, idx_va = cv[nfold][0], cv[nfold][1]\n",
    "        x_tr, y_tr = X_train.loc[idx_tr, :], y_train.loc[idx_tr, :]\n",
    "        x_va, y_va = X_train.loc[idx_va, :], y_train.loc[idx_va, :]\n",
    "        model = lgb.LGBMClassifier(**params_tuning)\n",
    "        model.fit(x_tr,\n",
    "                  y_tr,\n",
    "                  eval_set=[(x_tr, y_tr), (x_va, y_va)],\n",
    "                  early_stopping_rounds=100,\n",
    "                  verbose=0,\n",
    "                 )\n",
    "        y_va_pred = model.predict_proba(x_va)[:,1]\n",
    "        metric_va = accuracy_score(y_va, np.where(y_va_pred>0.5, 1, 0))\n",
    "        list_metrics.append(metric_va)\n",
    "        \n",
    "    # 評価値の計算\n",
    "    metrics = np.mean(list_metrics)\n",
    "    \n",
    "    return metrics"
   ]
  },
  {
   "cell_type": "code",
   "execution_count": 25,
   "id": "8bf279d5-5969-45e1-8801-87620a39b484",
   "metadata": {
    "collapsed": true,
    "jupyter": {
     "outputs_hidden": true
    },
    "tags": []
   },
   "outputs": [
    {
     "name": "stderr",
     "output_type": "stream",
     "text": [
      "\u001b[32m[I 2023-03-13 15:09:23,293]\u001b[0m A new study created in memory with name: no-name-485b408d-5441-4e5a-954d-5a8b0201c9b0\u001b[0m\n"
     ]
    },
    {
     "name": "stdout",
     "output_type": "stream",
     "text": [
      "[LightGBM] [Warning] bagging_fraction is set=0.8597344848927815, subsample=1.0 will be ignored. Current value: bagging_fraction=0.8597344848927815\n",
      "[LightGBM] [Warning] min_sum_hessian_in_leaf is set=4.792414358623587e-05, min_child_weight=0.001 will be ignored. Current value: min_sum_hessian_in_leaf=4.792414358623587e-05\n",
      "[LightGBM] [Warning] min_data_in_leaf is set=61, min_child_samples=20 will be ignored. Current value: min_data_in_leaf=61\n",
      "[LightGBM] [Warning] feature_fraction is set=0.7756573845414456, colsample_bytree=1.0 will be ignored. Current value: feature_fraction=0.7756573845414456\n",
      "[LightGBM] [Warning] bagging_freq is set=1, subsample_freq=0 will be ignored. Current value: bagging_freq=1\n",
      "[LightGBM] [Warning] bagging_fraction is set=0.8597344848927815, subsample=1.0 will be ignored. Current value: bagging_fraction=0.8597344848927815\n",
      "[LightGBM] [Warning] min_sum_hessian_in_leaf is set=4.792414358623587e-05, min_child_weight=0.001 will be ignored. Current value: min_sum_hessian_in_leaf=4.792414358623587e-05\n",
      "[LightGBM] [Warning] min_data_in_leaf is set=61, min_child_samples=20 will be ignored. Current value: min_data_in_leaf=61\n",
      "[LightGBM] [Warning] feature_fraction is set=0.7756573845414456, colsample_bytree=1.0 will be ignored. Current value: feature_fraction=0.7756573845414456\n",
      "[LightGBM] [Warning] bagging_freq is set=1, subsample_freq=0 will be ignored. Current value: bagging_freq=1\n",
      "[LightGBM] [Warning] bagging_fraction is set=0.8597344848927815, subsample=1.0 will be ignored. Current value: bagging_fraction=0.8597344848927815\n",
      "[LightGBM] [Warning] min_sum_hessian_in_leaf is set=4.792414358623587e-05, min_child_weight=0.001 will be ignored. Current value: min_sum_hessian_in_leaf=4.792414358623587e-05\n",
      "[LightGBM] [Warning] min_data_in_leaf is set=61, min_child_samples=20 will be ignored. Current value: min_data_in_leaf=61\n",
      "[LightGBM] [Warning] feature_fraction is set=0.7756573845414456, colsample_bytree=1.0 will be ignored. Current value: feature_fraction=0.7756573845414456\n",
      "[LightGBM] [Warning] bagging_freq is set=1, subsample_freq=0 will be ignored. Current value: bagging_freq=1\n",
      "[LightGBM] [Warning] bagging_fraction is set=0.8597344848927815, subsample=1.0 will be ignored. Current value: bagging_fraction=0.8597344848927815\n",
      "[LightGBM] [Warning] min_sum_hessian_in_leaf is set=4.792414358623587e-05, min_child_weight=0.001 will be ignored. Current value: min_sum_hessian_in_leaf=4.792414358623587e-05\n",
      "[LightGBM] [Warning] min_data_in_leaf is set=61, min_child_samples=20 will be ignored. Current value: min_data_in_leaf=61\n",
      "[LightGBM] [Warning] feature_fraction is set=0.7756573845414456, colsample_bytree=1.0 will be ignored. Current value: feature_fraction=0.7756573845414456\n",
      "[LightGBM] [Warning] bagging_freq is set=1, subsample_freq=0 will be ignored. Current value: bagging_freq=1\n"
     ]
    },
    {
     "name": "stderr",
     "output_type": "stream",
     "text": [
      "\u001b[32m[I 2023-03-13 15:09:25,775]\u001b[0m Trial 0 finished with value: 0.7993333333333333 and parameters: {'num_leaves': 181, 'min_data_in_leaf': 61, 'min_sum_hessian_in_leaf': 4.792414358623587e-05, 'feature_fraction': 0.7756573845414456, 'bagging_fraction': 0.8597344848927815, 'reg_alpha': 0.492522233779106, 'reg_lambda': 83.76388146302445}. Best is trial 0 with value: 0.7993333333333333.\u001b[0m\n"
     ]
    },
    {
     "name": "stdout",
     "output_type": "stream",
     "text": [
      "[LightGBM] [Warning] bagging_fraction is set=0.8645248536920208, subsample=1.0 will be ignored. Current value: bagging_fraction=0.8645248536920208\n",
      "[LightGBM] [Warning] min_sum_hessian_in_leaf is set=0.00015009027543233888, min_child_weight=0.001 will be ignored. Current value: min_sum_hessian_in_leaf=0.00015009027543233888\n",
      "[LightGBM] [Warning] min_data_in_leaf is set=99, min_child_samples=20 will be ignored. Current value: min_data_in_leaf=99\n",
      "[LightGBM] [Warning] feature_fraction is set=0.6715890080754348, colsample_bytree=1.0 will be ignored. Current value: feature_fraction=0.6715890080754348\n",
      "[LightGBM] [Warning] bagging_freq is set=1, subsample_freq=0 will be ignored. Current value: bagging_freq=1\n",
      "[LightGBM] [Warning] bagging_fraction is set=0.8645248536920208, subsample=1.0 will be ignored. Current value: bagging_fraction=0.8645248536920208\n",
      "[LightGBM] [Warning] min_sum_hessian_in_leaf is set=0.00015009027543233888, min_child_weight=0.001 will be ignored. Current value: min_sum_hessian_in_leaf=0.00015009027543233888\n",
      "[LightGBM] [Warning] min_data_in_leaf is set=99, min_child_samples=20 will be ignored. Current value: min_data_in_leaf=99\n",
      "[LightGBM] [Warning] feature_fraction is set=0.6715890080754348, colsample_bytree=1.0 will be ignored. Current value: feature_fraction=0.6715890080754348\n",
      "[LightGBM] [Warning] bagging_freq is set=1, subsample_freq=0 will be ignored. Current value: bagging_freq=1\n",
      "[LightGBM] [Warning] bagging_fraction is set=0.8645248536920208, subsample=1.0 will be ignored. Current value: bagging_fraction=0.8645248536920208\n",
      "[LightGBM] [Warning] min_sum_hessian_in_leaf is set=0.00015009027543233888, min_child_weight=0.001 will be ignored. Current value: min_sum_hessian_in_leaf=0.00015009027543233888\n",
      "[LightGBM] [Warning] min_data_in_leaf is set=99, min_child_samples=20 will be ignored. Current value: min_data_in_leaf=99\n",
      "[LightGBM] [Warning] feature_fraction is set=0.6715890080754348, colsample_bytree=1.0 will be ignored. Current value: feature_fraction=0.6715890080754348\n",
      "[LightGBM] [Warning] bagging_freq is set=1, subsample_freq=0 will be ignored. Current value: bagging_freq=1\n",
      "[LightGBM] [Warning] bagging_fraction is set=0.8645248536920208, subsample=1.0 will be ignored. Current value: bagging_fraction=0.8645248536920208\n",
      "[LightGBM] [Warning] min_sum_hessian_in_leaf is set=0.00015009027543233888, min_child_weight=0.001 will be ignored. Current value: min_sum_hessian_in_leaf=0.00015009027543233888\n",
      "[LightGBM] [Warning] min_data_in_leaf is set=99, min_child_samples=20 will be ignored. Current value: min_data_in_leaf=99\n",
      "[LightGBM] [Warning] feature_fraction is set=0.6715890080754348, colsample_bytree=1.0 will be ignored. Current value: feature_fraction=0.6715890080754348\n",
      "[LightGBM] [Warning] bagging_freq is set=1, subsample_freq=0 will be ignored. Current value: bagging_freq=1\n"
     ]
    },
    {
     "name": "stderr",
     "output_type": "stream",
     "text": [
      "\u001b[32m[I 2023-03-13 15:09:26,644]\u001b[0m Trial 1 finished with value: 0.806 and parameters: {'num_leaves': 178, 'min_data_in_leaf': 99, 'min_sum_hessian_in_leaf': 0.00015009027543233888, 'feature_fraction': 0.6715890080754348, 'bagging_fraction': 0.8645248536920208, 'reg_alpha': 0.567922374174008, 'reg_lambda': 0.01732652966363563}. Best is trial 1 with value: 0.806.\u001b[0m\n"
     ]
    },
    {
     "name": "stdout",
     "output_type": "stream",
     "text": [
      "[LightGBM] [Warning] bagging_fraction is set=0.7657756869209191, subsample=1.0 will be ignored. Current value: bagging_fraction=0.7657756869209191\n",
      "[LightGBM] [Warning] min_sum_hessian_in_leaf is set=3.52756635172055e-05, min_child_weight=0.001 will be ignored. Current value: min_sum_hessian_in_leaf=3.52756635172055e-05\n",
      "[LightGBM] [Warning] min_data_in_leaf is set=149, min_child_samples=20 will be ignored. Current value: min_data_in_leaf=149\n",
      "[LightGBM] [Warning] feature_fraction is set=0.5877258780737462, colsample_bytree=1.0 will be ignored. Current value: feature_fraction=0.5877258780737462\n",
      "[LightGBM] [Warning] bagging_freq is set=1, subsample_freq=0 will be ignored. Current value: bagging_freq=1\n",
      "[LightGBM] [Warning] bagging_fraction is set=0.7657756869209191, subsample=1.0 will be ignored. Current value: bagging_fraction=0.7657756869209191\n",
      "[LightGBM] [Warning] min_sum_hessian_in_leaf is set=3.52756635172055e-05, min_child_weight=0.001 will be ignored. Current value: min_sum_hessian_in_leaf=3.52756635172055e-05\n",
      "[LightGBM] [Warning] min_data_in_leaf is set=149, min_child_samples=20 will be ignored. Current value: min_data_in_leaf=149\n",
      "[LightGBM] [Warning] feature_fraction is set=0.5877258780737462, colsample_bytree=1.0 will be ignored. Current value: feature_fraction=0.5877258780737462\n",
      "[LightGBM] [Warning] bagging_freq is set=1, subsample_freq=0 will be ignored. Current value: bagging_freq=1\n",
      "[LightGBM] [Warning] bagging_fraction is set=0.7657756869209191, subsample=1.0 will be ignored. Current value: bagging_fraction=0.7657756869209191\n",
      "[LightGBM] [Warning] min_sum_hessian_in_leaf is set=3.52756635172055e-05, min_child_weight=0.001 will be ignored. Current value: min_sum_hessian_in_leaf=3.52756635172055e-05\n",
      "[LightGBM] [Warning] min_data_in_leaf is set=149, min_child_samples=20 will be ignored. Current value: min_data_in_leaf=149\n",
      "[LightGBM] [Warning] feature_fraction is set=0.5877258780737462, colsample_bytree=1.0 will be ignored. Current value: feature_fraction=0.5877258780737462\n",
      "[LightGBM] [Warning] bagging_freq is set=1, subsample_freq=0 will be ignored. Current value: bagging_freq=1\n",
      "[LightGBM] [Warning] bagging_fraction is set=0.7657756869209191, subsample=1.0 will be ignored. Current value: bagging_fraction=0.7657756869209191\n",
      "[LightGBM] [Warning] min_sum_hessian_in_leaf is set=3.52756635172055e-05, min_child_weight=0.001 will be ignored. Current value: min_sum_hessian_in_leaf=3.52756635172055e-05\n",
      "[LightGBM] [Warning] min_data_in_leaf is set=149, min_child_samples=20 will be ignored. Current value: min_data_in_leaf=149\n",
      "[LightGBM] [Warning] feature_fraction is set=0.5877258780737462, colsample_bytree=1.0 will be ignored. Current value: feature_fraction=0.5877258780737462\n",
      "[LightGBM] [Warning] bagging_freq is set=1, subsample_freq=0 will be ignored. Current value: bagging_freq=1\n"
     ]
    },
    {
     "name": "stderr",
     "output_type": "stream",
     "text": [
      "\u001b[32m[I 2023-03-13 15:09:27,921]\u001b[0m Trial 2 finished with value: 0.8056666666666668 and parameters: {'num_leaves': 107, 'min_data_in_leaf': 149, 'min_sum_hessian_in_leaf': 3.52756635172055e-05, 'feature_fraction': 0.5877258780737462, 'bagging_fraction': 0.7657756869209191, 'reg_alpha': 1.3406343673102123, 'reg_lambda': 3.4482904089131434}. Best is trial 1 with value: 0.806.\u001b[0m\n"
     ]
    },
    {
     "name": "stdout",
     "output_type": "stream",
     "text": [
      "[LightGBM] [Warning] bagging_fraction is set=0.6614794569265892, subsample=1.0 will be ignored. Current value: bagging_fraction=0.6614794569265892\n",
      "[LightGBM] [Warning] min_sum_hessian_in_leaf is set=0.0006808799287054756, min_child_weight=0.001 will be ignored. Current value: min_sum_hessian_in_leaf=0.0006808799287054756\n",
      "[LightGBM] [Warning] min_data_in_leaf is set=146, min_child_samples=20 will be ignored. Current value: min_data_in_leaf=146\n",
      "[LightGBM] [Warning] feature_fraction is set=0.8612216912851107, colsample_bytree=1.0 will be ignored. Current value: feature_fraction=0.8612216912851107\n",
      "[LightGBM] [Warning] bagging_freq is set=1, subsample_freq=0 will be ignored. Current value: bagging_freq=1\n",
      "[LightGBM] [Warning] bagging_fraction is set=0.6614794569265892, subsample=1.0 will be ignored. Current value: bagging_fraction=0.6614794569265892\n",
      "[LightGBM] [Warning] min_sum_hessian_in_leaf is set=0.0006808799287054756, min_child_weight=0.001 will be ignored. Current value: min_sum_hessian_in_leaf=0.0006808799287054756\n",
      "[LightGBM] [Warning] min_data_in_leaf is set=146, min_child_samples=20 will be ignored. Current value: min_data_in_leaf=146\n",
      "[LightGBM] [Warning] feature_fraction is set=0.8612216912851107, colsample_bytree=1.0 will be ignored. Current value: feature_fraction=0.8612216912851107\n",
      "[LightGBM] [Warning] bagging_freq is set=1, subsample_freq=0 will be ignored. Current value: bagging_freq=1\n",
      "[LightGBM] [Warning] bagging_fraction is set=0.6614794569265892, subsample=1.0 will be ignored. Current value: bagging_fraction=0.6614794569265892\n",
      "[LightGBM] [Warning] min_sum_hessian_in_leaf is set=0.0006808799287054756, min_child_weight=0.001 will be ignored. Current value: min_sum_hessian_in_leaf=0.0006808799287054756\n",
      "[LightGBM] [Warning] min_data_in_leaf is set=146, min_child_samples=20 will be ignored. Current value: min_data_in_leaf=146\n",
      "[LightGBM] [Warning] feature_fraction is set=0.8612216912851107, colsample_bytree=1.0 will be ignored. Current value: feature_fraction=0.8612216912851107\n",
      "[LightGBM] [Warning] bagging_freq is set=1, subsample_freq=0 will be ignored. Current value: bagging_freq=1\n",
      "[LightGBM] [Warning] bagging_fraction is set=0.6614794569265892, subsample=1.0 will be ignored. Current value: bagging_fraction=0.6614794569265892\n",
      "[LightGBM] [Warning] min_sum_hessian_in_leaf is set=0.0006808799287054756, min_child_weight=0.001 will be ignored. Current value: min_sum_hessian_in_leaf=0.0006808799287054756\n",
      "[LightGBM] [Warning] min_data_in_leaf is set=146, min_child_samples=20 will be ignored. Current value: min_data_in_leaf=146\n",
      "[LightGBM] [Warning] feature_fraction is set=0.8612216912851107, colsample_bytree=1.0 will be ignored. Current value: feature_fraction=0.8612216912851107\n",
      "[LightGBM] [Warning] bagging_freq is set=1, subsample_freq=0 will be ignored. Current value: bagging_freq=1\n"
     ]
    },
    {
     "name": "stderr",
     "output_type": "stream",
     "text": [
      "\u001b[32m[I 2023-03-13 15:09:29,020]\u001b[0m Trial 3 finished with value: 0.8013333333333333 and parameters: {'num_leaves': 219, 'min_data_in_leaf': 146, 'min_sum_hessian_in_leaf': 0.0006808799287054756, 'feature_fraction': 0.8612216912851107, 'bagging_fraction': 0.6614794569265892, 'reg_alpha': 0.2799978022399009, 'reg_lambda': 0.08185645330667264}. Best is trial 1 with value: 0.806.\u001b[0m\n"
     ]
    },
    {
     "name": "stdout",
     "output_type": "stream",
     "text": [
      "[LightGBM] [Warning] bagging_fraction is set=0.7154313816648219, subsample=1.0 will be ignored. Current value: bagging_fraction=0.7154313816648219\n",
      "[LightGBM] [Warning] min_sum_hessian_in_leaf is set=1.889360449174926e-05, min_child_weight=0.001 will be ignored. Current value: min_sum_hessian_in_leaf=1.889360449174926e-05\n",
      "[LightGBM] [Warning] min_data_in_leaf is set=128, min_child_samples=20 will be ignored. Current value: min_data_in_leaf=128\n",
      "[LightGBM] [Warning] feature_fraction is set=0.7168505863397641, colsample_bytree=1.0 will be ignored. Current value: feature_fraction=0.7168505863397641\n",
      "[LightGBM] [Warning] bagging_freq is set=1, subsample_freq=0 will be ignored. Current value: bagging_freq=1\n",
      "[LightGBM] [Warning] bagging_fraction is set=0.7154313816648219, subsample=1.0 will be ignored. Current value: bagging_fraction=0.7154313816648219\n",
      "[LightGBM] [Warning] min_sum_hessian_in_leaf is set=1.889360449174926e-05, min_child_weight=0.001 will be ignored. Current value: min_sum_hessian_in_leaf=1.889360449174926e-05\n",
      "[LightGBM] [Warning] min_data_in_leaf is set=128, min_child_samples=20 will be ignored. Current value: min_data_in_leaf=128\n",
      "[LightGBM] [Warning] feature_fraction is set=0.7168505863397641, colsample_bytree=1.0 will be ignored. Current value: feature_fraction=0.7168505863397641\n",
      "[LightGBM] [Warning] bagging_freq is set=1, subsample_freq=0 will be ignored. Current value: bagging_freq=1\n",
      "[LightGBM] [Warning] bagging_fraction is set=0.7154313816648219, subsample=1.0 will be ignored. Current value: bagging_fraction=0.7154313816648219\n",
      "[LightGBM] [Warning] min_sum_hessian_in_leaf is set=1.889360449174926e-05, min_child_weight=0.001 will be ignored. Current value: min_sum_hessian_in_leaf=1.889360449174926e-05\n",
      "[LightGBM] [Warning] min_data_in_leaf is set=128, min_child_samples=20 will be ignored. Current value: min_data_in_leaf=128\n",
      "[LightGBM] [Warning] feature_fraction is set=0.7168505863397641, colsample_bytree=1.0 will be ignored. Current value: feature_fraction=0.7168505863397641\n",
      "[LightGBM] [Warning] bagging_freq is set=1, subsample_freq=0 will be ignored. Current value: bagging_freq=1\n",
      "[LightGBM] [Warning] bagging_fraction is set=0.7154313816648219, subsample=1.0 will be ignored. Current value: bagging_fraction=0.7154313816648219\n",
      "[LightGBM] [Warning] min_sum_hessian_in_leaf is set=1.889360449174926e-05, min_child_weight=0.001 will be ignored. Current value: min_sum_hessian_in_leaf=1.889360449174926e-05\n",
      "[LightGBM] [Warning] min_data_in_leaf is set=128, min_child_samples=20 will be ignored. Current value: min_data_in_leaf=128\n",
      "[LightGBM] [Warning] feature_fraction is set=0.7168505863397641, colsample_bytree=1.0 will be ignored. Current value: feature_fraction=0.7168505863397641\n",
      "[LightGBM] [Warning] bagging_freq is set=1, subsample_freq=0 will be ignored. Current value: bagging_freq=1\n"
     ]
    },
    {
     "name": "stderr",
     "output_type": "stream",
     "text": [
      "\u001b[32m[I 2023-03-13 15:09:29,888]\u001b[0m Trial 4 finished with value: 0.8073333333333333 and parameters: {'num_leaves': 81, 'min_data_in_leaf': 128, 'min_sum_hessian_in_leaf': 1.889360449174926e-05, 'feature_fraction': 0.7168505863397641, 'bagging_fraction': 0.7154313816648219, 'reg_alpha': 0.9434967110751797, 'reg_lambda': 0.5050346330980694}. Best is trial 4 with value: 0.8073333333333333.\u001b[0m\n"
     ]
    },
    {
     "name": "stdout",
     "output_type": "stream",
     "text": [
      "[LightGBM] [Warning] bagging_fraction is set=0.7509183379421682, subsample=1.0 will be ignored. Current value: bagging_fraction=0.7509183379421682\n",
      "[LightGBM] [Warning] min_sum_hessian_in_leaf is set=0.004788147156768277, min_child_weight=0.001 will be ignored. Current value: min_sum_hessian_in_leaf=0.004788147156768277\n",
      "[LightGBM] [Warning] min_data_in_leaf is set=88, min_child_samples=20 will be ignored. Current value: min_data_in_leaf=88\n",
      "[LightGBM] [Warning] feature_fraction is set=0.9720800091019398, colsample_bytree=1.0 will be ignored. Current value: feature_fraction=0.9720800091019398\n",
      "[LightGBM] [Warning] bagging_freq is set=1, subsample_freq=0 will be ignored. Current value: bagging_freq=1\n",
      "[LightGBM] [Warning] bagging_fraction is set=0.7509183379421682, subsample=1.0 will be ignored. Current value: bagging_fraction=0.7509183379421682\n",
      "[LightGBM] [Warning] min_sum_hessian_in_leaf is set=0.004788147156768277, min_child_weight=0.001 will be ignored. Current value: min_sum_hessian_in_leaf=0.004788147156768277\n",
      "[LightGBM] [Warning] min_data_in_leaf is set=88, min_child_samples=20 will be ignored. Current value: min_data_in_leaf=88\n",
      "[LightGBM] [Warning] feature_fraction is set=0.9720800091019398, colsample_bytree=1.0 will be ignored. Current value: feature_fraction=0.9720800091019398\n",
      "[LightGBM] [Warning] bagging_freq is set=1, subsample_freq=0 will be ignored. Current value: bagging_freq=1\n",
      "[LightGBM] [Warning] bagging_fraction is set=0.7509183379421682, subsample=1.0 will be ignored. Current value: bagging_fraction=0.7509183379421682\n",
      "[LightGBM] [Warning] min_sum_hessian_in_leaf is set=0.004788147156768277, min_child_weight=0.001 will be ignored. Current value: min_sum_hessian_in_leaf=0.004788147156768277\n",
      "[LightGBM] [Warning] min_data_in_leaf is set=88, min_child_samples=20 will be ignored. Current value: min_data_in_leaf=88\n",
      "[LightGBM] [Warning] feature_fraction is set=0.9720800091019398, colsample_bytree=1.0 will be ignored. Current value: feature_fraction=0.9720800091019398\n",
      "[LightGBM] [Warning] bagging_freq is set=1, subsample_freq=0 will be ignored. Current value: bagging_freq=1\n",
      "[LightGBM] [Warning] bagging_fraction is set=0.7509183379421682, subsample=1.0 will be ignored. Current value: bagging_fraction=0.7509183379421682\n",
      "[LightGBM] [Warning] min_sum_hessian_in_leaf is set=0.004788147156768277, min_child_weight=0.001 will be ignored. Current value: min_sum_hessian_in_leaf=0.004788147156768277\n",
      "[LightGBM] [Warning] min_data_in_leaf is set=88, min_child_samples=20 will be ignored. Current value: min_data_in_leaf=88\n",
      "[LightGBM] [Warning] feature_fraction is set=0.9720800091019398, colsample_bytree=1.0 will be ignored. Current value: feature_fraction=0.9720800091019398\n",
      "[LightGBM] [Warning] bagging_freq is set=1, subsample_freq=0 will be ignored. Current value: bagging_freq=1\n"
     ]
    },
    {
     "name": "stderr",
     "output_type": "stream",
     "text": [
      "\u001b[32m[I 2023-03-13 15:09:30,863]\u001b[0m Trial 5 finished with value: 0.8043333333333333 and parameters: {'num_leaves': 85, 'min_data_in_leaf': 88, 'min_sum_hessian_in_leaf': 0.004788147156768277, 'feature_fraction': 0.9720800091019398, 'bagging_fraction': 0.7509183379421682, 'reg_alpha': 3.1319282717196035, 'reg_lambda': 0.029005047452739414}. Best is trial 4 with value: 0.8073333333333333.\u001b[0m\n"
     ]
    },
    {
     "name": "stdout",
     "output_type": "stream",
     "text": [
      "[LightGBM] [Warning] bagging_fraction is set=0.7415171321313522, subsample=1.0 will be ignored. Current value: bagging_fraction=0.7415171321313522\n",
      "[LightGBM] [Warning] min_sum_hessian_in_leaf is set=0.003971252247766701, min_child_weight=0.001 will be ignored. Current value: min_sum_hessian_in_leaf=0.003971252247766701\n",
      "[LightGBM] [Warning] min_data_in_leaf is set=86, min_child_samples=20 will be ignored. Current value: min_data_in_leaf=86\n",
      "[LightGBM] [Warning] feature_fraction is set=0.6252276826982534, colsample_bytree=1.0 will be ignored. Current value: feature_fraction=0.6252276826982534\n",
      "[LightGBM] [Warning] bagging_freq is set=1, subsample_freq=0 will be ignored. Current value: bagging_freq=1\n",
      "[LightGBM] [Warning] bagging_fraction is set=0.7415171321313522, subsample=1.0 will be ignored. Current value: bagging_fraction=0.7415171321313522\n",
      "[LightGBM] [Warning] min_sum_hessian_in_leaf is set=0.003971252247766701, min_child_weight=0.001 will be ignored. Current value: min_sum_hessian_in_leaf=0.003971252247766701\n",
      "[LightGBM] [Warning] min_data_in_leaf is set=86, min_child_samples=20 will be ignored. Current value: min_data_in_leaf=86\n",
      "[LightGBM] [Warning] feature_fraction is set=0.6252276826982534, colsample_bytree=1.0 will be ignored. Current value: feature_fraction=0.6252276826982534\n",
      "[LightGBM] [Warning] bagging_freq is set=1, subsample_freq=0 will be ignored. Current value: bagging_freq=1\n"
     ]
    },
    {
     "name": "stderr",
     "output_type": "stream",
     "text": [
      "\u001b[32m[I 2023-03-13 15:09:31,213]\u001b[0m Trial 6 finished with value: 0.7366666666666667 and parameters: {'num_leaves': 87, 'min_data_in_leaf': 86, 'min_sum_hessian_in_leaf': 0.003971252247766701, 'feature_fraction': 0.6252276826982534, 'bagging_fraction': 0.7415171321313522, 'reg_alpha': 87.54657140659076, 'reg_lambda': 1.1965765212602313}. Best is trial 4 with value: 0.8073333333333333.\u001b[0m\n"
     ]
    },
    {
     "name": "stdout",
     "output_type": "stream",
     "text": [
      "[LightGBM] [Warning] bagging_fraction is set=0.7415171321313522, subsample=1.0 will be ignored. Current value: bagging_fraction=0.7415171321313522\n",
      "[LightGBM] [Warning] min_sum_hessian_in_leaf is set=0.003971252247766701, min_child_weight=0.001 will be ignored. Current value: min_sum_hessian_in_leaf=0.003971252247766701\n",
      "[LightGBM] [Warning] min_data_in_leaf is set=86, min_child_samples=20 will be ignored. Current value: min_data_in_leaf=86\n",
      "[LightGBM] [Warning] feature_fraction is set=0.6252276826982534, colsample_bytree=1.0 will be ignored. Current value: feature_fraction=0.6252276826982534\n",
      "[LightGBM] [Warning] bagging_freq is set=1, subsample_freq=0 will be ignored. Current value: bagging_freq=1\n",
      "[LightGBM] [Warning] bagging_fraction is set=0.7415171321313522, subsample=1.0 will be ignored. Current value: bagging_fraction=0.7415171321313522\n",
      "[LightGBM] [Warning] min_sum_hessian_in_leaf is set=0.003971252247766701, min_child_weight=0.001 will be ignored. Current value: min_sum_hessian_in_leaf=0.003971252247766701\n",
      "[LightGBM] [Warning] min_data_in_leaf is set=86, min_child_samples=20 will be ignored. Current value: min_data_in_leaf=86\n",
      "[LightGBM] [Warning] feature_fraction is set=0.6252276826982534, colsample_bytree=1.0 will be ignored. Current value: feature_fraction=0.6252276826982534\n",
      "[LightGBM] [Warning] bagging_freq is set=1, subsample_freq=0 will be ignored. Current value: bagging_freq=1\n",
      "[LightGBM] [Warning] bagging_fraction is set=0.7725340032332324, subsample=1.0 will be ignored. Current value: bagging_fraction=0.7725340032332324\n",
      "[LightGBM] [Warning] min_sum_hessian_in_leaf is set=0.0030131614432849746, min_child_weight=0.001 will be ignored. Current value: min_sum_hessian_in_leaf=0.0030131614432849746\n",
      "[LightGBM] [Warning] min_data_in_leaf is set=28, min_child_samples=20 will be ignored. Current value: min_data_in_leaf=28\n",
      "[LightGBM] [Warning] feature_fraction is set=0.8015300642054637, colsample_bytree=1.0 will be ignored. Current value: feature_fraction=0.8015300642054637\n",
      "[LightGBM] [Warning] bagging_freq is set=1, subsample_freq=0 will be ignored. Current value: bagging_freq=1\n",
      "[LightGBM] [Warning] bagging_fraction is set=0.7725340032332324, subsample=1.0 will be ignored. Current value: bagging_fraction=0.7725340032332324\n",
      "[LightGBM] [Warning] min_sum_hessian_in_leaf is set=0.0030131614432849746, min_child_weight=0.001 will be ignored. Current value: min_sum_hessian_in_leaf=0.0030131614432849746\n",
      "[LightGBM] [Warning] min_data_in_leaf is set=28, min_child_samples=20 will be ignored. Current value: min_data_in_leaf=28\n",
      "[LightGBM] [Warning] feature_fraction is set=0.8015300642054637, colsample_bytree=1.0 will be ignored. Current value: feature_fraction=0.8015300642054637\n",
      "[LightGBM] [Warning] bagging_freq is set=1, subsample_freq=0 will be ignored. Current value: bagging_freq=1\n",
      "[LightGBM] [Warning] bagging_fraction is set=0.7725340032332324, subsample=1.0 will be ignored. Current value: bagging_fraction=0.7725340032332324\n",
      "[LightGBM] [Warning] min_sum_hessian_in_leaf is set=0.0030131614432849746, min_child_weight=0.001 will be ignored. Current value: min_sum_hessian_in_leaf=0.0030131614432849746\n",
      "[LightGBM] [Warning] min_data_in_leaf is set=28, min_child_samples=20 will be ignored. Current value: min_data_in_leaf=28\n",
      "[LightGBM] [Warning] feature_fraction is set=0.8015300642054637, colsample_bytree=1.0 will be ignored. Current value: feature_fraction=0.8015300642054637\n",
      "[LightGBM] [Warning] bagging_freq is set=1, subsample_freq=0 will be ignored. Current value: bagging_freq=1\n",
      "[LightGBM] [Warning] bagging_fraction is set=0.7725340032332324, subsample=1.0 will be ignored. Current value: bagging_fraction=0.7725340032332324\n",
      "[LightGBM] [Warning] min_sum_hessian_in_leaf is set=0.0030131614432849746, min_child_weight=0.001 will be ignored. Current value: min_sum_hessian_in_leaf=0.0030131614432849746\n",
      "[LightGBM] [Warning] min_data_in_leaf is set=28, min_child_samples=20 will be ignored. Current value: min_data_in_leaf=28\n",
      "[LightGBM] [Warning] feature_fraction is set=0.8015300642054637, colsample_bytree=1.0 will be ignored. Current value: feature_fraction=0.8015300642054637\n",
      "[LightGBM] [Warning] bagging_freq is set=1, subsample_freq=0 will be ignored. Current value: bagging_freq=1\n"
     ]
    },
    {
     "name": "stderr",
     "output_type": "stream",
     "text": [
      "\u001b[32m[I 2023-03-13 15:09:32,113]\u001b[0m Trial 7 finished with value: 0.7973333333333333 and parameters: {'num_leaves': 160, 'min_data_in_leaf': 28, 'min_sum_hessian_in_leaf': 0.0030131614432849746, 'feature_fraction': 0.8015300642054637, 'bagging_fraction': 0.7725340032332324, 'reg_alpha': 0.23499322154972468, 'reg_lambda': 0.1646202117975735}. Best is trial 4 with value: 0.8073333333333333.\u001b[0m\n"
     ]
    },
    {
     "name": "stdout",
     "output_type": "stream",
     "text": [
      "[LightGBM] [Warning] bagging_fraction is set=0.8346568914811361, subsample=1.0 will be ignored. Current value: bagging_fraction=0.8346568914811361\n",
      "[LightGBM] [Warning] min_sum_hessian_in_leaf is set=0.00423029374725911, min_child_weight=0.001 will be ignored. Current value: min_sum_hessian_in_leaf=0.00423029374725911\n",
      "[LightGBM] [Warning] min_data_in_leaf is set=138, min_child_samples=20 will be ignored. Current value: min_data_in_leaf=138\n",
      "[LightGBM] [Warning] feature_fraction is set=0.7552111687390055, colsample_bytree=1.0 will be ignored. Current value: feature_fraction=0.7552111687390055\n",
      "[LightGBM] [Warning] bagging_freq is set=1, subsample_freq=0 will be ignored. Current value: bagging_freq=1\n",
      "[LightGBM] [Warning] bagging_fraction is set=0.8346568914811361, subsample=1.0 will be ignored. Current value: bagging_fraction=0.8346568914811361\n",
      "[LightGBM] [Warning] min_sum_hessian_in_leaf is set=0.00423029374725911, min_child_weight=0.001 will be ignored. Current value: min_sum_hessian_in_leaf=0.00423029374725911\n",
      "[LightGBM] [Warning] min_data_in_leaf is set=138, min_child_samples=20 will be ignored. Current value: min_data_in_leaf=138\n",
      "[LightGBM] [Warning] feature_fraction is set=0.7552111687390055, colsample_bytree=1.0 will be ignored. Current value: feature_fraction=0.7552111687390055\n",
      "[LightGBM] [Warning] bagging_freq is set=1, subsample_freq=0 will be ignored. Current value: bagging_freq=1\n",
      "[LightGBM] [Warning] bagging_fraction is set=0.8346568914811361, subsample=1.0 will be ignored. Current value: bagging_fraction=0.8346568914811361\n",
      "[LightGBM] [Warning] min_sum_hessian_in_leaf is set=0.00423029374725911, min_child_weight=0.001 will be ignored. Current value: min_sum_hessian_in_leaf=0.00423029374725911\n",
      "[LightGBM] [Warning] min_data_in_leaf is set=138, min_child_samples=20 will be ignored. Current value: min_data_in_leaf=138\n",
      "[LightGBM] [Warning] feature_fraction is set=0.7552111687390055, colsample_bytree=1.0 will be ignored. Current value: feature_fraction=0.7552111687390055\n",
      "[LightGBM] [Warning] bagging_freq is set=1, subsample_freq=0 will be ignored. Current value: bagging_freq=1\n",
      "[LightGBM] [Warning] bagging_fraction is set=0.8346568914811361, subsample=1.0 will be ignored. Current value: bagging_fraction=0.8346568914811361\n",
      "[LightGBM] [Warning] min_sum_hessian_in_leaf is set=0.00423029374725911, min_child_weight=0.001 will be ignored. Current value: min_sum_hessian_in_leaf=0.00423029374725911\n",
      "[LightGBM] [Warning] min_data_in_leaf is set=138, min_child_samples=20 will be ignored. Current value: min_data_in_leaf=138\n",
      "[LightGBM] [Warning] feature_fraction is set=0.7552111687390055, colsample_bytree=1.0 will be ignored. Current value: feature_fraction=0.7552111687390055\n",
      "[LightGBM] [Warning] bagging_freq is set=1, subsample_freq=0 will be ignored. Current value: bagging_freq=1\n"
     ]
    },
    {
     "name": "stderr",
     "output_type": "stream",
     "text": [
      "\u001b[32m[I 2023-03-13 15:09:33,093]\u001b[0m Trial 8 finished with value: 0.8043333333333333 and parameters: {'num_leaves': 111, 'min_data_in_leaf': 138, 'min_sum_hessian_in_leaf': 0.00423029374725911, 'feature_fraction': 0.7552111687390055, 'bagging_fraction': 0.8346568914811361, 'reg_alpha': 2.206714812711709, 'reg_lambda': 3.1594683442464033}. Best is trial 4 with value: 0.8073333333333333.\u001b[0m\n"
     ]
    },
    {
     "name": "stdout",
     "output_type": "stream",
     "text": [
      "[LightGBM] [Warning] bagging_fraction is set=0.6218331872684371, subsample=1.0 will be ignored. Current value: bagging_fraction=0.6218331872684371\n",
      "[LightGBM] [Warning] min_sum_hessian_in_leaf is set=1.7765808030254076e-05, min_child_weight=0.001 will be ignored. Current value: min_sum_hessian_in_leaf=1.7765808030254076e-05\n",
      "[LightGBM] [Warning] min_data_in_leaf is set=170, min_child_samples=20 will be ignored. Current value: min_data_in_leaf=170\n",
      "[LightGBM] [Warning] feature_fraction is set=0.8818414207216692, colsample_bytree=1.0 will be ignored. Current value: feature_fraction=0.8818414207216692\n",
      "[LightGBM] [Warning] bagging_freq is set=1, subsample_freq=0 will be ignored. Current value: bagging_freq=1\n",
      "[LightGBM] [Warning] bagging_fraction is set=0.6218331872684371, subsample=1.0 will be ignored. Current value: bagging_fraction=0.6218331872684371\n",
      "[LightGBM] [Warning] min_sum_hessian_in_leaf is set=1.7765808030254076e-05, min_child_weight=0.001 will be ignored. Current value: min_sum_hessian_in_leaf=1.7765808030254076e-05\n",
      "[LightGBM] [Warning] min_data_in_leaf is set=170, min_child_samples=20 will be ignored. Current value: min_data_in_leaf=170\n",
      "[LightGBM] [Warning] feature_fraction is set=0.8818414207216692, colsample_bytree=1.0 will be ignored. Current value: feature_fraction=0.8818414207216692\n",
      "[LightGBM] [Warning] bagging_freq is set=1, subsample_freq=0 will be ignored. Current value: bagging_freq=1\n",
      "[LightGBM] [Warning] bagging_fraction is set=0.6218331872684371, subsample=1.0 will be ignored. Current value: bagging_fraction=0.6218331872684371\n",
      "[LightGBM] [Warning] min_sum_hessian_in_leaf is set=1.7765808030254076e-05, min_child_weight=0.001 will be ignored. Current value: min_sum_hessian_in_leaf=1.7765808030254076e-05\n",
      "[LightGBM] [Warning] min_data_in_leaf is set=170, min_child_samples=20 will be ignored. Current value: min_data_in_leaf=170\n",
      "[LightGBM] [Warning] feature_fraction is set=0.8818414207216692, colsample_bytree=1.0 will be ignored. Current value: feature_fraction=0.8818414207216692\n",
      "[LightGBM] [Warning] bagging_freq is set=1, subsample_freq=0 will be ignored. Current value: bagging_freq=1\n",
      "[LightGBM] [Warning] bagging_fraction is set=0.6218331872684371, subsample=1.0 will be ignored. Current value: bagging_fraction=0.6218331872684371\n",
      "[LightGBM] [Warning] min_sum_hessian_in_leaf is set=1.7765808030254076e-05, min_child_weight=0.001 will be ignored. Current value: min_sum_hessian_in_leaf=1.7765808030254076e-05\n",
      "[LightGBM] [Warning] min_data_in_leaf is set=170, min_child_samples=20 will be ignored. Current value: min_data_in_leaf=170\n",
      "[LightGBM] [Warning] feature_fraction is set=0.8818414207216692, colsample_bytree=1.0 will be ignored. Current value: feature_fraction=0.8818414207216692\n",
      "[LightGBM] [Warning] bagging_freq is set=1, subsample_freq=0 will be ignored. Current value: bagging_freq=1\n"
     ]
    },
    {
     "name": "stderr",
     "output_type": "stream",
     "text": [
      "\u001b[32m[I 2023-03-13 15:09:34,239]\u001b[0m Trial 9 finished with value: 0.801 and parameters: {'num_leaves': 175, 'min_data_in_leaf': 170, 'min_sum_hessian_in_leaf': 1.7765808030254076e-05, 'feature_fraction': 0.8818414207216692, 'bagging_fraction': 0.6218331872684371, 'reg_alpha': 0.05982625838323253, 'reg_lambda': 1.9490717640641542}. Best is trial 4 with value: 0.8073333333333333.\u001b[0m\n"
     ]
    },
    {
     "name": "stdout",
     "output_type": "stream",
     "text": [
      "[LightGBM] [Warning] bagging_fraction is set=0.5232420679967527, subsample=1.0 will be ignored. Current value: bagging_fraction=0.5232420679967527\n",
      "[LightGBM] [Warning] min_sum_hessian_in_leaf is set=1.3879073485411927e-05, min_child_weight=0.001 will be ignored. Current value: min_sum_hessian_in_leaf=1.3879073485411927e-05\n",
      "[LightGBM] [Warning] min_data_in_leaf is set=199, min_child_samples=20 will be ignored. Current value: min_data_in_leaf=199\n",
      "[LightGBM] [Warning] feature_fraction is set=0.5040305717020102, colsample_bytree=1.0 will be ignored. Current value: feature_fraction=0.5040305717020102\n",
      "[LightGBM] [Warning] bagging_freq is set=1, subsample_freq=0 will be ignored. Current value: bagging_freq=1\n",
      "[LightGBM] [Warning] bagging_fraction is set=0.5232420679967527, subsample=1.0 will be ignored. Current value: bagging_fraction=0.5232420679967527\n",
      "[LightGBM] [Warning] min_sum_hessian_in_leaf is set=1.3879073485411927e-05, min_child_weight=0.001 will be ignored. Current value: min_sum_hessian_in_leaf=1.3879073485411927e-05\n",
      "[LightGBM] [Warning] min_data_in_leaf is set=199, min_child_samples=20 will be ignored. Current value: min_data_in_leaf=199\n",
      "[LightGBM] [Warning] feature_fraction is set=0.5040305717020102, colsample_bytree=1.0 will be ignored. Current value: feature_fraction=0.5040305717020102\n",
      "[LightGBM] [Warning] bagging_freq is set=1, subsample_freq=0 will be ignored. Current value: bagging_freq=1\n",
      "[LightGBM] [Warning] bagging_fraction is set=0.5232420679967527, subsample=1.0 will be ignored. Current value: bagging_fraction=0.5232420679967527\n",
      "[LightGBM] [Warning] min_sum_hessian_in_leaf is set=1.3879073485411927e-05, min_child_weight=0.001 will be ignored. Current value: min_sum_hessian_in_leaf=1.3879073485411927e-05\n",
      "[LightGBM] [Warning] min_data_in_leaf is set=199, min_child_samples=20 will be ignored. Current value: min_data_in_leaf=199\n",
      "[LightGBM] [Warning] feature_fraction is set=0.5040305717020102, colsample_bytree=1.0 will be ignored. Current value: feature_fraction=0.5040305717020102\n",
      "[LightGBM] [Warning] bagging_freq is set=1, subsample_freq=0 will be ignored. Current value: bagging_freq=1\n",
      "[LightGBM] [Warning] bagging_fraction is set=0.5232420679967527, subsample=1.0 will be ignored. Current value: bagging_fraction=0.5232420679967527\n",
      "[LightGBM] [Warning] min_sum_hessian_in_leaf is set=1.3879073485411927e-05, min_child_weight=0.001 will be ignored. Current value: min_sum_hessian_in_leaf=1.3879073485411927e-05\n",
      "[LightGBM] [Warning] min_data_in_leaf is set=199, min_child_samples=20 will be ignored. Current value: min_data_in_leaf=199\n",
      "[LightGBM] [Warning] feature_fraction is set=0.5040305717020102, colsample_bytree=1.0 will be ignored. Current value: feature_fraction=0.5040305717020102\n",
      "[LightGBM] [Warning] bagging_freq is set=1, subsample_freq=0 will be ignored. Current value: bagging_freq=1\n"
     ]
    },
    {
     "name": "stderr",
     "output_type": "stream",
     "text": [
      "\u001b[32m[I 2023-03-13 15:09:35,552]\u001b[0m Trial 10 finished with value: 0.7896666666666667 and parameters: {'num_leaves': 32, 'min_data_in_leaf': 199, 'min_sum_hessian_in_leaf': 1.3879073485411927e-05, 'feature_fraction': 0.5040305717020102, 'bagging_fraction': 0.5232420679967527, 'reg_alpha': 0.010612397212799423, 'reg_lambda': 0.2712616227691688}. Best is trial 4 with value: 0.8073333333333333.\u001b[0m\n"
     ]
    },
    {
     "name": "stdout",
     "output_type": "stream",
     "text": [
      "[LightGBM] [Warning] bagging_fraction is set=0.9816139361200471, subsample=1.0 will be ignored. Current value: bagging_fraction=0.9816139361200471\n",
      "[LightGBM] [Warning] min_sum_hessian_in_leaf is set=0.00012473136964355074, min_child_weight=0.001 will be ignored. Current value: min_sum_hessian_in_leaf=0.00012473136964355074\n",
      "[LightGBM] [Warning] min_data_in_leaf is set=113, min_child_samples=20 will be ignored. Current value: min_data_in_leaf=113\n",
      "[LightGBM] [Warning] feature_fraction is set=0.6730913658889374, colsample_bytree=1.0 will be ignored. Current value: feature_fraction=0.6730913658889374\n",
      "[LightGBM] [Warning] bagging_freq is set=1, subsample_freq=0 will be ignored. Current value: bagging_freq=1\n",
      "[LightGBM] [Warning] bagging_fraction is set=0.9816139361200471, subsample=1.0 will be ignored. Current value: bagging_fraction=0.9816139361200471\n",
      "[LightGBM] [Warning] min_sum_hessian_in_leaf is set=0.00012473136964355074, min_child_weight=0.001 will be ignored. Current value: min_sum_hessian_in_leaf=0.00012473136964355074\n",
      "[LightGBM] [Warning] min_data_in_leaf is set=113, min_child_samples=20 will be ignored. Current value: min_data_in_leaf=113\n",
      "[LightGBM] [Warning] feature_fraction is set=0.6730913658889374, colsample_bytree=1.0 will be ignored. Current value: feature_fraction=0.6730913658889374\n",
      "[LightGBM] [Warning] bagging_freq is set=1, subsample_freq=0 will be ignored. Current value: bagging_freq=1\n",
      "[LightGBM] [Warning] bagging_fraction is set=0.9816139361200471, subsample=1.0 will be ignored. Current value: bagging_fraction=0.9816139361200471\n",
      "[LightGBM] [Warning] min_sum_hessian_in_leaf is set=0.00012473136964355074, min_child_weight=0.001 will be ignored. Current value: min_sum_hessian_in_leaf=0.00012473136964355074\n",
      "[LightGBM] [Warning] min_data_in_leaf is set=113, min_child_samples=20 will be ignored. Current value: min_data_in_leaf=113\n",
      "[LightGBM] [Warning] feature_fraction is set=0.6730913658889374, colsample_bytree=1.0 will be ignored. Current value: feature_fraction=0.6730913658889374\n",
      "[LightGBM] [Warning] bagging_freq is set=1, subsample_freq=0 will be ignored. Current value: bagging_freq=1\n",
      "[LightGBM] [Warning] bagging_fraction is set=0.9816139361200471, subsample=1.0 will be ignored. Current value: bagging_fraction=0.9816139361200471\n",
      "[LightGBM] [Warning] min_sum_hessian_in_leaf is set=0.00012473136964355074, min_child_weight=0.001 will be ignored. Current value: min_sum_hessian_in_leaf=0.00012473136964355074\n",
      "[LightGBM] [Warning] min_data_in_leaf is set=113, min_child_samples=20 will be ignored. Current value: min_data_in_leaf=113\n",
      "[LightGBM] [Warning] feature_fraction is set=0.6730913658889374, colsample_bytree=1.0 will be ignored. Current value: feature_fraction=0.6730913658889374\n",
      "[LightGBM] [Warning] bagging_freq is set=1, subsample_freq=0 will be ignored. Current value: bagging_freq=1\n"
     ]
    },
    {
     "name": "stderr",
     "output_type": "stream",
     "text": [
      "\u001b[32m[I 2023-03-13 15:09:36,721]\u001b[0m Trial 11 finished with value: 0.804 and parameters: {'num_leaves': 244, 'min_data_in_leaf': 113, 'min_sum_hessian_in_leaf': 0.00012473136964355074, 'feature_fraction': 0.6730913658889374, 'bagging_fraction': 0.9816139361200471, 'reg_alpha': 6.343590915843685, 'reg_lambda': 0.010211649165953098}. Best is trial 4 with value: 0.8073333333333333.\u001b[0m\n"
     ]
    },
    {
     "name": "stdout",
     "output_type": "stream",
     "text": [
      "[LightGBM] [Warning] bagging_fraction is set=0.9257126652760607, subsample=1.0 will be ignored. Current value: bagging_fraction=0.9257126652760607\n",
      "[LightGBM] [Warning] min_sum_hessian_in_leaf is set=0.0001700347841423779, min_child_weight=0.001 will be ignored. Current value: min_sum_hessian_in_leaf=0.0001700347841423779\n",
      "[LightGBM] [Warning] min_data_in_leaf is set=114, min_child_samples=20 will be ignored. Current value: min_data_in_leaf=114\n",
      "[LightGBM] [Warning] feature_fraction is set=0.6931854383164288, colsample_bytree=1.0 will be ignored. Current value: feature_fraction=0.6931854383164288\n",
      "[LightGBM] [Warning] bagging_freq is set=1, subsample_freq=0 will be ignored. Current value: bagging_freq=1\n",
      "[LightGBM] [Warning] bagging_fraction is set=0.9257126652760607, subsample=1.0 will be ignored. Current value: bagging_fraction=0.9257126652760607\n",
      "[LightGBM] [Warning] min_sum_hessian_in_leaf is set=0.0001700347841423779, min_child_weight=0.001 will be ignored. Current value: min_sum_hessian_in_leaf=0.0001700347841423779\n",
      "[LightGBM] [Warning] min_data_in_leaf is set=114, min_child_samples=20 will be ignored. Current value: min_data_in_leaf=114\n",
      "[LightGBM] [Warning] feature_fraction is set=0.6931854383164288, colsample_bytree=1.0 will be ignored. Current value: feature_fraction=0.6931854383164288\n",
      "[LightGBM] [Warning] bagging_freq is set=1, subsample_freq=0 will be ignored. Current value: bagging_freq=1\n",
      "[LightGBM] [Warning] bagging_fraction is set=0.9257126652760607, subsample=1.0 will be ignored. Current value: bagging_fraction=0.9257126652760607\n",
      "[LightGBM] [Warning] min_sum_hessian_in_leaf is set=0.0001700347841423779, min_child_weight=0.001 will be ignored. Current value: min_sum_hessian_in_leaf=0.0001700347841423779\n",
      "[LightGBM] [Warning] min_data_in_leaf is set=114, min_child_samples=20 will be ignored. Current value: min_data_in_leaf=114\n",
      "[LightGBM] [Warning] feature_fraction is set=0.6931854383164288, colsample_bytree=1.0 will be ignored. Current value: feature_fraction=0.6931854383164288\n",
      "[LightGBM] [Warning] bagging_freq is set=1, subsample_freq=0 will be ignored. Current value: bagging_freq=1\n",
      "[LightGBM] [Warning] bagging_fraction is set=0.9257126652760607, subsample=1.0 will be ignored. Current value: bagging_fraction=0.9257126652760607\n",
      "[LightGBM] [Warning] min_sum_hessian_in_leaf is set=0.0001700347841423779, min_child_weight=0.001 will be ignored. Current value: min_sum_hessian_in_leaf=0.0001700347841423779\n",
      "[LightGBM] [Warning] min_data_in_leaf is set=114, min_child_samples=20 will be ignored. Current value: min_data_in_leaf=114\n",
      "[LightGBM] [Warning] feature_fraction is set=0.6931854383164288, colsample_bytree=1.0 will be ignored. Current value: feature_fraction=0.6931854383164288\n",
      "[LightGBM] [Warning] bagging_freq is set=1, subsample_freq=0 will be ignored. Current value: bagging_freq=1\n"
     ]
    },
    {
     "name": "stderr",
     "output_type": "stream",
     "text": [
      "\u001b[32m[I 2023-03-13 15:09:38,033]\u001b[0m Trial 12 finished with value: 0.8033333333333335 and parameters: {'num_leaves': 18, 'min_data_in_leaf': 114, 'min_sum_hessian_in_leaf': 0.0001700347841423779, 'feature_fraction': 0.6931854383164288, 'bagging_fraction': 0.9257126652760607, 'reg_alpha': 8.500734420947317, 'reg_lambda': 0.010578283293099854}. Best is trial 4 with value: 0.8073333333333333.\u001b[0m\n"
     ]
    },
    {
     "name": "stdout",
     "output_type": "stream",
     "text": [
      "[LightGBM] [Warning] bagging_fraction is set=0.8731035990698028, subsample=1.0 will be ignored. Current value: bagging_fraction=0.8731035990698028\n",
      "[LightGBM] [Warning] min_sum_hessian_in_leaf is set=5.379941491915366e-05, min_child_weight=0.001 will be ignored. Current value: min_sum_hessian_in_leaf=5.379941491915366e-05\n",
      "[LightGBM] [Warning] min_data_in_leaf is set=55, min_child_samples=20 will be ignored. Current value: min_data_in_leaf=55\n",
      "[LightGBM] [Warning] feature_fraction is set=0.6920119879687722, colsample_bytree=1.0 will be ignored. Current value: feature_fraction=0.6920119879687722\n",
      "[LightGBM] [Warning] bagging_freq is set=1, subsample_freq=0 will be ignored. Current value: bagging_freq=1\n",
      "[LightGBM] [Warning] bagging_fraction is set=0.8731035990698028, subsample=1.0 will be ignored. Current value: bagging_fraction=0.8731035990698028\n",
      "[LightGBM] [Warning] min_sum_hessian_in_leaf is set=5.379941491915366e-05, min_child_weight=0.001 will be ignored. Current value: min_sum_hessian_in_leaf=5.379941491915366e-05\n",
      "[LightGBM] [Warning] min_data_in_leaf is set=55, min_child_samples=20 will be ignored. Current value: min_data_in_leaf=55\n",
      "[LightGBM] [Warning] feature_fraction is set=0.6920119879687722, colsample_bytree=1.0 will be ignored. Current value: feature_fraction=0.6920119879687722\n",
      "[LightGBM] [Warning] bagging_freq is set=1, subsample_freq=0 will be ignored. Current value: bagging_freq=1\n",
      "[LightGBM] [Warning] bagging_fraction is set=0.8731035990698028, subsample=1.0 will be ignored. Current value: bagging_fraction=0.8731035990698028\n",
      "[LightGBM] [Warning] min_sum_hessian_in_leaf is set=5.379941491915366e-05, min_child_weight=0.001 will be ignored. Current value: min_sum_hessian_in_leaf=5.379941491915366e-05\n",
      "[LightGBM] [Warning] min_data_in_leaf is set=55, min_child_samples=20 will be ignored. Current value: min_data_in_leaf=55\n",
      "[LightGBM] [Warning] feature_fraction is set=0.6920119879687722, colsample_bytree=1.0 will be ignored. Current value: feature_fraction=0.6920119879687722\n",
      "[LightGBM] [Warning] bagging_freq is set=1, subsample_freq=0 will be ignored. Current value: bagging_freq=1\n",
      "[LightGBM] [Warning] bagging_fraction is set=0.8731035990698028, subsample=1.0 will be ignored. Current value: bagging_fraction=0.8731035990698028\n",
      "[LightGBM] [Warning] min_sum_hessian_in_leaf is set=5.379941491915366e-05, min_child_weight=0.001 will be ignored. Current value: min_sum_hessian_in_leaf=5.379941491915366e-05\n",
      "[LightGBM] [Warning] min_data_in_leaf is set=55, min_child_samples=20 will be ignored. Current value: min_data_in_leaf=55\n",
      "[LightGBM] [Warning] feature_fraction is set=0.6920119879687722, colsample_bytree=1.0 will be ignored. Current value: feature_fraction=0.6920119879687722\n",
      "[LightGBM] [Warning] bagging_freq is set=1, subsample_freq=0 will be ignored. Current value: bagging_freq=1\n"
     ]
    },
    {
     "name": "stderr",
     "output_type": "stream",
     "text": [
      "\u001b[32m[I 2023-03-13 15:09:39,017]\u001b[0m Trial 13 finished with value: 0.802 and parameters: {'num_leaves': 63, 'min_data_in_leaf': 55, 'min_sum_hessian_in_leaf': 5.379941491915366e-05, 'feature_fraction': 0.6920119879687722, 'bagging_fraction': 0.8731035990698028, 'reg_alpha': 0.8451915837483444, 'reg_lambda': 0.38417866772574927}. Best is trial 4 with value: 0.8073333333333333.\u001b[0m\n"
     ]
    },
    {
     "name": "stdout",
     "output_type": "stream",
     "text": [
      "[LightGBM] [Warning] bagging_fraction is set=0.9449350856793115, subsample=1.0 will be ignored. Current value: bagging_fraction=0.9449350856793115\n",
      "[LightGBM] [Warning] min_sum_hessian_in_leaf is set=1.0109437923471968e-05, min_child_weight=0.001 will be ignored. Current value: min_sum_hessian_in_leaf=1.0109437923471968e-05\n",
      "[LightGBM] [Warning] min_data_in_leaf is set=7, min_child_samples=20 will be ignored. Current value: min_data_in_leaf=7\n",
      "[LightGBM] [Warning] feature_fraction is set=0.7161201212015965, colsample_bytree=1.0 will be ignored. Current value: feature_fraction=0.7161201212015965\n",
      "[LightGBM] [Warning] bagging_freq is set=1, subsample_freq=0 will be ignored. Current value: bagging_freq=1\n",
      "[LightGBM] [Warning] bagging_fraction is set=0.9449350856793115, subsample=1.0 will be ignored. Current value: bagging_fraction=0.9449350856793115\n",
      "[LightGBM] [Warning] min_sum_hessian_in_leaf is set=1.0109437923471968e-05, min_child_weight=0.001 will be ignored. Current value: min_sum_hessian_in_leaf=1.0109437923471968e-05\n",
      "[LightGBM] [Warning] min_data_in_leaf is set=7, min_child_samples=20 will be ignored. Current value: min_data_in_leaf=7\n",
      "[LightGBM] [Warning] feature_fraction is set=0.7161201212015965, colsample_bytree=1.0 will be ignored. Current value: feature_fraction=0.7161201212015965\n",
      "[LightGBM] [Warning] bagging_freq is set=1, subsample_freq=0 will be ignored. Current value: bagging_freq=1\n",
      "[LightGBM] [Warning] bagging_fraction is set=0.9449350856793115, subsample=1.0 will be ignored. Current value: bagging_fraction=0.9449350856793115\n",
      "[LightGBM] [Warning] min_sum_hessian_in_leaf is set=1.0109437923471968e-05, min_child_weight=0.001 will be ignored. Current value: min_sum_hessian_in_leaf=1.0109437923471968e-05\n",
      "[LightGBM] [Warning] min_data_in_leaf is set=7, min_child_samples=20 will be ignored. Current value: min_data_in_leaf=7\n",
      "[LightGBM] [Warning] feature_fraction is set=0.7161201212015965, colsample_bytree=1.0 will be ignored. Current value: feature_fraction=0.7161201212015965\n",
      "[LightGBM] [Warning] bagging_freq is set=1, subsample_freq=0 will be ignored. Current value: bagging_freq=1\n",
      "[LightGBM] [Warning] bagging_fraction is set=0.9449350856793115, subsample=1.0 will be ignored. Current value: bagging_fraction=0.9449350856793115\n",
      "[LightGBM] [Warning] min_sum_hessian_in_leaf is set=1.0109437923471968e-05, min_child_weight=0.001 will be ignored. Current value: min_sum_hessian_in_leaf=1.0109437923471968e-05\n",
      "[LightGBM] [Warning] min_data_in_leaf is set=7, min_child_samples=20 will be ignored. Current value: min_data_in_leaf=7\n",
      "[LightGBM] [Warning] feature_fraction is set=0.7161201212015965, colsample_bytree=1.0 will be ignored. Current value: feature_fraction=0.7161201212015965\n",
      "[LightGBM] [Warning] bagging_freq is set=1, subsample_freq=0 will be ignored. Current value: bagging_freq=1\n"
     ]
    },
    {
     "name": "stderr",
     "output_type": "stream",
     "text": [
      "\u001b[32m[I 2023-03-13 15:09:40,415]\u001b[0m Trial 14 finished with value: 0.806 and parameters: {'num_leaves': 148, 'min_data_in_leaf': 7, 'min_sum_hessian_in_leaf': 1.0109437923471968e-05, 'feature_fraction': 0.7161201212015965, 'bagging_fraction': 0.9449350856793115, 'reg_alpha': 0.11194210530145045, 'reg_lambda': 0.04529618491562219}. Best is trial 4 with value: 0.8073333333333333.\u001b[0m\n"
     ]
    },
    {
     "name": "stdout",
     "output_type": "stream",
     "text": [
      "[LightGBM] [Warning] bagging_fraction is set=0.8236856487189648, subsample=1.0 will be ignored. Current value: bagging_fraction=0.8236856487189648\n",
      "[LightGBM] [Warning] min_sum_hessian_in_leaf is set=0.000570873649098293, min_child_weight=0.001 will be ignored. Current value: min_sum_hessian_in_leaf=0.000570873649098293\n",
      "[LightGBM] [Warning] min_data_in_leaf is set=125, min_child_samples=20 will be ignored. Current value: min_data_in_leaf=125\n",
      "[LightGBM] [Warning] feature_fraction is set=0.60948287198866, colsample_bytree=1.0 will be ignored. Current value: feature_fraction=0.60948287198866\n",
      "[LightGBM] [Warning] bagging_freq is set=1, subsample_freq=0 will be ignored. Current value: bagging_freq=1\n",
      "[LightGBM] [Warning] bagging_fraction is set=0.8236856487189648, subsample=1.0 will be ignored. Current value: bagging_fraction=0.8236856487189648\n",
      "[LightGBM] [Warning] min_sum_hessian_in_leaf is set=0.000570873649098293, min_child_weight=0.001 will be ignored. Current value: min_sum_hessian_in_leaf=0.000570873649098293\n",
      "[LightGBM] [Warning] min_data_in_leaf is set=125, min_child_samples=20 will be ignored. Current value: min_data_in_leaf=125\n",
      "[LightGBM] [Warning] feature_fraction is set=0.60948287198866, colsample_bytree=1.0 will be ignored. Current value: feature_fraction=0.60948287198866\n",
      "[LightGBM] [Warning] bagging_freq is set=1, subsample_freq=0 will be ignored. Current value: bagging_freq=1\n",
      "[LightGBM] [Warning] bagging_fraction is set=0.8236856487189648, subsample=1.0 will be ignored. Current value: bagging_fraction=0.8236856487189648\n",
      "[LightGBM] [Warning] min_sum_hessian_in_leaf is set=0.000570873649098293, min_child_weight=0.001 will be ignored. Current value: min_sum_hessian_in_leaf=0.000570873649098293\n",
      "[LightGBM] [Warning] min_data_in_leaf is set=125, min_child_samples=20 will be ignored. Current value: min_data_in_leaf=125\n",
      "[LightGBM] [Warning] feature_fraction is set=0.60948287198866, colsample_bytree=1.0 will be ignored. Current value: feature_fraction=0.60948287198866\n",
      "[LightGBM] [Warning] bagging_freq is set=1, subsample_freq=0 will be ignored. Current value: bagging_freq=1\n",
      "[LightGBM] [Warning] bagging_fraction is set=0.8236856487189648, subsample=1.0 will be ignored. Current value: bagging_fraction=0.8236856487189648\n",
      "[LightGBM] [Warning] min_sum_hessian_in_leaf is set=0.000570873649098293, min_child_weight=0.001 will be ignored. Current value: min_sum_hessian_in_leaf=0.000570873649098293\n",
      "[LightGBM] [Warning] min_data_in_leaf is set=125, min_child_samples=20 will be ignored. Current value: min_data_in_leaf=125\n",
      "[LightGBM] [Warning] feature_fraction is set=0.60948287198866, colsample_bytree=1.0 will be ignored. Current value: feature_fraction=0.60948287198866\n",
      "[LightGBM] [Warning] bagging_freq is set=1, subsample_freq=0 will be ignored. Current value: bagging_freq=1\n"
     ]
    },
    {
     "name": "stderr",
     "output_type": "stream",
     "text": [
      "\u001b[32m[I 2023-03-13 15:09:41,355]\u001b[0m Trial 15 finished with value: 0.8053333333333333 and parameters: {'num_leaves': 206, 'min_data_in_leaf': 125, 'min_sum_hessian_in_leaf': 0.000570873649098293, 'feature_fraction': 0.60948287198866, 'bagging_fraction': 0.8236856487189648, 'reg_alpha': 0.775281834910724, 'reg_lambda': 0.0778191240079955}. Best is trial 4 with value: 0.8073333333333333.\u001b[0m\n"
     ]
    },
    {
     "name": "stdout",
     "output_type": "stream",
     "text": [
      "[LightGBM] [Warning] bagging_fraction is set=0.9091183450956876, subsample=1.0 will be ignored. Current value: bagging_fraction=0.9091183450956876\n",
      "[LightGBM] [Warning] min_sum_hessian_in_leaf is set=9.007497380495332e-05, min_child_weight=0.001 will be ignored. Current value: min_sum_hessian_in_leaf=9.007497380495332e-05\n",
      "[LightGBM] [Warning] min_data_in_leaf is set=89, min_child_samples=20 will be ignored. Current value: min_data_in_leaf=89\n",
      "[LightGBM] [Warning] feature_fraction is set=0.6477959610523824, colsample_bytree=1.0 will be ignored. Current value: feature_fraction=0.6477959610523824\n",
      "[LightGBM] [Warning] bagging_freq is set=1, subsample_freq=0 will be ignored. Current value: bagging_freq=1\n",
      "[LightGBM] [Warning] bagging_fraction is set=0.9091183450956876, subsample=1.0 will be ignored. Current value: bagging_fraction=0.9091183450956876\n",
      "[LightGBM] [Warning] min_sum_hessian_in_leaf is set=9.007497380495332e-05, min_child_weight=0.001 will be ignored. Current value: min_sum_hessian_in_leaf=9.007497380495332e-05\n",
      "[LightGBM] [Warning] min_data_in_leaf is set=89, min_child_samples=20 will be ignored. Current value: min_data_in_leaf=89\n",
      "[LightGBM] [Warning] feature_fraction is set=0.6477959610523824, colsample_bytree=1.0 will be ignored. Current value: feature_fraction=0.6477959610523824\n",
      "[LightGBM] [Warning] bagging_freq is set=1, subsample_freq=0 will be ignored. Current value: bagging_freq=1\n",
      "[LightGBM] [Warning] bagging_fraction is set=0.9091183450956876, subsample=1.0 will be ignored. Current value: bagging_fraction=0.9091183450956876\n",
      "[LightGBM] [Warning] min_sum_hessian_in_leaf is set=9.007497380495332e-05, min_child_weight=0.001 will be ignored. Current value: min_sum_hessian_in_leaf=9.007497380495332e-05\n",
      "[LightGBM] [Warning] min_data_in_leaf is set=89, min_child_samples=20 will be ignored. Current value: min_data_in_leaf=89\n",
      "[LightGBM] [Warning] feature_fraction is set=0.6477959610523824, colsample_bytree=1.0 will be ignored. Current value: feature_fraction=0.6477959610523824\n",
      "[LightGBM] [Warning] bagging_freq is set=1, subsample_freq=0 will be ignored. Current value: bagging_freq=1\n",
      "[LightGBM] [Warning] bagging_fraction is set=0.9091183450956876, subsample=1.0 will be ignored. Current value: bagging_fraction=0.9091183450956876\n",
      "[LightGBM] [Warning] min_sum_hessian_in_leaf is set=9.007497380495332e-05, min_child_weight=0.001 will be ignored. Current value: min_sum_hessian_in_leaf=9.007497380495332e-05\n",
      "[LightGBM] [Warning] min_data_in_leaf is set=89, min_child_samples=20 will be ignored. Current value: min_data_in_leaf=89\n",
      "[LightGBM] [Warning] feature_fraction is set=0.6477959610523824, colsample_bytree=1.0 will be ignored. Current value: feature_fraction=0.6477959610523824\n",
      "[LightGBM] [Warning] bagging_freq is set=1, subsample_freq=0 will be ignored. Current value: bagging_freq=1\n"
     ]
    },
    {
     "name": "stderr",
     "output_type": "stream",
     "text": [
      "\u001b[32m[I 2023-03-13 15:09:42,272]\u001b[0m Trial 16 finished with value: 0.8053333333333333 and parameters: {'num_leaves': 129, 'min_data_in_leaf': 89, 'min_sum_hessian_in_leaf': 9.007497380495332e-05, 'feature_fraction': 0.6477959610523824, 'bagging_fraction': 0.9091183450956876, 'reg_alpha': 0.07648427867294036, 'reg_lambda': 0.3055770639520798}. Best is trial 4 with value: 0.8073333333333333.\u001b[0m\n"
     ]
    },
    {
     "name": "stdout",
     "output_type": "stream",
     "text": [
      "[LightGBM] [Warning] bagging_fraction is set=0.7129812895222762, subsample=1.0 will be ignored. Current value: bagging_fraction=0.7129812895222762\n",
      "[LightGBM] [Warning] min_sum_hessian_in_leaf is set=0.00023054084963414055, min_child_weight=0.001 will be ignored. Current value: min_sum_hessian_in_leaf=0.00023054084963414055\n",
      "[LightGBM] [Warning] min_data_in_leaf is set=169, min_child_samples=20 will be ignored. Current value: min_data_in_leaf=169\n",
      "[LightGBM] [Warning] feature_fraction is set=0.7418786932898618, colsample_bytree=1.0 will be ignored. Current value: feature_fraction=0.7418786932898618\n",
      "[LightGBM] [Warning] bagging_freq is set=1, subsample_freq=0 will be ignored. Current value: bagging_freq=1\n",
      "[LightGBM] [Warning] bagging_fraction is set=0.7129812895222762, subsample=1.0 will be ignored. Current value: bagging_fraction=0.7129812895222762\n",
      "[LightGBM] [Warning] min_sum_hessian_in_leaf is set=0.00023054084963414055, min_child_weight=0.001 will be ignored. Current value: min_sum_hessian_in_leaf=0.00023054084963414055\n",
      "[LightGBM] [Warning] min_data_in_leaf is set=169, min_child_samples=20 will be ignored. Current value: min_data_in_leaf=169\n",
      "[LightGBM] [Warning] feature_fraction is set=0.7418786932898618, colsample_bytree=1.0 will be ignored. Current value: feature_fraction=0.7418786932898618\n",
      "[LightGBM] [Warning] bagging_freq is set=1, subsample_freq=0 will be ignored. Current value: bagging_freq=1\n",
      "[LightGBM] [Warning] bagging_fraction is set=0.7129812895222762, subsample=1.0 will be ignored. Current value: bagging_fraction=0.7129812895222762\n",
      "[LightGBM] [Warning] min_sum_hessian_in_leaf is set=0.00023054084963414055, min_child_weight=0.001 will be ignored. Current value: min_sum_hessian_in_leaf=0.00023054084963414055\n",
      "[LightGBM] [Warning] min_data_in_leaf is set=169, min_child_samples=20 will be ignored. Current value: min_data_in_leaf=169\n",
      "[LightGBM] [Warning] feature_fraction is set=0.7418786932898618, colsample_bytree=1.0 will be ignored. Current value: feature_fraction=0.7418786932898618\n",
      "[LightGBM] [Warning] bagging_freq is set=1, subsample_freq=0 will be ignored. Current value: bagging_freq=1\n",
      "[LightGBM] [Warning] bagging_fraction is set=0.7129812895222762, subsample=1.0 will be ignored. Current value: bagging_fraction=0.7129812895222762\n",
      "[LightGBM] [Warning] min_sum_hessian_in_leaf is set=0.00023054084963414055, min_child_weight=0.001 will be ignored. Current value: min_sum_hessian_in_leaf=0.00023054084963414055\n",
      "[LightGBM] [Warning] min_data_in_leaf is set=169, min_child_samples=20 will be ignored. Current value: min_data_in_leaf=169\n",
      "[LightGBM] [Warning] feature_fraction is set=0.7418786932898618, colsample_bytree=1.0 will be ignored. Current value: feature_fraction=0.7418786932898618\n",
      "[LightGBM] [Warning] bagging_freq is set=1, subsample_freq=0 will be ignored. Current value: bagging_freq=1\n"
     ]
    },
    {
     "name": "stderr",
     "output_type": "stream",
     "text": [
      "\u001b[32m[I 2023-03-13 15:09:44,119]\u001b[0m Trial 17 finished with value: 0.798 and parameters: {'num_leaves': 59, 'min_data_in_leaf': 169, 'min_sum_hessian_in_leaf': 0.00023054084963414055, 'feature_fraction': 0.7418786932898618, 'bagging_fraction': 0.7129812895222762, 'reg_alpha': 11.43073067302782, 'reg_lambda': 0.031183188001114515}. Best is trial 4 with value: 0.8073333333333333.\u001b[0m\n"
     ]
    },
    {
     "name": "stdout",
     "output_type": "stream",
     "text": [
      "[LightGBM] [Warning] bagging_fraction is set=0.8094893324492629, subsample=1.0 will be ignored. Current value: bagging_fraction=0.8094893324492629\n",
      "[LightGBM] [Warning] min_sum_hessian_in_leaf is set=2.8193797545311158e-05, min_child_weight=0.001 will be ignored. Current value: min_sum_hessian_in_leaf=2.8193797545311158e-05\n",
      "[LightGBM] [Warning] min_data_in_leaf is set=62, min_child_samples=20 will be ignored. Current value: min_data_in_leaf=62\n",
      "[LightGBM] [Warning] feature_fraction is set=0.5562532923816212, colsample_bytree=1.0 will be ignored. Current value: feature_fraction=0.5562532923816212\n",
      "[LightGBM] [Warning] bagging_freq is set=1, subsample_freq=0 will be ignored. Current value: bagging_freq=1\n",
      "[LightGBM] [Warning] bagging_fraction is set=0.8094893324492629, subsample=1.0 will be ignored. Current value: bagging_fraction=0.8094893324492629\n",
      "[LightGBM] [Warning] min_sum_hessian_in_leaf is set=2.8193797545311158e-05, min_child_weight=0.001 will be ignored. Current value: min_sum_hessian_in_leaf=2.8193797545311158e-05\n",
      "[LightGBM] [Warning] min_data_in_leaf is set=62, min_child_samples=20 will be ignored. Current value: min_data_in_leaf=62\n",
      "[LightGBM] [Warning] feature_fraction is set=0.5562532923816212, colsample_bytree=1.0 will be ignored. Current value: feature_fraction=0.5562532923816212\n",
      "[LightGBM] [Warning] bagging_freq is set=1, subsample_freq=0 will be ignored. Current value: bagging_freq=1\n",
      "[LightGBM] [Warning] bagging_fraction is set=0.8094893324492629, subsample=1.0 will be ignored. Current value: bagging_fraction=0.8094893324492629\n",
      "[LightGBM] [Warning] min_sum_hessian_in_leaf is set=2.8193797545311158e-05, min_child_weight=0.001 will be ignored. Current value: min_sum_hessian_in_leaf=2.8193797545311158e-05\n",
      "[LightGBM] [Warning] min_data_in_leaf is set=62, min_child_samples=20 will be ignored. Current value: min_data_in_leaf=62\n",
      "[LightGBM] [Warning] feature_fraction is set=0.5562532923816212, colsample_bytree=1.0 will be ignored. Current value: feature_fraction=0.5562532923816212\n",
      "[LightGBM] [Warning] bagging_freq is set=1, subsample_freq=0 will be ignored. Current value: bagging_freq=1\n",
      "[LightGBM] [Warning] bagging_fraction is set=0.8094893324492629, subsample=1.0 will be ignored. Current value: bagging_fraction=0.8094893324492629\n",
      "[LightGBM] [Warning] min_sum_hessian_in_leaf is set=2.8193797545311158e-05, min_child_weight=0.001 will be ignored. Current value: min_sum_hessian_in_leaf=2.8193797545311158e-05\n",
      "[LightGBM] [Warning] min_data_in_leaf is set=62, min_child_samples=20 will be ignored. Current value: min_data_in_leaf=62\n",
      "[LightGBM] [Warning] feature_fraction is set=0.5562532923816212, colsample_bytree=1.0 will be ignored. Current value: feature_fraction=0.5562532923816212\n",
      "[LightGBM] [Warning] bagging_freq is set=1, subsample_freq=0 will be ignored. Current value: bagging_freq=1\n"
     ]
    },
    {
     "name": "stderr",
     "output_type": "stream",
     "text": [
      "\u001b[32m[I 2023-03-13 15:09:45,102]\u001b[0m Trial 18 finished with value: 0.803 and parameters: {'num_leaves': 201, 'min_data_in_leaf': 62, 'min_sum_hessian_in_leaf': 2.8193797545311158e-05, 'feature_fraction': 0.5562532923816212, 'bagging_fraction': 0.8094893324492629, 'reg_alpha': 1.697919634013935, 'reg_lambda': 0.7265123426763697}. Best is trial 4 with value: 0.8073333333333333.\u001b[0m\n"
     ]
    },
    {
     "name": "stdout",
     "output_type": "stream",
     "text": [
      "[LightGBM] [Warning] bagging_fraction is set=0.9938187588498406, subsample=1.0 will be ignored. Current value: bagging_fraction=0.9938187588498406\n",
      "[LightGBM] [Warning] min_sum_hessian_in_leaf is set=8.128421667349862e-05, min_child_weight=0.001 will be ignored. Current value: min_sum_hessian_in_leaf=8.128421667349862e-05\n",
      "[LightGBM] [Warning] min_data_in_leaf is set=97, min_child_samples=20 will be ignored. Current value: min_data_in_leaf=97\n",
      "[LightGBM] [Warning] feature_fraction is set=0.6492851364966901, colsample_bytree=1.0 will be ignored. Current value: feature_fraction=0.6492851364966901\n",
      "[LightGBM] [Warning] bagging_freq is set=1, subsample_freq=0 will be ignored. Current value: bagging_freq=1\n",
      "[LightGBM] [Warning] bagging_fraction is set=0.9938187588498406, subsample=1.0 will be ignored. Current value: bagging_fraction=0.9938187588498406\n",
      "[LightGBM] [Warning] min_sum_hessian_in_leaf is set=8.128421667349862e-05, min_child_weight=0.001 will be ignored. Current value: min_sum_hessian_in_leaf=8.128421667349862e-05\n",
      "[LightGBM] [Warning] min_data_in_leaf is set=97, min_child_samples=20 will be ignored. Current value: min_data_in_leaf=97\n",
      "[LightGBM] [Warning] feature_fraction is set=0.6492851364966901, colsample_bytree=1.0 will be ignored. Current value: feature_fraction=0.6492851364966901\n",
      "[LightGBM] [Warning] bagging_freq is set=1, subsample_freq=0 will be ignored. Current value: bagging_freq=1\n",
      "[LightGBM] [Warning] bagging_fraction is set=0.9938187588498406, subsample=1.0 will be ignored. Current value: bagging_fraction=0.9938187588498406\n",
      "[LightGBM] [Warning] min_sum_hessian_in_leaf is set=8.128421667349862e-05, min_child_weight=0.001 will be ignored. Current value: min_sum_hessian_in_leaf=8.128421667349862e-05\n",
      "[LightGBM] [Warning] min_data_in_leaf is set=97, min_child_samples=20 will be ignored. Current value: min_data_in_leaf=97\n",
      "[LightGBM] [Warning] feature_fraction is set=0.6492851364966901, colsample_bytree=1.0 will be ignored. Current value: feature_fraction=0.6492851364966901\n",
      "[LightGBM] [Warning] bagging_freq is set=1, subsample_freq=0 will be ignored. Current value: bagging_freq=1\n",
      "[LightGBM] [Warning] bagging_fraction is set=0.9938187588498406, subsample=1.0 will be ignored. Current value: bagging_fraction=0.9938187588498406\n",
      "[LightGBM] [Warning] min_sum_hessian_in_leaf is set=8.128421667349862e-05, min_child_weight=0.001 will be ignored. Current value: min_sum_hessian_in_leaf=8.128421667349862e-05\n",
      "[LightGBM] [Warning] min_data_in_leaf is set=97, min_child_samples=20 will be ignored. Current value: min_data_in_leaf=97\n",
      "[LightGBM] [Warning] feature_fraction is set=0.6492851364966901, colsample_bytree=1.0 will be ignored. Current value: feature_fraction=0.6492851364966901\n",
      "[LightGBM] [Warning] bagging_freq is set=1, subsample_freq=0 will be ignored. Current value: bagging_freq=1\n"
     ]
    },
    {
     "name": "stderr",
     "output_type": "stream",
     "text": [
      "\u001b[32m[I 2023-03-13 15:09:45,905]\u001b[0m Trial 19 finished with value: 0.8033333333333333 and parameters: {'num_leaves': 255, 'min_data_in_leaf': 97, 'min_sum_hessian_in_leaf': 8.128421667349862e-05, 'feature_fraction': 0.6492851364966901, 'bagging_fraction': 0.9938187588498406, 'reg_alpha': 0.2832675564036369, 'reg_lambda': 0.11677834396822391}. Best is trial 4 with value: 0.8073333333333333.\u001b[0m\n"
     ]
    },
    {
     "name": "stdout",
     "output_type": "stream",
     "text": [
      "[LightGBM] [Warning] bagging_fraction is set=0.6977974704856518, subsample=1.0 will be ignored. Current value: bagging_fraction=0.6977974704856518\n",
      "[LightGBM] [Warning] min_sum_hessian_in_leaf is set=2.2567123691109275e-05, min_child_weight=0.001 will be ignored. Current value: min_sum_hessian_in_leaf=2.2567123691109275e-05\n",
      "[LightGBM] [Warning] min_data_in_leaf is set=185, min_child_samples=20 will be ignored. Current value: min_data_in_leaf=185\n",
      "[LightGBM] [Warning] feature_fraction is set=0.7191139014183054, colsample_bytree=1.0 will be ignored. Current value: feature_fraction=0.7191139014183054\n",
      "[LightGBM] [Warning] bagging_freq is set=1, subsample_freq=0 will be ignored. Current value: bagging_freq=1\n",
      "[LightGBM] [Warning] bagging_fraction is set=0.6977974704856518, subsample=1.0 will be ignored. Current value: bagging_fraction=0.6977974704856518\n",
      "[LightGBM] [Warning] min_sum_hessian_in_leaf is set=2.2567123691109275e-05, min_child_weight=0.001 will be ignored. Current value: min_sum_hessian_in_leaf=2.2567123691109275e-05\n",
      "[LightGBM] [Warning] min_data_in_leaf is set=185, min_child_samples=20 will be ignored. Current value: min_data_in_leaf=185\n",
      "[LightGBM] [Warning] feature_fraction is set=0.7191139014183054, colsample_bytree=1.0 will be ignored. Current value: feature_fraction=0.7191139014183054\n",
      "[LightGBM] [Warning] bagging_freq is set=1, subsample_freq=0 will be ignored. Current value: bagging_freq=1\n",
      "[LightGBM] [Warning] bagging_fraction is set=0.6977974704856518, subsample=1.0 will be ignored. Current value: bagging_fraction=0.6977974704856518\n",
      "[LightGBM] [Warning] min_sum_hessian_in_leaf is set=2.2567123691109275e-05, min_child_weight=0.001 will be ignored. Current value: min_sum_hessian_in_leaf=2.2567123691109275e-05\n",
      "[LightGBM] [Warning] min_data_in_leaf is set=185, min_child_samples=20 will be ignored. Current value: min_data_in_leaf=185\n",
      "[LightGBM] [Warning] feature_fraction is set=0.7191139014183054, colsample_bytree=1.0 will be ignored. Current value: feature_fraction=0.7191139014183054\n",
      "[LightGBM] [Warning] bagging_freq is set=1, subsample_freq=0 will be ignored. Current value: bagging_freq=1\n",
      "[LightGBM] [Warning] bagging_fraction is set=0.6977974704856518, subsample=1.0 will be ignored. Current value: bagging_fraction=0.6977974704856518\n",
      "[LightGBM] [Warning] min_sum_hessian_in_leaf is set=2.2567123691109275e-05, min_child_weight=0.001 will be ignored. Current value: min_sum_hessian_in_leaf=2.2567123691109275e-05\n",
      "[LightGBM] [Warning] min_data_in_leaf is set=185, min_child_samples=20 will be ignored. Current value: min_data_in_leaf=185\n",
      "[LightGBM] [Warning] feature_fraction is set=0.7191139014183054, colsample_bytree=1.0 will be ignored. Current value: feature_fraction=0.7191139014183054\n",
      "[LightGBM] [Warning] bagging_freq is set=1, subsample_freq=0 will be ignored. Current value: bagging_freq=1\n"
     ]
    },
    {
     "name": "stderr",
     "output_type": "stream",
     "text": [
      "\u001b[32m[I 2023-03-13 15:09:47,610]\u001b[0m Trial 20 finished with value: 0.803 and parameters: {'num_leaves': 120, 'min_data_in_leaf': 185, 'min_sum_hessian_in_leaf': 2.2567123691109275e-05, 'feature_fraction': 0.7191139014183054, 'bagging_fraction': 0.6977974704856518, 'reg_alpha': 4.012997903592451, 'reg_lambda': 7.506084691793486}. Best is trial 4 with value: 0.8073333333333333.\u001b[0m\n"
     ]
    },
    {
     "name": "stdout",
     "output_type": "stream",
     "text": [
      "[LightGBM] [Warning] bagging_fraction is set=0.9212587153898287, subsample=1.0 will be ignored. Current value: bagging_fraction=0.9212587153898287\n",
      "[LightGBM] [Warning] min_sum_hessian_in_leaf is set=1.2542651460282271e-05, min_child_weight=0.001 will be ignored. Current value: min_sum_hessian_in_leaf=1.2542651460282271e-05\n",
      "[LightGBM] [Warning] min_data_in_leaf is set=15, min_child_samples=20 will be ignored. Current value: min_data_in_leaf=15\n",
      "[LightGBM] [Warning] feature_fraction is set=0.7115183856463484, colsample_bytree=1.0 will be ignored. Current value: feature_fraction=0.7115183856463484\n",
      "[LightGBM] [Warning] bagging_freq is set=1, subsample_freq=0 will be ignored. Current value: bagging_freq=1\n",
      "[LightGBM] [Warning] bagging_fraction is set=0.9212587153898287, subsample=1.0 will be ignored. Current value: bagging_fraction=0.9212587153898287\n",
      "[LightGBM] [Warning] min_sum_hessian_in_leaf is set=1.2542651460282271e-05, min_child_weight=0.001 will be ignored. Current value: min_sum_hessian_in_leaf=1.2542651460282271e-05\n",
      "[LightGBM] [Warning] min_data_in_leaf is set=15, min_child_samples=20 will be ignored. Current value: min_data_in_leaf=15\n",
      "[LightGBM] [Warning] feature_fraction is set=0.7115183856463484, colsample_bytree=1.0 will be ignored. Current value: feature_fraction=0.7115183856463484\n",
      "[LightGBM] [Warning] bagging_freq is set=1, subsample_freq=0 will be ignored. Current value: bagging_freq=1\n",
      "[LightGBM] [Warning] bagging_fraction is set=0.9212587153898287, subsample=1.0 will be ignored. Current value: bagging_fraction=0.9212587153898287\n",
      "[LightGBM] [Warning] min_sum_hessian_in_leaf is set=1.2542651460282271e-05, min_child_weight=0.001 will be ignored. Current value: min_sum_hessian_in_leaf=1.2542651460282271e-05\n",
      "[LightGBM] [Warning] min_data_in_leaf is set=15, min_child_samples=20 will be ignored. Current value: min_data_in_leaf=15\n",
      "[LightGBM] [Warning] feature_fraction is set=0.7115183856463484, colsample_bytree=1.0 will be ignored. Current value: feature_fraction=0.7115183856463484\n",
      "[LightGBM] [Warning] bagging_freq is set=1, subsample_freq=0 will be ignored. Current value: bagging_freq=1\n",
      "[LightGBM] [Warning] bagging_fraction is set=0.9212587153898287, subsample=1.0 will be ignored. Current value: bagging_fraction=0.9212587153898287\n",
      "[LightGBM] [Warning] min_sum_hessian_in_leaf is set=1.2542651460282271e-05, min_child_weight=0.001 will be ignored. Current value: min_sum_hessian_in_leaf=1.2542651460282271e-05\n",
      "[LightGBM] [Warning] min_data_in_leaf is set=15, min_child_samples=20 will be ignored. Current value: min_data_in_leaf=15\n",
      "[LightGBM] [Warning] feature_fraction is set=0.7115183856463484, colsample_bytree=1.0 will be ignored. Current value: feature_fraction=0.7115183856463484\n",
      "[LightGBM] [Warning] bagging_freq is set=1, subsample_freq=0 will be ignored. Current value: bagging_freq=1\n"
     ]
    },
    {
     "name": "stderr",
     "output_type": "stream",
     "text": [
      "\u001b[32m[I 2023-03-13 15:09:48,964]\u001b[0m Trial 21 finished with value: 0.8013333333333333 and parameters: {'num_leaves': 150, 'min_data_in_leaf': 15, 'min_sum_hessian_in_leaf': 1.2542651460282271e-05, 'feature_fraction': 0.7115183856463484, 'bagging_fraction': 0.9212587153898287, 'reg_alpha': 0.11671238991111285, 'reg_lambda': 0.03258280278191472}. Best is trial 4 with value: 0.8073333333333333.\u001b[0m\n"
     ]
    },
    {
     "name": "stdout",
     "output_type": "stream",
     "text": [
      "[LightGBM] [Warning] bagging_fraction is set=0.9546833812183388, subsample=1.0 will be ignored. Current value: bagging_fraction=0.9546833812183388\n",
      "[LightGBM] [Warning] min_sum_hessian_in_leaf is set=1.078507679320643e-05, min_child_weight=0.001 will be ignored. Current value: min_sum_hessian_in_leaf=1.078507679320643e-05\n",
      "[LightGBM] [Warning] min_data_in_leaf is set=7, min_child_samples=20 will be ignored. Current value: min_data_in_leaf=7\n",
      "[LightGBM] [Warning] feature_fraction is set=0.671375748720645, colsample_bytree=1.0 will be ignored. Current value: feature_fraction=0.671375748720645\n",
      "[LightGBM] [Warning] bagging_freq is set=1, subsample_freq=0 will be ignored. Current value: bagging_freq=1\n",
      "[LightGBM] [Warning] bagging_fraction is set=0.9546833812183388, subsample=1.0 will be ignored. Current value: bagging_fraction=0.9546833812183388\n",
      "[LightGBM] [Warning] min_sum_hessian_in_leaf is set=1.078507679320643e-05, min_child_weight=0.001 will be ignored. Current value: min_sum_hessian_in_leaf=1.078507679320643e-05\n",
      "[LightGBM] [Warning] min_data_in_leaf is set=7, min_child_samples=20 will be ignored. Current value: min_data_in_leaf=7\n",
      "[LightGBM] [Warning] feature_fraction is set=0.671375748720645, colsample_bytree=1.0 will be ignored. Current value: feature_fraction=0.671375748720645\n",
      "[LightGBM] [Warning] bagging_freq is set=1, subsample_freq=0 will be ignored. Current value: bagging_freq=1\n",
      "[LightGBM] [Warning] bagging_fraction is set=0.9546833812183388, subsample=1.0 will be ignored. Current value: bagging_fraction=0.9546833812183388\n",
      "[LightGBM] [Warning] min_sum_hessian_in_leaf is set=1.078507679320643e-05, min_child_weight=0.001 will be ignored. Current value: min_sum_hessian_in_leaf=1.078507679320643e-05\n",
      "[LightGBM] [Warning] min_data_in_leaf is set=7, min_child_samples=20 will be ignored. Current value: min_data_in_leaf=7\n",
      "[LightGBM] [Warning] feature_fraction is set=0.671375748720645, colsample_bytree=1.0 will be ignored. Current value: feature_fraction=0.671375748720645\n",
      "[LightGBM] [Warning] bagging_freq is set=1, subsample_freq=0 will be ignored. Current value: bagging_freq=1\n",
      "[LightGBM] [Warning] bagging_fraction is set=0.9546833812183388, subsample=1.0 will be ignored. Current value: bagging_fraction=0.9546833812183388\n",
      "[LightGBM] [Warning] min_sum_hessian_in_leaf is set=1.078507679320643e-05, min_child_weight=0.001 will be ignored. Current value: min_sum_hessian_in_leaf=1.078507679320643e-05\n",
      "[LightGBM] [Warning] min_data_in_leaf is set=7, min_child_samples=20 will be ignored. Current value: min_data_in_leaf=7\n",
      "[LightGBM] [Warning] feature_fraction is set=0.671375748720645, colsample_bytree=1.0 will be ignored. Current value: feature_fraction=0.671375748720645\n",
      "[LightGBM] [Warning] bagging_freq is set=1, subsample_freq=0 will be ignored. Current value: bagging_freq=1\n"
     ]
    },
    {
     "name": "stderr",
     "output_type": "stream",
     "text": [
      "\u001b[32m[I 2023-03-13 15:09:50,381]\u001b[0m Trial 22 finished with value: 0.8033333333333335 and parameters: {'num_leaves': 147, 'min_data_in_leaf': 7, 'min_sum_hessian_in_leaf': 1.078507679320643e-05, 'feature_fraction': 0.671375748720645, 'bagging_fraction': 0.9546833812183388, 'reg_alpha': 0.6359205742166641, 'reg_lambda': 0.06159344773901362}. Best is trial 4 with value: 0.8073333333333333.\u001b[0m\n"
     ]
    },
    {
     "name": "stdout",
     "output_type": "stream",
     "text": [
      "[LightGBM] [Warning] bagging_fraction is set=0.8855625568541348, subsample=1.0 will be ignored. Current value: bagging_fraction=0.8855625568541348\n",
      "[LightGBM] [Warning] min_sum_hessian_in_leaf is set=1.0257826229045205e-05, min_child_weight=0.001 will be ignored. Current value: min_sum_hessian_in_leaf=1.0257826229045205e-05\n",
      "[LightGBM] [Warning] min_data_in_leaf is set=43, min_child_samples=20 will be ignored. Current value: min_data_in_leaf=43\n",
      "[LightGBM] [Warning] feature_fraction is set=0.7329065314871402, colsample_bytree=1.0 will be ignored. Current value: feature_fraction=0.7329065314871402\n",
      "[LightGBM] [Warning] bagging_freq is set=1, subsample_freq=0 will be ignored. Current value: bagging_freq=1\n",
      "[LightGBM] [Warning] bagging_fraction is set=0.8855625568541348, subsample=1.0 will be ignored. Current value: bagging_fraction=0.8855625568541348\n",
      "[LightGBM] [Warning] min_sum_hessian_in_leaf is set=1.0257826229045205e-05, min_child_weight=0.001 will be ignored. Current value: min_sum_hessian_in_leaf=1.0257826229045205e-05\n",
      "[LightGBM] [Warning] min_data_in_leaf is set=43, min_child_samples=20 will be ignored. Current value: min_data_in_leaf=43\n",
      "[LightGBM] [Warning] feature_fraction is set=0.7329065314871402, colsample_bytree=1.0 will be ignored. Current value: feature_fraction=0.7329065314871402\n",
      "[LightGBM] [Warning] bagging_freq is set=1, subsample_freq=0 will be ignored. Current value: bagging_freq=1\n",
      "[LightGBM] [Warning] bagging_fraction is set=0.8855625568541348, subsample=1.0 will be ignored. Current value: bagging_fraction=0.8855625568541348\n",
      "[LightGBM] [Warning] min_sum_hessian_in_leaf is set=1.0257826229045205e-05, min_child_weight=0.001 will be ignored. Current value: min_sum_hessian_in_leaf=1.0257826229045205e-05\n",
      "[LightGBM] [Warning] min_data_in_leaf is set=43, min_child_samples=20 will be ignored. Current value: min_data_in_leaf=43\n",
      "[LightGBM] [Warning] feature_fraction is set=0.7329065314871402, colsample_bytree=1.0 will be ignored. Current value: feature_fraction=0.7329065314871402\n",
      "[LightGBM] [Warning] bagging_freq is set=1, subsample_freq=0 will be ignored. Current value: bagging_freq=1\n",
      "[LightGBM] [Warning] bagging_fraction is set=0.8855625568541348, subsample=1.0 will be ignored. Current value: bagging_fraction=0.8855625568541348\n",
      "[LightGBM] [Warning] min_sum_hessian_in_leaf is set=1.0257826229045205e-05, min_child_weight=0.001 will be ignored. Current value: min_sum_hessian_in_leaf=1.0257826229045205e-05\n",
      "[LightGBM] [Warning] min_data_in_leaf is set=43, min_child_samples=20 will be ignored. Current value: min_data_in_leaf=43\n",
      "[LightGBM] [Warning] feature_fraction is set=0.7329065314871402, colsample_bytree=1.0 will be ignored. Current value: feature_fraction=0.7329065314871402\n",
      "[LightGBM] [Warning] bagging_freq is set=1, subsample_freq=0 will be ignored. Current value: bagging_freq=1\n"
     ]
    },
    {
     "name": "stderr",
     "output_type": "stream",
     "text": [
      "\u001b[32m[I 2023-03-13 15:09:51,185]\u001b[0m Trial 23 finished with value: 0.8003333333333333 and parameters: {'num_leaves': 179, 'min_data_in_leaf': 43, 'min_sum_hessian_in_leaf': 1.0257826229045205e-05, 'feature_fraction': 0.7329065314871402, 'bagging_fraction': 0.8855625568541348, 'reg_alpha': 0.03948515354373503, 'reg_lambda': 0.023470778251090726}. Best is trial 4 with value: 0.8073333333333333.\u001b[0m\n"
     ]
    },
    {
     "name": "stdout",
     "output_type": "stream",
     "text": [
      "[LightGBM] [Warning] bagging_fraction is set=0.949528707322588, subsample=1.0 will be ignored. Current value: bagging_fraction=0.949528707322588\n",
      "[LightGBM] [Warning] min_sum_hessian_in_leaf is set=2.370395004037637e-05, min_child_weight=0.001 will be ignored. Current value: min_sum_hessian_in_leaf=2.370395004037637e-05\n",
      "[LightGBM] [Warning] min_data_in_leaf is set=34, min_child_samples=20 will be ignored. Current value: min_data_in_leaf=34\n",
      "[LightGBM] [Warning] feature_fraction is set=0.7969525303427156, colsample_bytree=1.0 will be ignored. Current value: feature_fraction=0.7969525303427156\n",
      "[LightGBM] [Warning] bagging_freq is set=1, subsample_freq=0 will be ignored. Current value: bagging_freq=1\n",
      "[LightGBM] [Warning] bagging_fraction is set=0.949528707322588, subsample=1.0 will be ignored. Current value: bagging_fraction=0.949528707322588\n",
      "[LightGBM] [Warning] min_sum_hessian_in_leaf is set=2.370395004037637e-05, min_child_weight=0.001 will be ignored. Current value: min_sum_hessian_in_leaf=2.370395004037637e-05\n",
      "[LightGBM] [Warning] min_data_in_leaf is set=34, min_child_samples=20 will be ignored. Current value: min_data_in_leaf=34\n",
      "[LightGBM] [Warning] feature_fraction is set=0.7969525303427156, colsample_bytree=1.0 will be ignored. Current value: feature_fraction=0.7969525303427156\n",
      "[LightGBM] [Warning] bagging_freq is set=1, subsample_freq=0 will be ignored. Current value: bagging_freq=1\n",
      "[LightGBM] [Warning] bagging_fraction is set=0.949528707322588, subsample=1.0 will be ignored. Current value: bagging_fraction=0.949528707322588\n",
      "[LightGBM] [Warning] min_sum_hessian_in_leaf is set=2.370395004037637e-05, min_child_weight=0.001 will be ignored. Current value: min_sum_hessian_in_leaf=2.370395004037637e-05\n",
      "[LightGBM] [Warning] min_data_in_leaf is set=34, min_child_samples=20 will be ignored. Current value: min_data_in_leaf=34\n",
      "[LightGBM] [Warning] feature_fraction is set=0.7969525303427156, colsample_bytree=1.0 will be ignored. Current value: feature_fraction=0.7969525303427156\n",
      "[LightGBM] [Warning] bagging_freq is set=1, subsample_freq=0 will be ignored. Current value: bagging_freq=1\n",
      "[LightGBM] [Warning] bagging_fraction is set=0.949528707322588, subsample=1.0 will be ignored. Current value: bagging_fraction=0.949528707322588\n",
      "[LightGBM] [Warning] min_sum_hessian_in_leaf is set=2.370395004037637e-05, min_child_weight=0.001 will be ignored. Current value: min_sum_hessian_in_leaf=2.370395004037637e-05\n",
      "[LightGBM] [Warning] min_data_in_leaf is set=34, min_child_samples=20 will be ignored. Current value: min_data_in_leaf=34\n",
      "[LightGBM] [Warning] feature_fraction is set=0.7969525303427156, colsample_bytree=1.0 will be ignored. Current value: feature_fraction=0.7969525303427156\n",
      "[LightGBM] [Warning] bagging_freq is set=1, subsample_freq=0 will be ignored. Current value: bagging_freq=1\n"
     ]
    },
    {
     "name": "stderr",
     "output_type": "stream",
     "text": [
      "\u001b[32m[I 2023-03-13 15:09:52,063]\u001b[0m Trial 24 finished with value: 0.802 and parameters: {'num_leaves': 85, 'min_data_in_leaf': 34, 'min_sum_hessian_in_leaf': 2.370395004037637e-05, 'feature_fraction': 0.7969525303427156, 'bagging_fraction': 0.949528707322588, 'reg_alpha': 0.13963301854908172, 'reg_lambda': 0.15562933607555834}. Best is trial 4 with value: 0.8073333333333333.\u001b[0m\n"
     ]
    },
    {
     "name": "stdout",
     "output_type": "stream",
     "text": [
      "[LightGBM] [Warning] bagging_fraction is set=0.8012766517656202, subsample=1.0 will be ignored. Current value: bagging_fraction=0.8012766517656202\n",
      "[LightGBM] [Warning] min_sum_hessian_in_leaf is set=4.19518762467201e-05, min_child_weight=0.001 will be ignored. Current value: min_sum_hessian_in_leaf=4.19518762467201e-05\n",
      "[LightGBM] [Warning] min_data_in_leaf is set=78, min_child_samples=20 will be ignored. Current value: min_data_in_leaf=78\n",
      "[LightGBM] [Warning] feature_fraction is set=0.6399983873301289, colsample_bytree=1.0 will be ignored. Current value: feature_fraction=0.6399983873301289\n",
      "[LightGBM] [Warning] bagging_freq is set=1, subsample_freq=0 will be ignored. Current value: bagging_freq=1\n",
      "[LightGBM] [Warning] bagging_fraction is set=0.8012766517656202, subsample=1.0 will be ignored. Current value: bagging_fraction=0.8012766517656202\n",
      "[LightGBM] [Warning] min_sum_hessian_in_leaf is set=4.19518762467201e-05, min_child_weight=0.001 will be ignored. Current value: min_sum_hessian_in_leaf=4.19518762467201e-05\n",
      "[LightGBM] [Warning] min_data_in_leaf is set=78, min_child_samples=20 will be ignored. Current value: min_data_in_leaf=78\n",
      "[LightGBM] [Warning] feature_fraction is set=0.6399983873301289, colsample_bytree=1.0 will be ignored. Current value: feature_fraction=0.6399983873301289\n",
      "[LightGBM] [Warning] bagging_freq is set=1, subsample_freq=0 will be ignored. Current value: bagging_freq=1\n",
      "[LightGBM] [Warning] bagging_fraction is set=0.8012766517656202, subsample=1.0 will be ignored. Current value: bagging_fraction=0.8012766517656202\n",
      "[LightGBM] [Warning] min_sum_hessian_in_leaf is set=4.19518762467201e-05, min_child_weight=0.001 will be ignored. Current value: min_sum_hessian_in_leaf=4.19518762467201e-05\n",
      "[LightGBM] [Warning] min_data_in_leaf is set=78, min_child_samples=20 will be ignored. Current value: min_data_in_leaf=78\n",
      "[LightGBM] [Warning] feature_fraction is set=0.6399983873301289, colsample_bytree=1.0 will be ignored. Current value: feature_fraction=0.6399983873301289\n",
      "[LightGBM] [Warning] bagging_freq is set=1, subsample_freq=0 will be ignored. Current value: bagging_freq=1\n",
      "[LightGBM] [Warning] bagging_fraction is set=0.8012766517656202, subsample=1.0 will be ignored. Current value: bagging_fraction=0.8012766517656202\n",
      "[LightGBM] [Warning] min_sum_hessian_in_leaf is set=4.19518762467201e-05, min_child_weight=0.001 will be ignored. Current value: min_sum_hessian_in_leaf=4.19518762467201e-05\n",
      "[LightGBM] [Warning] min_data_in_leaf is set=78, min_child_samples=20 will be ignored. Current value: min_data_in_leaf=78\n",
      "[LightGBM] [Warning] feature_fraction is set=0.6399983873301289, colsample_bytree=1.0 will be ignored. Current value: feature_fraction=0.6399983873301289\n",
      "[LightGBM] [Warning] bagging_freq is set=1, subsample_freq=0 will be ignored. Current value: bagging_freq=1\n"
     ]
    },
    {
     "name": "stderr",
     "output_type": "stream",
     "text": [
      "\u001b[32m[I 2023-03-13 15:09:53,017]\u001b[0m Trial 25 finished with value: 0.8036666666666668 and parameters: {'num_leaves': 142, 'min_data_in_leaf': 78, 'min_sum_hessian_in_leaf': 4.19518762467201e-05, 'feature_fraction': 0.6399983873301289, 'bagging_fraction': 0.8012766517656202, 'reg_alpha': 0.4656289092128395, 'reg_lambda': 0.022846300770785023}. Best is trial 4 with value: 0.8073333333333333.\u001b[0m\n"
     ]
    },
    {
     "name": "stdout",
     "output_type": "stream",
     "text": [
      "[LightGBM] [Warning] bagging_fraction is set=0.8537266200070116, subsample=1.0 will be ignored. Current value: bagging_fraction=0.8537266200070116\n",
      "[LightGBM] [Warning] min_sum_hessian_in_leaf is set=1.9759304689278844e-05, min_child_weight=0.001 will be ignored. Current value: min_sum_hessian_in_leaf=1.9759304689278844e-05\n",
      "[LightGBM] [Warning] min_data_in_leaf is set=128, min_child_samples=20 will be ignored. Current value: min_data_in_leaf=128\n",
      "[LightGBM] [Warning] feature_fraction is set=0.6739586896533928, colsample_bytree=1.0 will be ignored. Current value: feature_fraction=0.6739586896533928\n",
      "[LightGBM] [Warning] bagging_freq is set=1, subsample_freq=0 will be ignored. Current value: bagging_freq=1\n",
      "[LightGBM] [Warning] bagging_fraction is set=0.8537266200070116, subsample=1.0 will be ignored. Current value: bagging_fraction=0.8537266200070116\n",
      "[LightGBM] [Warning] min_sum_hessian_in_leaf is set=1.9759304689278844e-05, min_child_weight=0.001 will be ignored. Current value: min_sum_hessian_in_leaf=1.9759304689278844e-05\n",
      "[LightGBM] [Warning] min_data_in_leaf is set=128, min_child_samples=20 will be ignored. Current value: min_data_in_leaf=128\n",
      "[LightGBM] [Warning] feature_fraction is set=0.6739586896533928, colsample_bytree=1.0 will be ignored. Current value: feature_fraction=0.6739586896533928\n",
      "[LightGBM] [Warning] bagging_freq is set=1, subsample_freq=0 will be ignored. Current value: bagging_freq=1\n",
      "[LightGBM] [Warning] bagging_fraction is set=0.8537266200070116, subsample=1.0 will be ignored. Current value: bagging_fraction=0.8537266200070116\n",
      "[LightGBM] [Warning] min_sum_hessian_in_leaf is set=1.9759304689278844e-05, min_child_weight=0.001 will be ignored. Current value: min_sum_hessian_in_leaf=1.9759304689278844e-05\n",
      "[LightGBM] [Warning] min_data_in_leaf is set=128, min_child_samples=20 will be ignored. Current value: min_data_in_leaf=128\n",
      "[LightGBM] [Warning] feature_fraction is set=0.6739586896533928, colsample_bytree=1.0 will be ignored. Current value: feature_fraction=0.6739586896533928\n",
      "[LightGBM] [Warning] bagging_freq is set=1, subsample_freq=0 will be ignored. Current value: bagging_freq=1\n",
      "[LightGBM] [Warning] bagging_fraction is set=0.8537266200070116, subsample=1.0 will be ignored. Current value: bagging_fraction=0.8537266200070116\n",
      "[LightGBM] [Warning] min_sum_hessian_in_leaf is set=1.9759304689278844e-05, min_child_weight=0.001 will be ignored. Current value: min_sum_hessian_in_leaf=1.9759304689278844e-05\n",
      "[LightGBM] [Warning] min_data_in_leaf is set=128, min_child_samples=20 will be ignored. Current value: min_data_in_leaf=128\n",
      "[LightGBM] [Warning] feature_fraction is set=0.6739586896533928, colsample_bytree=1.0 will be ignored. Current value: feature_fraction=0.6739586896533928\n",
      "[LightGBM] [Warning] bagging_freq is set=1, subsample_freq=0 will be ignored. Current value: bagging_freq=1\n"
     ]
    },
    {
     "name": "stderr",
     "output_type": "stream",
     "text": [
      "\u001b[32m[I 2023-03-13 15:09:54,045]\u001b[0m Trial 26 finished with value: 0.8073333333333335 and parameters: {'num_leaves': 55, 'min_data_in_leaf': 128, 'min_sum_hessian_in_leaf': 1.9759304689278844e-05, 'feature_fraction': 0.6739586896533928, 'bagging_fraction': 0.8537266200070116, 'reg_alpha': 1.282793526227369, 'reg_lambda': 0.08400546637715904}. Best is trial 26 with value: 0.8073333333333335.\u001b[0m\n"
     ]
    },
    {
     "name": "stdout",
     "output_type": "stream",
     "text": [
      "[LightGBM] [Warning] bagging_fraction is set=0.8492100478235491, subsample=1.0 will be ignored. Current value: bagging_fraction=0.8492100478235491\n",
      "[LightGBM] [Warning] min_sum_hessian_in_leaf is set=6.972104745468846e-05, min_child_weight=0.001 will be ignored. Current value: min_sum_hessian_in_leaf=6.972104745468846e-05\n",
      "[LightGBM] [Warning] min_data_in_leaf is set=126, min_child_samples=20 will be ignored. Current value: min_data_in_leaf=126\n",
      "[LightGBM] [Warning] feature_fraction is set=0.591372148877871, colsample_bytree=1.0 will be ignored. Current value: feature_fraction=0.591372148877871\n",
      "[LightGBM] [Warning] bagging_freq is set=1, subsample_freq=0 will be ignored. Current value: bagging_freq=1\n",
      "[LightGBM] [Warning] bagging_fraction is set=0.8492100478235491, subsample=1.0 will be ignored. Current value: bagging_fraction=0.8492100478235491\n",
      "[LightGBM] [Warning] min_sum_hessian_in_leaf is set=6.972104745468846e-05, min_child_weight=0.001 will be ignored. Current value: min_sum_hessian_in_leaf=6.972104745468846e-05\n",
      "[LightGBM] [Warning] min_data_in_leaf is set=126, min_child_samples=20 will be ignored. Current value: min_data_in_leaf=126\n",
      "[LightGBM] [Warning] feature_fraction is set=0.591372148877871, colsample_bytree=1.0 will be ignored. Current value: feature_fraction=0.591372148877871\n",
      "[LightGBM] [Warning] bagging_freq is set=1, subsample_freq=0 will be ignored. Current value: bagging_freq=1\n",
      "[LightGBM] [Warning] bagging_fraction is set=0.8492100478235491, subsample=1.0 will be ignored. Current value: bagging_fraction=0.8492100478235491\n",
      "[LightGBM] [Warning] min_sum_hessian_in_leaf is set=6.972104745468846e-05, min_child_weight=0.001 will be ignored. Current value: min_sum_hessian_in_leaf=6.972104745468846e-05\n",
      "[LightGBM] [Warning] min_data_in_leaf is set=126, min_child_samples=20 will be ignored. Current value: min_data_in_leaf=126\n",
      "[LightGBM] [Warning] feature_fraction is set=0.591372148877871, colsample_bytree=1.0 will be ignored. Current value: feature_fraction=0.591372148877871\n",
      "[LightGBM] [Warning] bagging_freq is set=1, subsample_freq=0 will be ignored. Current value: bagging_freq=1\n",
      "[LightGBM] [Warning] bagging_fraction is set=0.8492100478235491, subsample=1.0 will be ignored. Current value: bagging_fraction=0.8492100478235491\n",
      "[LightGBM] [Warning] min_sum_hessian_in_leaf is set=6.972104745468846e-05, min_child_weight=0.001 will be ignored. Current value: min_sum_hessian_in_leaf=6.972104745468846e-05\n",
      "[LightGBM] [Warning] min_data_in_leaf is set=126, min_child_samples=20 will be ignored. Current value: min_data_in_leaf=126\n",
      "[LightGBM] [Warning] feature_fraction is set=0.591372148877871, colsample_bytree=1.0 will be ignored. Current value: feature_fraction=0.591372148877871\n",
      "[LightGBM] [Warning] bagging_freq is set=1, subsample_freq=0 will be ignored. Current value: bagging_freq=1\n"
     ]
    },
    {
     "name": "stderr",
     "output_type": "stream",
     "text": [
      "\u001b[32m[I 2023-03-13 15:09:55,071]\u001b[0m Trial 27 finished with value: 0.8083333333333333 and parameters: {'num_leaves': 48, 'min_data_in_leaf': 126, 'min_sum_hessian_in_leaf': 6.972104745468846e-05, 'feature_fraction': 0.591372148877871, 'bagging_fraction': 0.8492100478235491, 'reg_alpha': 1.196667720289308, 'reg_lambda': 0.10114064587525043}. Best is trial 27 with value: 0.8083333333333333.\u001b[0m\n"
     ]
    },
    {
     "name": "stdout",
     "output_type": "stream",
     "text": [
      "[LightGBM] [Warning] bagging_fraction is set=0.7882961845828448, subsample=1.0 will be ignored. Current value: bagging_fraction=0.7882961845828448\n",
      "[LightGBM] [Warning] min_sum_hessian_in_leaf is set=2.2546017139609767e-05, min_child_weight=0.001 will be ignored. Current value: min_sum_hessian_in_leaf=2.2546017139609767e-05\n",
      "[LightGBM] [Warning] min_data_in_leaf is set=129, min_child_samples=20 will be ignored. Current value: min_data_in_leaf=129\n",
      "[LightGBM] [Warning] feature_fraction is set=0.5864960275913353, colsample_bytree=1.0 will be ignored. Current value: feature_fraction=0.5864960275913353\n",
      "[LightGBM] [Warning] bagging_freq is set=1, subsample_freq=0 will be ignored. Current value: bagging_freq=1\n",
      "[LightGBM] [Warning] bagging_fraction is set=0.7882961845828448, subsample=1.0 will be ignored. Current value: bagging_fraction=0.7882961845828448\n",
      "[LightGBM] [Warning] min_sum_hessian_in_leaf is set=2.2546017139609767e-05, min_child_weight=0.001 will be ignored. Current value: min_sum_hessian_in_leaf=2.2546017139609767e-05\n",
      "[LightGBM] [Warning] min_data_in_leaf is set=129, min_child_samples=20 will be ignored. Current value: min_data_in_leaf=129\n",
      "[LightGBM] [Warning] feature_fraction is set=0.5864960275913353, colsample_bytree=1.0 will be ignored. Current value: feature_fraction=0.5864960275913353\n",
      "[LightGBM] [Warning] bagging_freq is set=1, subsample_freq=0 will be ignored. Current value: bagging_freq=1\n",
      "[LightGBM] [Warning] bagging_fraction is set=0.7882961845828448, subsample=1.0 will be ignored. Current value: bagging_fraction=0.7882961845828448\n",
      "[LightGBM] [Warning] min_sum_hessian_in_leaf is set=2.2546017139609767e-05, min_child_weight=0.001 will be ignored. Current value: min_sum_hessian_in_leaf=2.2546017139609767e-05\n",
      "[LightGBM] [Warning] min_data_in_leaf is set=129, min_child_samples=20 will be ignored. Current value: min_data_in_leaf=129\n",
      "[LightGBM] [Warning] feature_fraction is set=0.5864960275913353, colsample_bytree=1.0 will be ignored. Current value: feature_fraction=0.5864960275913353\n",
      "[LightGBM] [Warning] bagging_freq is set=1, subsample_freq=0 will be ignored. Current value: bagging_freq=1\n",
      "[LightGBM] [Warning] bagging_fraction is set=0.7882961845828448, subsample=1.0 will be ignored. Current value: bagging_fraction=0.7882961845828448\n",
      "[LightGBM] [Warning] min_sum_hessian_in_leaf is set=2.2546017139609767e-05, min_child_weight=0.001 will be ignored. Current value: min_sum_hessian_in_leaf=2.2546017139609767e-05\n",
      "[LightGBM] [Warning] min_data_in_leaf is set=129, min_child_samples=20 will be ignored. Current value: min_data_in_leaf=129\n",
      "[LightGBM] [Warning] feature_fraction is set=0.5864960275913353, colsample_bytree=1.0 will be ignored. Current value: feature_fraction=0.5864960275913353\n",
      "[LightGBM] [Warning] bagging_freq is set=1, subsample_freq=0 will be ignored. Current value: bagging_freq=1\n"
     ]
    },
    {
     "name": "stderr",
     "output_type": "stream",
     "text": [
      "\u001b[32m[I 2023-03-13 15:09:56,496]\u001b[0m Trial 28 finished with value: 0.8009999999999999 and parameters: {'num_leaves': 44, 'min_data_in_leaf': 129, 'min_sum_hessian_in_leaf': 2.2546017139609767e-05, 'feature_fraction': 0.5864960275913353, 'bagging_fraction': 0.7882961845828448, 'reg_alpha': 1.274718498587182, 'reg_lambda': 0.12755942719839233}. Best is trial 27 with value: 0.8083333333333333.\u001b[0m\n"
     ]
    },
    {
     "name": "stdout",
     "output_type": "stream",
     "text": [
      "[LightGBM] [Warning] bagging_fraction is set=0.841048432152907, subsample=1.0 will be ignored. Current value: bagging_fraction=0.841048432152907\n",
      "[LightGBM] [Warning] min_sum_hessian_in_leaf is set=4.834522689773493e-05, min_child_weight=0.001 will be ignored. Current value: min_sum_hessian_in_leaf=4.834522689773493e-05\n",
      "[LightGBM] [Warning] min_data_in_leaf is set=162, min_child_samples=20 will be ignored. Current value: min_data_in_leaf=162\n",
      "[LightGBM] [Warning] feature_fraction is set=0.6055886806527228, colsample_bytree=1.0 will be ignored. Current value: feature_fraction=0.6055886806527228\n",
      "[LightGBM] [Warning] bagging_freq is set=1, subsample_freq=0 will be ignored. Current value: bagging_freq=1\n",
      "[LightGBM] [Warning] bagging_fraction is set=0.841048432152907, subsample=1.0 will be ignored. Current value: bagging_fraction=0.841048432152907\n",
      "[LightGBM] [Warning] min_sum_hessian_in_leaf is set=4.834522689773493e-05, min_child_weight=0.001 will be ignored. Current value: min_sum_hessian_in_leaf=4.834522689773493e-05\n",
      "[LightGBM] [Warning] min_data_in_leaf is set=162, min_child_samples=20 will be ignored. Current value: min_data_in_leaf=162\n",
      "[LightGBM] [Warning] feature_fraction is set=0.6055886806527228, colsample_bytree=1.0 will be ignored. Current value: feature_fraction=0.6055886806527228\n",
      "[LightGBM] [Warning] bagging_freq is set=1, subsample_freq=0 will be ignored. Current value: bagging_freq=1\n",
      "[LightGBM] [Warning] bagging_fraction is set=0.841048432152907, subsample=1.0 will be ignored. Current value: bagging_fraction=0.841048432152907\n",
      "[LightGBM] [Warning] min_sum_hessian_in_leaf is set=4.834522689773493e-05, min_child_weight=0.001 will be ignored. Current value: min_sum_hessian_in_leaf=4.834522689773493e-05\n",
      "[LightGBM] [Warning] min_data_in_leaf is set=162, min_child_samples=20 will be ignored. Current value: min_data_in_leaf=162\n",
      "[LightGBM] [Warning] feature_fraction is set=0.6055886806527228, colsample_bytree=1.0 will be ignored. Current value: feature_fraction=0.6055886806527228\n",
      "[LightGBM] [Warning] bagging_freq is set=1, subsample_freq=0 will be ignored. Current value: bagging_freq=1\n",
      "[LightGBM] [Warning] bagging_fraction is set=0.841048432152907, subsample=1.0 will be ignored. Current value: bagging_fraction=0.841048432152907\n",
      "[LightGBM] [Warning] min_sum_hessian_in_leaf is set=4.834522689773493e-05, min_child_weight=0.001 will be ignored. Current value: min_sum_hessian_in_leaf=4.834522689773493e-05\n",
      "[LightGBM] [Warning] min_data_in_leaf is set=162, min_child_samples=20 will be ignored. Current value: min_data_in_leaf=162\n",
      "[LightGBM] [Warning] feature_fraction is set=0.6055886806527228, colsample_bytree=1.0 will be ignored. Current value: feature_fraction=0.6055886806527228\n",
      "[LightGBM] [Warning] bagging_freq is set=1, subsample_freq=0 will be ignored. Current value: bagging_freq=1\n"
     ]
    },
    {
     "name": "stderr",
     "output_type": "stream",
     "text": [
      "\u001b[32m[I 2023-03-13 15:09:57,784]\u001b[0m Trial 29 finished with value: 0.804 and parameters: {'num_leaves': 60, 'min_data_in_leaf': 162, 'min_sum_hessian_in_leaf': 4.834522689773493e-05, 'feature_fraction': 0.6055886806527228, 'bagging_fraction': 0.841048432152907, 'reg_alpha': 2.2213318222687475, 'reg_lambda': 0.5724629864564882}. Best is trial 27 with value: 0.8083333333333333.\u001b[0m\n"
     ]
    }
   ],
   "source": [
    "sampler = optuna.samplers.TPESampler(seed=random_state)\n",
    "study = optuna.create_study(sampler=sampler, direction='maximize')\n",
    "study.optimize(objective, n_trials=30)"
   ]
  },
  {
   "cell_type": "code",
   "execution_count": 26,
   "id": "b635cace-d512-4a21-bb9e-2e1de3ef2fe9",
   "metadata": {
    "tags": []
   },
   "outputs": [
    {
     "name": "stdout",
     "output_type": "stream",
     "text": [
      "acc(best)=0.8083\n"
     ]
    },
    {
     "data": {
      "text/plain": [
       "{'num_leaves': 48,\n",
       " 'min_data_in_leaf': 126,\n",
       " 'min_sum_hessian_in_leaf': 6.972104745468846e-05,\n",
       " 'feature_fraction': 0.591372148877871,\n",
       " 'bagging_fraction': 0.8492100478235491,\n",
       " 'reg_alpha': 1.196667720289308,\n",
       " 'reg_lambda': 0.10114064587525043}"
      ]
     },
     "metadata": {},
     "output_type": "display_data"
    }
   ],
   "source": [
    "trial = study.best_trial\n",
    "print('acc(best)={:.4f}'.format(trial.value))\n",
    "display(trial.params)"
   ]
  },
  {
   "cell_type": "code",
   "execution_count": null,
   "id": "9b9798c2-1c8e-4f91-b871-4a625a3146db",
   "metadata": {},
   "outputs": [],
   "source": [
    "params_best = trial.params\n",
    "params_best.update(params_base)\n",
    "display(params_best)"
   ]
  }
 ],
 "metadata": {
  "kernelspec": {
   "display_name": "Python 3 (ipykernel)",
   "language": "python",
   "name": "python3"
  },
  "language_info": {
   "codemirror_mode": {
    "name": "ipython",
    "version": 3
   },
   "file_extension": ".py",
   "mimetype": "text/x-python",
   "name": "python",
   "nbconvert_exporter": "python",
   "pygments_lexer": "ipython3",
   "version": "3.9.10"
  }
 },
 "nbformat": 4,
 "nbformat_minor": 5
}
