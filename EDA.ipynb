{
 "cells": [
  {
   "cell_type": "code",
   "execution_count": 147,
   "id": "514337de-7f6a-4c49-9f21-4af8c5360aad",
   "metadata": {},
   "outputs": [],
   "source": [
    "import pandas as pd\n",
    "import pandas_profiling\n",
    "\n",
    "import numpy as np\n",
    "from matplotlib import pyplot as plt\n",
    "%matplotlib inline\n",
    "import seaborn as sns\n",
    "import warnings\n",
    "warnings.filterwarnings('ignore')\n",
    "\n",
    "#データ読み込み\n",
    "train = pd.read_csv(\"data/train.csv\")\n",
    "test = pd.read_csv(\"data/test.csv\")\n",
    "sample= pd.read_csv(\"data/sample_submit.csv\",header = None)"
   ]
  },
  {
   "cell_type": "code",
   "execution_count": 148,
   "id": "e3bede72-05a9-4a42-99cd-bea2ae3cbeed",
   "metadata": {},
   "outputs": [],
   "source": [
    "df = pd.concat([train, test], sort=False)"
   ]
  },
  {
   "cell_type": "code",
   "execution_count": 149,
   "id": "5f55dd4f-07ea-4e7c-9a5b-9e9470d7356d",
   "metadata": {},
   "outputs": [
    {
     "data": {
      "text/html": [
       "<div>\n",
       "<style scoped>\n",
       "    .dataframe tbody tr th:only-of-type {\n",
       "        vertical-align: middle;\n",
       "    }\n",
       "\n",
       "    .dataframe tbody tr th {\n",
       "        vertical-align: top;\n",
       "    }\n",
       "\n",
       "    .dataframe thead th {\n",
       "        text-align: right;\n",
       "    }\n",
       "</style>\n",
       "<table border=\"1\" class=\"dataframe\">\n",
       "  <thead>\n",
       "    <tr style=\"text-align: right;\">\n",
       "      <th></th>\n",
       "      <th>index</th>\n",
       "      <th>Pregnancies</th>\n",
       "      <th>Glucose</th>\n",
       "      <th>BloodPressure</th>\n",
       "      <th>SkinThickness</th>\n",
       "      <th>Insulin</th>\n",
       "      <th>BMI</th>\n",
       "      <th>DiabetesPedigreeFunction</th>\n",
       "      <th>Age</th>\n",
       "      <th>Outcome</th>\n",
       "    </tr>\n",
       "  </thead>\n",
       "  <tbody>\n",
       "    <tr>\n",
       "      <th>count</th>\n",
       "      <td>3000.000000</td>\n",
       "      <td>3000.000000</td>\n",
       "      <td>3000.000000</td>\n",
       "      <td>3000.000000</td>\n",
       "      <td>3000.000000</td>\n",
       "      <td>3000.000000</td>\n",
       "      <td>3000.000000</td>\n",
       "      <td>3000.000000</td>\n",
       "      <td>3000.000000</td>\n",
       "      <td>3000.000000</td>\n",
       "    </tr>\n",
       "    <tr>\n",
       "      <th>mean</th>\n",
       "      <td>2492.964667</td>\n",
       "      <td>3.557000</td>\n",
       "      <td>113.733667</td>\n",
       "      <td>68.743667</td>\n",
       "      <td>11.164000</td>\n",
       "      <td>11.663333</td>\n",
       "      <td>35.262073</td>\n",
       "      <td>0.400476</td>\n",
       "      <td>28.932000</td>\n",
       "      <td>0.239000</td>\n",
       "    </tr>\n",
       "    <tr>\n",
       "      <th>std</th>\n",
       "      <td>1447.218078</td>\n",
       "      <td>3.032131</td>\n",
       "      <td>20.885612</td>\n",
       "      <td>16.332755</td>\n",
       "      <td>14.351159</td>\n",
       "      <td>45.064090</td>\n",
       "      <td>7.568025</td>\n",
       "      <td>0.274666</td>\n",
       "      <td>8.469078</td>\n",
       "      <td>0.426544</td>\n",
       "    </tr>\n",
       "    <tr>\n",
       "      <th>min</th>\n",
       "      <td>0.000000</td>\n",
       "      <td>0.000000</td>\n",
       "      <td>57.000000</td>\n",
       "      <td>0.000000</td>\n",
       "      <td>0.000000</td>\n",
       "      <td>0.000000</td>\n",
       "      <td>0.000775</td>\n",
       "      <td>0.145844</td>\n",
       "      <td>21.000000</td>\n",
       "      <td>0.000000</td>\n",
       "    </tr>\n",
       "    <tr>\n",
       "      <th>25%</th>\n",
       "      <td>1218.750000</td>\n",
       "      <td>1.000000</td>\n",
       "      <td>100.000000</td>\n",
       "      <td>64.000000</td>\n",
       "      <td>0.000000</td>\n",
       "      <td>0.000000</td>\n",
       "      <td>32.301920</td>\n",
       "      <td>0.230987</td>\n",
       "      <td>22.000000</td>\n",
       "      <td>0.000000</td>\n",
       "    </tr>\n",
       "    <tr>\n",
       "      <th>50%</th>\n",
       "      <td>2465.500000</td>\n",
       "      <td>3.000000</td>\n",
       "      <td>111.000000</td>\n",
       "      <td>70.000000</td>\n",
       "      <td>0.000000</td>\n",
       "      <td>0.000000</td>\n",
       "      <td>33.835873</td>\n",
       "      <td>0.268674</td>\n",
       "      <td>26.000000</td>\n",
       "      <td>0.000000</td>\n",
       "    </tr>\n",
       "    <tr>\n",
       "      <th>75%</th>\n",
       "      <td>3750.250000</td>\n",
       "      <td>6.000000</td>\n",
       "      <td>125.000000</td>\n",
       "      <td>78.000000</td>\n",
       "      <td>24.000000</td>\n",
       "      <td>0.000000</td>\n",
       "      <td>39.578256</td>\n",
       "      <td>0.506778</td>\n",
       "      <td>33.000000</td>\n",
       "      <td>0.000000</td>\n",
       "    </tr>\n",
       "    <tr>\n",
       "      <th>max</th>\n",
       "      <td>4999.000000</td>\n",
       "      <td>13.000000</td>\n",
       "      <td>196.000000</td>\n",
       "      <td>110.000000</td>\n",
       "      <td>49.000000</td>\n",
       "      <td>579.000000</td>\n",
       "      <td>53.400629</td>\n",
       "      <td>2.302072</td>\n",
       "      <td>67.000000</td>\n",
       "      <td>1.000000</td>\n",
       "    </tr>\n",
       "  </tbody>\n",
       "</table>\n",
       "</div>"
      ],
      "text/plain": [
       "             index  Pregnancies      Glucose  BloodPressure  SkinThickness  \\\n",
       "count  3000.000000  3000.000000  3000.000000    3000.000000    3000.000000   \n",
       "mean   2492.964667     3.557000   113.733667      68.743667      11.164000   \n",
       "std    1447.218078     3.032131    20.885612      16.332755      14.351159   \n",
       "min       0.000000     0.000000    57.000000       0.000000       0.000000   \n",
       "25%    1218.750000     1.000000   100.000000      64.000000       0.000000   \n",
       "50%    2465.500000     3.000000   111.000000      70.000000       0.000000   \n",
       "75%    3750.250000     6.000000   125.000000      78.000000      24.000000   \n",
       "max    4999.000000    13.000000   196.000000     110.000000      49.000000   \n",
       "\n",
       "           Insulin          BMI  DiabetesPedigreeFunction          Age  \\\n",
       "count  3000.000000  3000.000000               3000.000000  3000.000000   \n",
       "mean     11.663333    35.262073                  0.400476    28.932000   \n",
       "std      45.064090     7.568025                  0.274666     8.469078   \n",
       "min       0.000000     0.000775                  0.145844    21.000000   \n",
       "25%       0.000000    32.301920                  0.230987    22.000000   \n",
       "50%       0.000000    33.835873                  0.268674    26.000000   \n",
       "75%       0.000000    39.578256                  0.506778    33.000000   \n",
       "max     579.000000    53.400629                  2.302072    67.000000   \n",
       "\n",
       "           Outcome  \n",
       "count  3000.000000  \n",
       "mean      0.239000  \n",
       "std       0.426544  \n",
       "min       0.000000  \n",
       "25%       0.000000  \n",
       "50%       0.000000  \n",
       "75%       0.000000  \n",
       "max       1.000000  "
      ]
     },
     "execution_count": 149,
     "metadata": {},
     "output_type": "execute_result"
    }
   ],
   "source": [
    "train.describe()"
   ]
  },
  {
   "cell_type": "markdown",
   "id": "b310a880-addb-49dd-8889-30d0b7ea4f62",
   "metadata": {},
   "source": [
    "0 index int インデックスとして使用\n",
    "1 Pregnancies int 妊娠した回数\n",
    "2 Glucose int 経口ブドウ糖負荷試験における2時間の血漿ブドウ糖濃度\n",
    "3 BloodPressure int 拡張期血圧\n",
    "4 SkinThickness int 皮膚のひだの厚さ\n",
    "5 Insulin int 血清インスリン\n",
    "6 BMI float BMI\n",
    "7 Age int 年齢\n",
    "8 DiabetesPedigreeFunction float 糖尿病血統（家族歴に基づいて糖尿病にかかる可能性をスコアリングした数値）\n",
    "9 Outcome int 糖尿病であるか（糖尿病の場合1、でない場合0）"
   ]
  },
  {
   "cell_type": "code",
   "execution_count": 150,
   "id": "91616688-a1bb-492b-9124-ad1be43ce084",
   "metadata": {},
   "outputs": [
    {
     "data": {
      "text/plain": [
       "(3000, 10)"
      ]
     },
     "execution_count": 150,
     "metadata": {},
     "output_type": "execute_result"
    }
   ],
   "source": [
    "train.shape"
   ]
  },
  {
   "cell_type": "code",
   "execution_count": 151,
   "id": "b63c6589-644e-4675-8670-c5ee0b1fc95c",
   "metadata": {},
   "outputs": [
    {
     "data": {
      "text/html": [
       "<div>\n",
       "<style scoped>\n",
       "    .dataframe tbody tr th:only-of-type {\n",
       "        vertical-align: middle;\n",
       "    }\n",
       "\n",
       "    .dataframe tbody tr th {\n",
       "        vertical-align: top;\n",
       "    }\n",
       "\n",
       "    .dataframe thead th {\n",
       "        text-align: right;\n",
       "    }\n",
       "</style>\n",
       "<table border=\"1\" class=\"dataframe\">\n",
       "  <thead>\n",
       "    <tr style=\"text-align: right;\">\n",
       "      <th></th>\n",
       "      <th>index</th>\n",
       "      <th>Pregnancies</th>\n",
       "      <th>Glucose</th>\n",
       "      <th>BloodPressure</th>\n",
       "      <th>SkinThickness</th>\n",
       "      <th>Insulin</th>\n",
       "      <th>BMI</th>\n",
       "      <th>DiabetesPedigreeFunction</th>\n",
       "      <th>Age</th>\n",
       "    </tr>\n",
       "  </thead>\n",
       "  <tbody>\n",
       "    <tr>\n",
       "      <th>0</th>\n",
       "      <td>398</td>\n",
       "      <td>0</td>\n",
       "      <td>126</td>\n",
       "      <td>80</td>\n",
       "      <td>0</td>\n",
       "      <td>0</td>\n",
       "      <td>40.096264</td>\n",
       "      <td>0.822517</td>\n",
       "      <td>21</td>\n",
       "    </tr>\n",
       "    <tr>\n",
       "      <th>1</th>\n",
       "      <td>3833</td>\n",
       "      <td>3</td>\n",
       "      <td>88</td>\n",
       "      <td>60</td>\n",
       "      <td>20</td>\n",
       "      <td>0</td>\n",
       "      <td>39.810590</td>\n",
       "      <td>0.204331</td>\n",
       "      <td>22</td>\n",
       "    </tr>\n",
       "    <tr>\n",
       "      <th>2</th>\n",
       "      <td>4836</td>\n",
       "      <td>3</td>\n",
       "      <td>114</td>\n",
       "      <td>76</td>\n",
       "      <td>0</td>\n",
       "      <td>0</td>\n",
       "      <td>33.198760</td>\n",
       "      <td>0.521011</td>\n",
       "      <td>21</td>\n",
       "    </tr>\n",
       "    <tr>\n",
       "      <th>3</th>\n",
       "      <td>4572</td>\n",
       "      <td>1</td>\n",
       "      <td>146</td>\n",
       "      <td>74</td>\n",
       "      <td>0</td>\n",
       "      <td>0</td>\n",
       "      <td>26.890259</td>\n",
       "      <td>0.504950</td>\n",
       "      <td>38</td>\n",
       "    </tr>\n",
       "    <tr>\n",
       "      <th>4</th>\n",
       "      <td>636</td>\n",
       "      <td>1</td>\n",
       "      <td>123</td>\n",
       "      <td>90</td>\n",
       "      <td>26</td>\n",
       "      <td>140</td>\n",
       "      <td>40.270088</td>\n",
       "      <td>0.800513</td>\n",
       "      <td>28</td>\n",
       "    </tr>\n",
       "  </tbody>\n",
       "</table>\n",
       "</div>"
      ],
      "text/plain": [
       "   index  Pregnancies  Glucose  BloodPressure  SkinThickness  Insulin  \\\n",
       "0    398            0      126             80              0        0   \n",
       "1   3833            3       88             60             20        0   \n",
       "2   4836            3      114             76              0        0   \n",
       "3   4572            1      146             74              0        0   \n",
       "4    636            1      123             90             26      140   \n",
       "\n",
       "         BMI  DiabetesPedigreeFunction  Age  \n",
       "0  40.096264                  0.822517   21  \n",
       "1  39.810590                  0.204331   22  \n",
       "2  33.198760                  0.521011   21  \n",
       "3  26.890259                  0.504950   38  \n",
       "4  40.270088                  0.800513   28  "
      ]
     },
     "execution_count": 151,
     "metadata": {},
     "output_type": "execute_result"
    }
   ],
   "source": [
    "test.head()"
   ]
  },
  {
   "cell_type": "markdown",
   "id": "d749843f-6e75-42b3-8806-aaa0b5837c3f",
   "metadata": {},
   "source": [
    "欠損値は無く、カテゴリカル変数も無し"
   ]
  },
  {
   "cell_type": "code",
   "execution_count": 152,
   "id": "86dad4ae-ecdd-47d1-bebb-01ebf96852cc",
   "metadata": {
    "tags": []
   },
   "outputs": [],
   "source": [
    "# train.profile_report()"
   ]
  },
  {
   "cell_type": "markdown",
   "id": "ed5dd8f1-210d-4619-b53d-72fff7f49f74",
   "metadata": {},
   "source": [
    "Pregnancies　妊娠した回数が13回？　層化した方がいいか？\n",
    "Glucose　ブドウ濃度　正規分布に近い　そのまま利用\n",
    "BloodPressure　正規分布に近い　０のデータを確認　０はmeanに置き換えか？\n",
    "SkinThickness　一様分布に近い　０のデータを確認　０は中央値に置き換えか？\n",
    "Insulin　インスリン　1.7～10.4　値が低い検体は全部０にしてあるのか？\n",
    "BMI　正規分布に近い　０のデータを確認　０はmeanに置き換えか？\n",
    "DiabetesPedigreeFunction　糖尿病血統スコア　このままつかえるか"
   ]
  },
  {
   "cell_type": "code",
   "execution_count": 153,
   "id": "5c81de3d-741d-444d-bda7-3a4bcd6bbe34",
   "metadata": {
    "jupyter": {
     "source_hidden": true
    },
    "tags": []
   },
   "outputs": [
    {
     "data": {
      "text/plain": [
       "<matplotlib.legend.Legend at 0x7ff10c663d00>"
      ]
     },
     "execution_count": 153,
     "metadata": {},
     "output_type": "execute_result"
    },
    {
     "data": {
      "image/png": "[encoded data removed]",
      "text/plain": [
       "<Figure size 432x288 with 1 Axes>"
      ]
     },
     "metadata": {
      "needs_background": "light"
     },
     "output_type": "display_data"
    }
   ],
   "source": [
    "#　血圧との関係\n",
    "plt.hist(train.loc[train['Outcome'] == 0, 'BloodPressure'].dropna(),\n",
    "         bins=30, alpha=0.5, label='0')\n",
    "plt.hist(train.loc[train['Outcome'] == 1, 'BloodPressure'].dropna(),\n",
    "         bins=30, alpha=0.5, label='1')\n",
    "plt.xlabel('BloodPressure')\n",
    "plt.ylabel('count')\n",
    "plt.legend(title='Outcome')"
   ]
  },
  {
   "cell_type": "code",
   "execution_count": 154,
   "id": "02f43917-1d72-4991-b757-b6de5ce95787",
   "metadata": {},
   "outputs": [
    {
     "name": "stdout",
     "output_type": "stream",
     "text": [
      "<class 'pandas.core.frame.DataFrame'>\n",
      "RangeIndex: 3000 entries, 0 to 2999\n",
      "Data columns (total 11 columns):\n",
      " #   Column                    Non-Null Count  Dtype  \n",
      "---  ------                    --------------  -----  \n",
      " 0   index                     3000 non-null   int64  \n",
      " 1   Pregnancies               3000 non-null   int64  \n",
      " 2   Glucose                   3000 non-null   int64  \n",
      " 3   BloodPressure             3000 non-null   int64  \n",
      " 4   SkinThickness             3000 non-null   int64  \n",
      " 5   Insulin                   3000 non-null   int64  \n",
      " 6   BMI                       3000 non-null   float64\n",
      " 7   DiabetesPedigreeFunction  3000 non-null   float64\n",
      " 8   Age                       3000 non-null   int64  \n",
      " 9   Outcome                   3000 non-null   int64  \n",
      " 10  BloodPressure_new         2887 non-null   float64\n",
      "dtypes: float64(3), int64(8)\n",
      "memory usage: 257.9 KB\n",
      "70.97859744990893\n",
      "72.88277858176556\n",
      "71.43436092829927\n",
      "87\n",
      "26\n"
     ]
    },
    {
     "data": {
      "image/png": "[encoded data removed]",
      "text/plain": [
       "<Figure size 432x288 with 1 Axes>"
      ]
     },
     "metadata": {
      "needs_background": "light"
     },
     "output_type": "display_data"
    }
   ],
   "source": [
    "train['BloodPressure_new'] = train['BloodPressure'].replace([0], np.nan)\n",
    "plt.hist(train.loc[train['Outcome'] == 0, 'BloodPressure_new'].dropna(),\n",
    "         bins=30, alpha=0.5, label='0')\n",
    "plt.hist(train.loc[train['Outcome'] == 1, 'BloodPressure_new'].dropna(),\n",
    "         bins=30, alpha=0.5, label='1')\n",
    "plt.xlabel('BloodPressure_new')\n",
    "plt.ylabel('count')\n",
    "plt.legend(title='Outcome')\n",
    "\n",
    "train.info()\n",
    "BPmean_0= train.loc[train['Outcome'] == 0, 'BloodPressure_new'].mean()\n",
    "print(BPmean_0)\n",
    "BPmean_1= train.loc[train['Outcome'] == 1, 'BloodPressure_new'].mean()\n",
    "print(BPmean_1)\n",
    "BPmean= train['BloodPressure_new'].mean()\n",
    "print(BPmean)\n",
    "\n",
    "print(train[train['Outcome']==0]['BloodPressure_new'].isnull().sum(axis=0))\n",
    "print(train[train['Outcome']==1]['BloodPressure_new'].isnull().sum(axis=0))"
   ]
  },
  {
   "cell_type": "markdown",
   "id": "7c627b6f-4a8a-43aa-b965-249b78956e24",
   "metadata": {},
   "source": [
    "血圧0は欠損、欠損かどうかの特徴量作成(0なら1、取得された値があれば1)"
   ]
  },
  {
   "cell_type": "code",
   "execution_count": 155,
   "id": "b0f85f80-97e9-4dca-a016-2fa4fd3f5cfc",
   "metadata": {},
   "outputs": [
    {
     "data": {
      "text/html": [
       "<div>\n",
       "<style scoped>\n",
       "    .dataframe tbody tr th:only-of-type {\n",
       "        vertical-align: middle;\n",
       "    }\n",
       "\n",
       "    .dataframe tbody tr th {\n",
       "        vertical-align: top;\n",
       "    }\n",
       "\n",
       "    .dataframe thead th {\n",
       "        text-align: right;\n",
       "    }\n",
       "</style>\n",
       "<table border=\"1\" class=\"dataframe\">\n",
       "  <thead>\n",
       "    <tr style=\"text-align: right;\">\n",
       "      <th></th>\n",
       "      <th>index</th>\n",
       "      <th>Pregnancies</th>\n",
       "      <th>Glucose</th>\n",
       "      <th>BloodPressure</th>\n",
       "      <th>SkinThickness</th>\n",
       "      <th>Insulin</th>\n",
       "      <th>BMI</th>\n",
       "      <th>DiabetesPedigreeFunction</th>\n",
       "      <th>Age</th>\n",
       "      <th>Outcome</th>\n",
       "      <th>BloodPressure_new</th>\n",
       "      <th>BloodPressure_na</th>\n",
       "    </tr>\n",
       "  </thead>\n",
       "  <tbody>\n",
       "    <tr>\n",
       "      <th>0</th>\n",
       "      <td>200</td>\n",
       "      <td>9</td>\n",
       "      <td>125</td>\n",
       "      <td>74</td>\n",
       "      <td>0</td>\n",
       "      <td>0</td>\n",
       "      <td>28.536910</td>\n",
       "      <td>0.444902</td>\n",
       "      <td>45</td>\n",
       "      <td>1</td>\n",
       "      <td>74.0</td>\n",
       "      <td>0</td>\n",
       "    </tr>\n",
       "    <tr>\n",
       "      <th>1</th>\n",
       "      <td>3832</td>\n",
       "      <td>4</td>\n",
       "      <td>109</td>\n",
       "      <td>80</td>\n",
       "      <td>0</td>\n",
       "      <td>0</td>\n",
       "      <td>28.047673</td>\n",
       "      <td>0.238243</td>\n",
       "      <td>22</td>\n",
       "      <td>0</td>\n",
       "      <td>80.0</td>\n",
       "      <td>0</td>\n",
       "    </tr>\n",
       "    <tr>\n",
       "      <th>2</th>\n",
       "      <td>4927</td>\n",
       "      <td>4</td>\n",
       "      <td>88</td>\n",
       "      <td>78</td>\n",
       "      <td>39</td>\n",
       "      <td>0</td>\n",
       "      <td>52.371341</td>\n",
       "      <td>0.279471</td>\n",
       "      <td>26</td>\n",
       "      <td>0</td>\n",
       "      <td>78.0</td>\n",
       "      <td>0</td>\n",
       "    </tr>\n",
       "    <tr>\n",
       "      <th>3</th>\n",
       "      <td>4088</td>\n",
       "      <td>9</td>\n",
       "      <td>125</td>\n",
       "      <td>74</td>\n",
       "      <td>0</td>\n",
       "      <td>0</td>\n",
       "      <td>40.062688</td>\n",
       "      <td>0.203922</td>\n",
       "      <td>45</td>\n",
       "      <td>0</td>\n",
       "      <td>74.0</td>\n",
       "      <td>0</td>\n",
       "    </tr>\n",
       "    <tr>\n",
       "      <th>4</th>\n",
       "      <td>3644</td>\n",
       "      <td>5</td>\n",
       "      <td>107</td>\n",
       "      <td>78</td>\n",
       "      <td>44</td>\n",
       "      <td>284</td>\n",
       "      <td>52.935068</td>\n",
       "      <td>0.284959</td>\n",
       "      <td>45</td>\n",
       "      <td>1</td>\n",
       "      <td>78.0</td>\n",
       "      <td>0</td>\n",
       "    </tr>\n",
       "    <tr>\n",
       "      <th>...</th>\n",
       "      <td>...</td>\n",
       "      <td>...</td>\n",
       "      <td>...</td>\n",
       "      <td>...</td>\n",
       "      <td>...</td>\n",
       "      <td>...</td>\n",
       "      <td>...</td>\n",
       "      <td>...</td>\n",
       "      <td>...</td>\n",
       "      <td>...</td>\n",
       "      <td>...</td>\n",
       "      <td>...</td>\n",
       "    </tr>\n",
       "    <tr>\n",
       "      <th>2995</th>\n",
       "      <td>4931</td>\n",
       "      <td>4</td>\n",
       "      <td>88</td>\n",
       "      <td>74</td>\n",
       "      <td>17</td>\n",
       "      <td>0</td>\n",
       "      <td>33.848723</td>\n",
       "      <td>0.171073</td>\n",
       "      <td>23</td>\n",
       "      <td>0</td>\n",
       "      <td>74.0</td>\n",
       "      <td>0</td>\n",
       "    </tr>\n",
       "    <tr>\n",
       "      <th>2996</th>\n",
       "      <td>3264</td>\n",
       "      <td>0</td>\n",
       "      <td>144</td>\n",
       "      <td>88</td>\n",
       "      <td>0</td>\n",
       "      <td>0</td>\n",
       "      <td>26.846832</td>\n",
       "      <td>0.259957</td>\n",
       "      <td>21</td>\n",
       "      <td>1</td>\n",
       "      <td>88.0</td>\n",
       "      <td>0</td>\n",
       "    </tr>\n",
       "    <tr>\n",
       "      <th>2997</th>\n",
       "      <td>1653</td>\n",
       "      <td>6</td>\n",
       "      <td>117</td>\n",
       "      <td>96</td>\n",
       "      <td>36</td>\n",
       "      <td>0</td>\n",
       "      <td>28.101646</td>\n",
       "      <td>0.716126</td>\n",
       "      <td>22</td>\n",
       "      <td>1</td>\n",
       "      <td>96.0</td>\n",
       "      <td>0</td>\n",
       "    </tr>\n",
       "    <tr>\n",
       "      <th>2998</th>\n",
       "      <td>2607</td>\n",
       "      <td>2</td>\n",
       "      <td>113</td>\n",
       "      <td>74</td>\n",
       "      <td>0</td>\n",
       "      <td>0</td>\n",
       "      <td>33.079021</td>\n",
       "      <td>0.266179</td>\n",
       "      <td>38</td>\n",
       "      <td>1</td>\n",
       "      <td>74.0</td>\n",
       "      <td>0</td>\n",
       "    </tr>\n",
       "    <tr>\n",
       "      <th>2999</th>\n",
       "      <td>2732</td>\n",
       "      <td>2</td>\n",
       "      <td>108</td>\n",
       "      <td>80</td>\n",
       "      <td>0</td>\n",
       "      <td>0</td>\n",
       "      <td>32.969598</td>\n",
       "      <td>0.241814</td>\n",
       "      <td>22</td>\n",
       "      <td>0</td>\n",
       "      <td>80.0</td>\n",
       "      <td>0</td>\n",
       "    </tr>\n",
       "  </tbody>\n",
       "</table>\n",
       "<p>3000 rows × 12 columns</p>\n",
       "</div>"
      ],
      "text/plain": [
       "      index  Pregnancies  Glucose  BloodPressure  SkinThickness  Insulin  \\\n",
       "0       200            9      125             74              0        0   \n",
       "1      3832            4      109             80              0        0   \n",
       "2      4927            4       88             78             39        0   \n",
       "3      4088            9      125             74              0        0   \n",
       "4      3644            5      107             78             44      284   \n",
       "...     ...          ...      ...            ...            ...      ...   \n",
       "2995   4931            4       88             74             17        0   \n",
       "2996   3264            0      144             88              0        0   \n",
       "2997   1653            6      117             96             36        0   \n",
       "2998   2607            2      113             74              0        0   \n",
       "2999   2732            2      108             80              0        0   \n",
       "\n",
       "            BMI  DiabetesPedigreeFunction  Age  Outcome  BloodPressure_new  \\\n",
       "0     28.536910                  0.444902   45        1               74.0   \n",
       "1     28.047673                  0.238243   22        0               80.0   \n",
       "2     52.371341                  0.279471   26        0               78.0   \n",
       "3     40.062688                  0.203922   45        0               74.0   \n",
       "4     52.935068                  0.284959   45        1               78.0   \n",
       "...         ...                       ...  ...      ...                ...   \n",
       "2995  33.848723                  0.171073   23        0               74.0   \n",
       "2996  26.846832                  0.259957   21        1               88.0   \n",
       "2997  28.101646                  0.716126   22        1               96.0   \n",
       "2998  33.079021                  0.266179   38        1               74.0   \n",
       "2999  32.969598                  0.241814   22        0               80.0   \n",
       "\n",
       "      BloodPressure_na  \n",
       "0                    0  \n",
       "1                    0  \n",
       "2                    0  \n",
       "3                    0  \n",
       "4                    0  \n",
       "...                ...  \n",
       "2995                 0  \n",
       "2996                 0  \n",
       "2997                 0  \n",
       "2998                 0  \n",
       "2999                 0  \n",
       "\n",
       "[3000 rows x 12 columns]"
      ]
     },
     "execution_count": 155,
     "metadata": {},
     "output_type": "execute_result"
    }
   ],
   "source": [
    "train['BloodPressure_na'] = train['BloodPressure_new'].isnull()*1\n",
    "train"
   ]
  },
  {
   "cell_type": "markdown",
   "id": "67e6aa7b-81d6-4426-8851-99be5173674e",
   "metadata": {},
   "source": [
    "× 欠損値（血圧０は）平均値に置き換え\n",
    "他の要素と相関あればまた考える"
   ]
  },
  {
   "cell_type": "raw",
   "id": "6aca8666-1705-4ec8-8d80-a508bea3e570",
   "metadata": {},
   "source": [
    "train['BloodPressure_new'].fillna(train['BloodPressure_new'].mean(), inplace=True) \n",
    "train.info()\n",
    "\n",
    "plt.hist(train.loc[train['Outcome'] == 0, 'BloodPressure_new'].dropna(),\n",
    "         bins=30, alpha=0.5, label='0')\n",
    "plt.hist(train.loc[train['Outcome'] == 1, 'BloodPressure_new'].dropna(),\n",
    "         bins=30, alpha=0.5, label='1')\n",
    "plt.xlabel('BloodPressure_new')\n",
    "plt.ylabel('count')\n",
    "plt.legend(title='Outcome')"
   ]
  },
  {
   "cell_type": "code",
   "execution_count": 156,
   "id": "5179ffff-6590-443b-9b13-90ccc3219774",
   "metadata": {},
   "outputs": [
    {
     "data": {
      "text/plain": [
       "<matplotlib.legend.Legend at 0x7ff0d4272d60>"
      ]
     },
     "execution_count": 156,
     "metadata": {},
     "output_type": "execute_result"
    },
    {
     "data": {
      "image/png": "[encoded data removed]",
      "text/plain": [
       "<Figure size 432x288 with 1 Axes>"
      ]
     },
     "metadata": {
      "needs_background": "light"
     },
     "output_type": "display_data"
    }
   ],
   "source": [
    "#　妊娠との関係\n",
    "plt.hist(train.loc[train['Outcome'] == 0, 'Pregnancies'].dropna(),\n",
    "         bins=50, alpha=0.5, label='0')\n",
    "plt.hist(train.loc[train['Outcome'] == 1, 'Pregnancies'].dropna(),\n",
    "         bins=50, alpha=0.5, label='1')\n",
    "plt.xlabel('Pregnancies')\n",
    "plt.ylabel('count')\n",
    "plt.legend(title='Outcome')"
   ]
  },
  {
   "cell_type": "markdown",
   "id": "d9be24c7-52be-45fb-b956-38fcfea4b3b1",
   "metadata": {},
   "source": [
    "binning"
   ]
  },
  {
   "cell_type": "code",
   "execution_count": 157,
   "id": "39bdefab-9975-40c6-b061-5d2135c514f9",
   "metadata": {},
   "outputs": [
    {
     "name": "stdout",
     "output_type": "stream",
     "text": [
      "<class 'pandas.core.frame.DataFrame'>\n",
      "RangeIndex: 3000 entries, 0 to 2999\n",
      "Data columns (total 13 columns):\n",
      " #   Column                    Non-Null Count  Dtype  \n",
      "---  ------                    --------------  -----  \n",
      " 0   index                     3000 non-null   int64  \n",
      " 1   Pregnancies               3000 non-null   int64  \n",
      " 2   Glucose                   3000 non-null   int64  \n",
      " 3   BloodPressure             3000 non-null   int64  \n",
      " 4   SkinThickness             3000 non-null   int64  \n",
      " 5   Insulin                   3000 non-null   int64  \n",
      " 6   BMI                       3000 non-null   float64\n",
      " 7   DiabetesPedigreeFunction  3000 non-null   float64\n",
      " 8   Age                       3000 non-null   int64  \n",
      " 9   Outcome                   3000 non-null   int64  \n",
      " 10  BloodPressure_new         2887 non-null   float64\n",
      " 11  BloodPressure_na          3000 non-null   int64  \n",
      " 12  Pregancies_bin            3000 non-null   int64  \n",
      "dtypes: float64(3), int64(10)\n",
      "memory usage: 304.8 KB\n"
     ]
    }
   ],
   "source": [
    "train['Pregancies_bin'] = pd.cut(train['Pregnancies'],\n",
    "                                 bins=[0, 0.1, 3, 6, 20],\n",
    "                                 right=False,\n",
    "                                 labels=[0,3,6, 20],\n",
    "                                 duplicates='raise',\n",
    "                                 include_lowest=True)\n",
    "train['Pregancies_bin'] = train['Pregancies_bin'].astype(np.int64)\n",
    "train.info()"
   ]
  },
  {
   "cell_type": "code",
   "execution_count": 158,
   "id": "45ab72ef-1f53-42a3-baa3-ffb6bcad130a",
   "metadata": {},
   "outputs": [
    {
     "data": {
      "text/plain": [
       "<matplotlib.legend.Legend at 0x7ff0d3bd4f10>"
      ]
     },
     "execution_count": 158,
     "metadata": {},
     "output_type": "execute_result"
    },
    {
     "data": {
      "image/png": "[encoded data removed]",
      "text/plain": [
       "<Figure size 432x288 with 1 Axes>"
      ]
     },
     "metadata": {
      "needs_background": "light"
     },
     "output_type": "display_data"
    }
   ],
   "source": [
    "plt.hist(train.loc[train['Outcome'] == 0, 'Pregancies_bin'].dropna(),\n",
    "         bins=30, alpha=0.5, label='0')\n",
    "plt.hist(train.loc[train['Outcome'] == 1, 'Pregancies_bin'].dropna(),\n",
    "         bins=30, alpha=0.5, label='1')\n",
    "plt.xlabel('Pregnancies_bin')\n",
    "plt.ylabel('count')\n",
    "plt.legend(title='Outcome')"
   ]
  },
  {
   "cell_type": "markdown",
   "id": "b1efcd87-59c8-4833-9f44-ac2eb8ca1b70",
   "metadata": {},
   "source": [
    "binningをカテゴリカルデータとしたら"
   ]
  },
  {
   "cell_type": "code",
   "execution_count": 159,
   "id": "0efb0c89-6f63-4c7b-9787-d68baf2f6e92",
   "metadata": {},
   "outputs": [
    {
     "data": {
      "text/html": [
       "<div>\n",
       "<style scoped>\n",
       "    .dataframe tbody tr th:only-of-type {\n",
       "        vertical-align: middle;\n",
       "    }\n",
       "\n",
       "    .dataframe tbody tr th {\n",
       "        vertical-align: top;\n",
       "    }\n",
       "\n",
       "    .dataframe thead th {\n",
       "        text-align: right;\n",
       "    }\n",
       "</style>\n",
       "<table border=\"1\" class=\"dataframe\">\n",
       "  <thead>\n",
       "    <tr style=\"text-align: right;\">\n",
       "      <th></th>\n",
       "      <th>index</th>\n",
       "      <th>Pregnancies</th>\n",
       "      <th>Glucose</th>\n",
       "      <th>BloodPressure</th>\n",
       "      <th>SkinThickness</th>\n",
       "      <th>Insulin</th>\n",
       "      <th>BMI</th>\n",
       "      <th>DiabetesPedigreeFunction</th>\n",
       "      <th>Age</th>\n",
       "      <th>Outcome</th>\n",
       "      <th>BloodPressure_new</th>\n",
       "      <th>BloodPressure_na</th>\n",
       "      <th>Pregancies_bin</th>\n",
       "      <th>Pregancies_bin_0</th>\n",
       "      <th>Pregancies_bin_3</th>\n",
       "      <th>Pregancies_bin_6</th>\n",
       "      <th>Pregancies_bin_20</th>\n",
       "    </tr>\n",
       "  </thead>\n",
       "  <tbody>\n",
       "    <tr>\n",
       "      <th>0</th>\n",
       "      <td>200</td>\n",
       "      <td>9</td>\n",
       "      <td>125</td>\n",
       "      <td>74</td>\n",
       "      <td>0</td>\n",
       "      <td>0</td>\n",
       "      <td>28.536910</td>\n",
       "      <td>0.444902</td>\n",
       "      <td>45</td>\n",
       "      <td>1</td>\n",
       "      <td>74.0</td>\n",
       "      <td>0</td>\n",
       "      <td>20</td>\n",
       "      <td>0</td>\n",
       "      <td>0</td>\n",
       "      <td>0</td>\n",
       "      <td>1</td>\n",
       "    </tr>\n",
       "    <tr>\n",
       "      <th>1</th>\n",
       "      <td>3832</td>\n",
       "      <td>4</td>\n",
       "      <td>109</td>\n",
       "      <td>80</td>\n",
       "      <td>0</td>\n",
       "      <td>0</td>\n",
       "      <td>28.047673</td>\n",
       "      <td>0.238243</td>\n",
       "      <td>22</td>\n",
       "      <td>0</td>\n",
       "      <td>80.0</td>\n",
       "      <td>0</td>\n",
       "      <td>6</td>\n",
       "      <td>0</td>\n",
       "      <td>0</td>\n",
       "      <td>1</td>\n",
       "      <td>0</td>\n",
       "    </tr>\n",
       "    <tr>\n",
       "      <th>2</th>\n",
       "      <td>4927</td>\n",
       "      <td>4</td>\n",
       "      <td>88</td>\n",
       "      <td>78</td>\n",
       "      <td>39</td>\n",
       "      <td>0</td>\n",
       "      <td>52.371341</td>\n",
       "      <td>0.279471</td>\n",
       "      <td>26</td>\n",
       "      <td>0</td>\n",
       "      <td>78.0</td>\n",
       "      <td>0</td>\n",
       "      <td>6</td>\n",
       "      <td>0</td>\n",
       "      <td>0</td>\n",
       "      <td>1</td>\n",
       "      <td>0</td>\n",
       "    </tr>\n",
       "    <tr>\n",
       "      <th>3</th>\n",
       "      <td>4088</td>\n",
       "      <td>9</td>\n",
       "      <td>125</td>\n",
       "      <td>74</td>\n",
       "      <td>0</td>\n",
       "      <td>0</td>\n",
       "      <td>40.062688</td>\n",
       "      <td>0.203922</td>\n",
       "      <td>45</td>\n",
       "      <td>0</td>\n",
       "      <td>74.0</td>\n",
       "      <td>0</td>\n",
       "      <td>20</td>\n",
       "      <td>0</td>\n",
       "      <td>0</td>\n",
       "      <td>0</td>\n",
       "      <td>1</td>\n",
       "    </tr>\n",
       "    <tr>\n",
       "      <th>4</th>\n",
       "      <td>3644</td>\n",
       "      <td>5</td>\n",
       "      <td>107</td>\n",
       "      <td>78</td>\n",
       "      <td>44</td>\n",
       "      <td>284</td>\n",
       "      <td>52.935068</td>\n",
       "      <td>0.284959</td>\n",
       "      <td>45</td>\n",
       "      <td>1</td>\n",
       "      <td>78.0</td>\n",
       "      <td>0</td>\n",
       "      <td>6</td>\n",
       "      <td>0</td>\n",
       "      <td>0</td>\n",
       "      <td>1</td>\n",
       "      <td>0</td>\n",
       "    </tr>\n",
       "    <tr>\n",
       "      <th>...</th>\n",
       "      <td>...</td>\n",
       "      <td>...</td>\n",
       "      <td>...</td>\n",
       "      <td>...</td>\n",
       "      <td>...</td>\n",
       "      <td>...</td>\n",
       "      <td>...</td>\n",
       "      <td>...</td>\n",
       "      <td>...</td>\n",
       "      <td>...</td>\n",
       "      <td>...</td>\n",
       "      <td>...</td>\n",
       "      <td>...</td>\n",
       "      <td>...</td>\n",
       "      <td>...</td>\n",
       "      <td>...</td>\n",
       "      <td>...</td>\n",
       "    </tr>\n",
       "    <tr>\n",
       "      <th>2995</th>\n",
       "      <td>4931</td>\n",
       "      <td>4</td>\n",
       "      <td>88</td>\n",
       "      <td>74</td>\n",
       "      <td>17</td>\n",
       "      <td>0</td>\n",
       "      <td>33.848723</td>\n",
       "      <td>0.171073</td>\n",
       "      <td>23</td>\n",
       "      <td>0</td>\n",
       "      <td>74.0</td>\n",
       "      <td>0</td>\n",
       "      <td>6</td>\n",
       "      <td>0</td>\n",
       "      <td>0</td>\n",
       "      <td>1</td>\n",
       "      <td>0</td>\n",
       "    </tr>\n",
       "    <tr>\n",
       "      <th>2996</th>\n",
       "      <td>3264</td>\n",
       "      <td>0</td>\n",
       "      <td>144</td>\n",
       "      <td>88</td>\n",
       "      <td>0</td>\n",
       "      <td>0</td>\n",
       "      <td>26.846832</td>\n",
       "      <td>0.259957</td>\n",
       "      <td>21</td>\n",
       "      <td>1</td>\n",
       "      <td>88.0</td>\n",
       "      <td>0</td>\n",
       "      <td>0</td>\n",
       "      <td>1</td>\n",
       "      <td>0</td>\n",
       "      <td>0</td>\n",
       "      <td>0</td>\n",
       "    </tr>\n",
       "    <tr>\n",
       "      <th>2997</th>\n",
       "      <td>1653</td>\n",
       "      <td>6</td>\n",
       "      <td>117</td>\n",
       "      <td>96</td>\n",
       "      <td>36</td>\n",
       "      <td>0</td>\n",
       "      <td>28.101646</td>\n",
       "      <td>0.716126</td>\n",
       "      <td>22</td>\n",
       "      <td>1</td>\n",
       "      <td>96.0</td>\n",
       "      <td>0</td>\n",
       "      <td>20</td>\n",
       "      <td>0</td>\n",
       "      <td>0</td>\n",
       "      <td>0</td>\n",
       "      <td>1</td>\n",
       "    </tr>\n",
       "    <tr>\n",
       "      <th>2998</th>\n",
       "      <td>2607</td>\n",
       "      <td>2</td>\n",
       "      <td>113</td>\n",
       "      <td>74</td>\n",
       "      <td>0</td>\n",
       "      <td>0</td>\n",
       "      <td>33.079021</td>\n",
       "      <td>0.266179</td>\n",
       "      <td>38</td>\n",
       "      <td>1</td>\n",
       "      <td>74.0</td>\n",
       "      <td>0</td>\n",
       "      <td>3</td>\n",
       "      <td>0</td>\n",
       "      <td>1</td>\n",
       "      <td>0</td>\n",
       "      <td>0</td>\n",
       "    </tr>\n",
       "    <tr>\n",
       "      <th>2999</th>\n",
       "      <td>2732</td>\n",
       "      <td>2</td>\n",
       "      <td>108</td>\n",
       "      <td>80</td>\n",
       "      <td>0</td>\n",
       "      <td>0</td>\n",
       "      <td>32.969598</td>\n",
       "      <td>0.241814</td>\n",
       "      <td>22</td>\n",
       "      <td>0</td>\n",
       "      <td>80.0</td>\n",
       "      <td>0</td>\n",
       "      <td>3</td>\n",
       "      <td>0</td>\n",
       "      <td>1</td>\n",
       "      <td>0</td>\n",
       "      <td>0</td>\n",
       "    </tr>\n",
       "  </tbody>\n",
       "</table>\n",
       "<p>3000 rows × 17 columns</p>\n",
       "</div>"
      ],
      "text/plain": [
       "      index  Pregnancies  Glucose  BloodPressure  SkinThickness  Insulin  \\\n",
       "0       200            9      125             74              0        0   \n",
       "1      3832            4      109             80              0        0   \n",
       "2      4927            4       88             78             39        0   \n",
       "3      4088            9      125             74              0        0   \n",
       "4      3644            5      107             78             44      284   \n",
       "...     ...          ...      ...            ...            ...      ...   \n",
       "2995   4931            4       88             74             17        0   \n",
       "2996   3264            0      144             88              0        0   \n",
       "2997   1653            6      117             96             36        0   \n",
       "2998   2607            2      113             74              0        0   \n",
       "2999   2732            2      108             80              0        0   \n",
       "\n",
       "            BMI  DiabetesPedigreeFunction  Age  Outcome  BloodPressure_new  \\\n",
       "0     28.536910                  0.444902   45        1               74.0   \n",
       "1     28.047673                  0.238243   22        0               80.0   \n",
       "2     52.371341                  0.279471   26        0               78.0   \n",
       "3     40.062688                  0.203922   45        0               74.0   \n",
       "4     52.935068                  0.284959   45        1               78.0   \n",
       "...         ...                       ...  ...      ...                ...   \n",
       "2995  33.848723                  0.171073   23        0               74.0   \n",
       "2996  26.846832                  0.259957   21        1               88.0   \n",
       "2997  28.101646                  0.716126   22        1               96.0   \n",
       "2998  33.079021                  0.266179   38        1               74.0   \n",
       "2999  32.969598                  0.241814   22        0               80.0   \n",
       "\n",
       "      BloodPressure_na Pregancies_bin  Pregancies_bin_0  Pregancies_bin_3  \\\n",
       "0                    0             20                 0                 0   \n",
       "1                    0              6                 0                 0   \n",
       "2                    0              6                 0                 0   \n",
       "3                    0             20                 0                 0   \n",
       "4                    0              6                 0                 0   \n",
       "...                ...            ...               ...               ...   \n",
       "2995                 0              6                 0                 0   \n",
       "2996                 0              0                 1                 0   \n",
       "2997                 0             20                 0                 0   \n",
       "2998                 0              3                 0                 1   \n",
       "2999                 0              3                 0                 1   \n",
       "\n",
       "      Pregancies_bin_6  Pregancies_bin_20  \n",
       "0                    0                  1  \n",
       "1                    1                  0  \n",
       "2                    1                  0  \n",
       "3                    0                  1  \n",
       "4                    1                  0  \n",
       "...                ...                ...  \n",
       "2995                 1                  0  \n",
       "2996                 0                  0  \n",
       "2997                 0                  1  \n",
       "2998                 0                  0  \n",
       "2999                 0                  0  \n",
       "\n",
       "[3000 rows x 17 columns]"
      ]
     },
     "metadata": {},
     "output_type": "display_data"
    },
    {
     "data": {
      "text/plain": [
       "30"
      ]
     },
     "metadata": {},
     "output_type": "display_data"
    }
   ],
   "source": [
    "train['Pregancies_bin'] = train['Pregancies_bin'].astype('category')\n",
    "# train.info()\n",
    "P_bin = pd.get_dummies(train[['Pregancies_bin']])\n",
    "train = pd.concat([train,P_bin] , axis=1)\n",
    "# P_bin\n",
    "display(train, 30)"
   ]
  },
  {
   "cell_type": "markdown",
   "id": "b49d36c0-d739-4da7-9a5b-ee2128ca584b",
   "metadata": {},
   "source": [
    "妊娠の有無のデータ"
   ]
  },
  {
   "cell_type": "code",
   "execution_count": 160,
   "id": "f2f6f4ef-4e89-4173-a546-971cf6a68136",
   "metadata": {},
   "outputs": [],
   "source": [
    "train['Pregnancies_new'] = train['Pregnancies'].replace([0], np.nan)\n",
    "train['Pregnancies_na'] = train['BloodPressure_new'].isnull()*1"
   ]
  },
  {
   "cell_type": "markdown",
   "id": "d9a2c841-f3b7-4e3a-9e49-0bf3f64f343e",
   "metadata": {},
   "source": [
    "妊娠の数は年齢と共に増加（相関高い）\n",
    "妊娠数・年齢の特徴量作成"
   ]
  },
  {
   "cell_type": "code",
   "execution_count": 161,
   "id": "5ef3ae5c-33fe-4ac7-b8e0-01a92ed6b509",
   "metadata": {},
   "outputs": [],
   "source": [
    "train['Pre/age'] = train['Pregnancies'] /train['Age']"
   ]
  },
  {
   "cell_type": "code",
   "execution_count": 162,
   "id": "92ed254f-4930-4de2-bbb1-427a80116dc6",
   "metadata": {},
   "outputs": [
    {
     "data": {
      "text/plain": [
       "<matplotlib.legend.Legend at 0x7ff0d3b425b0>"
      ]
     },
     "execution_count": 162,
     "metadata": {},
     "output_type": "execute_result"
    },
    {
     "data": {
      "image/png": "[encoded data removed]",
      "text/plain": [
       "<Figure size 432x288 with 1 Axes>"
      ]
     },
     "metadata": {
      "needs_background": "light"
     },
     "output_type": "display_data"
    }
   ],
   "source": [
    "#　インスリン値との関係\n",
    "plt.hist(train.loc[train['Outcome'] == 0, 'Insulin'].dropna(),\n",
    "         bins=30, alpha=0.5, label='0')\n",
    "plt.hist(train.loc[train['Outcome'] == 1, 'Insulin'].dropna(),\n",
    "         bins=30, alpha=0.5, label='1')\n",
    "plt.axis([0, 500, 0, 40])\n",
    "plt.xlabel('Insulin')\n",
    "plt.ylabel('count')\n",
    "plt.legend(title='Outcome')"
   ]
  },
  {
   "cell_type": "code",
   "execution_count": 163,
   "id": "4ccd0f1f-4172-4825-b870-4dbe2304111c",
   "metadata": {},
   "outputs": [
    {
     "data": {
      "text/plain": [
       "<matplotlib.legend.Legend at 0x7ff0d3ac6220>"
      ]
     },
     "execution_count": 163,
     "metadata": {},
     "output_type": "execute_result"
    },
    {
     "data": {
      "image/png": "[encoded data removed]",
      "text/plain": [
       "<Figure size 432x288 with 1 Axes>"
      ]
     },
     "metadata": {
      "needs_background": "light"
     },
     "output_type": "display_data"
    }
   ],
   "source": [
    "#血糖値とインスリン０の関係\n",
    "plt.hist(train.loc[train['Insulin'] == 0, 'Glucose'].dropna(),\n",
    "         bins=30, alpha=0.5, label='0')\n",
    "plt.hist(train.loc[train['Insulin'] != 0, 'Glucose'].dropna(),\n",
    "         bins=30, alpha=0.5, label='not0')\n",
    "plt.xlabel('Glucose')\n",
    "plt.ylabel('Insulin_count')\n",
    "plt.legend(title='0or1')"
   ]
  },
  {
   "cell_type": "code",
   "execution_count": 164,
   "id": "e0c2bdeb-99f4-4f22-9ed1-e6487077272e",
   "metadata": {},
   "outputs": [
    {
     "data": {
      "text/plain": [
       "<matplotlib.legend.Legend at 0x7ff0d3b33eb0>"
      ]
     },
     "execution_count": 164,
     "metadata": {},
     "output_type": "execute_result"
    },
    {
     "data": {
      "image/png": "[encoded data removed]",
      "text/plain": [
       "<Figure size 432x288 with 1 Axes>"
      ]
     },
     "metadata": {
      "needs_background": "light"
     },
     "output_type": "display_data"
    }
   ],
   "source": [
    "#DiabetesPedigreeFunctionとインスリン０の関係\n",
    "plt.hist(train.loc[train['Insulin'] == 0, 'DiabetesPedigreeFunction'].dropna(),\n",
    "         bins=50, alpha=0.5, label='0')\n",
    "plt.hist(train.loc[train['Insulin'] != 0, 'DiabetesPedigreeFunction'].dropna(),\n",
    "         bins=50, alpha=0.5, label='not0')\n",
    "plt.xlabel('DiabetesPedigreeFunction')\n",
    "plt.ylabel('Insulin_count')\n",
    "plt.legend(title='0or1')"
   ]
  },
  {
   "cell_type": "markdown",
   "id": "848f0943-175c-4613-a6bc-4a35319c87d9",
   "metadata": {},
   "source": [
    "'DiabetesPedigreeFunction'が低い人はラベル０が多い\n",
    "'DiabetesPedigreeFunction'が高い人は差がない\n",
    "インスリン値が０は欠損と扱い、'DiabetesPedigreeFunction' 0.4以下の平均で埋める."
   ]
  },
  {
   "cell_type": "code",
   "execution_count": 165,
   "id": "7400d940-2662-490d-ab26-f769786eeab5",
   "metadata": {},
   "outputs": [
    {
     "data": {
      "text/plain": [
       "<matplotlib.legend.Legend at 0x7ff0d38ce520>"
      ]
     },
     "execution_count": 165,
     "metadata": {},
     "output_type": "execute_result"
    },
    {
     "data": {
      "image/png": "[encoded data removed]",
      "text/plain": [
       "<Figure size 432x288 with 1 Axes>"
      ]
     },
     "metadata": {
      "needs_background": "light"
     },
     "output_type": "display_data"
    }
   ],
   "source": [
    "DPF2 = train[(train['DiabetesPedigreeFunction'] < 0.4)  & (train['Insulin'] != 0 )]['Insulin']\n",
    "DPF8 = train[(train['DiabetesPedigreeFunction'] >= 0.4)  & (train['Insulin'] != 0 )]['Insulin']\n",
    "\n",
    "plt.hist(DPF2,bins=50, alpha=0.5, label='-0.4')\n",
    "plt.hist(DPF8,bins=50, alpha=0.5, label='0.4-')\n",
    "plt.xlabel('DiabetesPedigreeFunction(<0.5)_Insulin')\n",
    "plt.ylabel('count')\n",
    "plt.legend(title='threshold')"
   ]
  },
  {
   "cell_type": "code",
   "execution_count": 166,
   "id": "a46ec4ec-377d-4066-ad7f-c3e38812cf74",
   "metadata": {},
   "outputs": [
    {
     "data": {
      "text/plain": [
       "135.63636363636363"
      ]
     },
     "execution_count": 166,
     "metadata": {},
     "output_type": "execute_result"
    }
   ],
   "source": [
    "DPF = train[(train['DiabetesPedigreeFunction'] < 0.4)  & (train['Insulin'] != 0 )]['Insulin'].mean()\n",
    "DPF"
   ]
  },
  {
   "cell_type": "code",
   "execution_count": 167,
   "id": "dfb91237-fc6a-405a-8bdf-7c1c7f779f3b",
   "metadata": {},
   "outputs": [
    {
     "name": "stdout",
     "output_type": "stream",
     "text": [
      "<class 'pandas.core.frame.DataFrame'>\n",
      "RangeIndex: 3000 entries, 0 to 2999\n",
      "Data columns (total 21 columns):\n",
      " #   Column                    Non-Null Count  Dtype   \n",
      "---  ------                    --------------  -----   \n",
      " 0   index                     3000 non-null   int64   \n",
      " 1   Pregnancies               3000 non-null   int64   \n",
      " 2   Glucose                   3000 non-null   int64   \n",
      " 3   BloodPressure             3000 non-null   int64   \n",
      " 4   SkinThickness             3000 non-null   int64   \n",
      " 5   Insulin                   3000 non-null   int64   \n",
      " 6   BMI                       3000 non-null   float64 \n",
      " 7   DiabetesPedigreeFunction  3000 non-null   float64 \n",
      " 8   Age                       3000 non-null   int64   \n",
      " 9   Outcome                   3000 non-null   int64   \n",
      " 10  BloodPressure_new         2887 non-null   float64 \n",
      " 11  BloodPressure_na          3000 non-null   int64   \n",
      " 12  Pregancies_bin            3000 non-null   category\n",
      " 13  Pregancies_bin_0          3000 non-null   uint8   \n",
      " 14  Pregancies_bin_3          3000 non-null   uint8   \n",
      " 15  Pregancies_bin_6          3000 non-null   uint8   \n",
      " 16  Pregancies_bin_20         3000 non-null   uint8   \n",
      " 17  Pregnancies_new           2570 non-null   float64 \n",
      " 18  Pregnancies_na            3000 non-null   int64   \n",
      " 19  Pre/age                   3000 non-null   float64 \n",
      " 20  Insulin_DPF               3000 non-null   float64 \n",
      "dtypes: category(1), float64(6), int64(10), uint8(4)\n",
      "memory usage: 390.0 KB\n"
     ]
    },
    {
     "data": {
      "text/plain": [
       "<matplotlib.legend.Legend at 0x7ff0d3804c70>"
      ]
     },
     "execution_count": 167,
     "metadata": {},
     "output_type": "execute_result"
    },
    {
     "data": {
      "image/png": "[encoded data removed]",
      "text/plain": [
       "<Figure size 432x288 with 1 Axes>"
      ]
     },
     "metadata": {
      "needs_background": "light"
     },
     "output_type": "display_data"
    }
   ],
   "source": [
    "train['Insulin_DPF'] = train['Insulin'].replace([0], np.nan)\n",
    "train['Insulin_DPF'].fillna(DPF, inplace=True) \n",
    "train.info()\n",
    "\n",
    "plt.hist(train.loc[train['Outcome'] == 0, 'Insulin_DPF'].dropna(),\n",
    "         bins=30, alpha=0.5, label='0')\n",
    "plt.hist(train.loc[train['Outcome'] == 1, 'Insulin_DPF'].dropna(),\n",
    "         bins=30, alpha=0.5, label='1')\n",
    "plt.axis([0, 500, 0, 40])\n",
    "plt.xlabel('Insulin_DPF')\n",
    "plt.ylabel('count')\n",
    "plt.legend(title='Outcome')"
   ]
  },
  {
   "cell_type": "code",
   "execution_count": 168,
   "id": "37c746c7-f4ae-4d05-8f4e-3dc7a7ca8763",
   "metadata": {},
   "outputs": [
    {
     "data": {
      "text/plain": [
       "<matplotlib.legend.Legend at 0x7ff0d3775e50>"
      ]
     },
     "execution_count": 168,
     "metadata": {},
     "output_type": "execute_result"
    },
    {
     "data": {
      "image/png": "[encoded data removed]",
      "text/plain": [
       "<Figure size 432x288 with 1 Axes>"
      ]
     },
     "metadata": {
      "needs_background": "light"
     },
     "output_type": "display_data"
    }
   ],
   "source": [
    "#　皮膚厚との関係\n",
    "plt.hist(train.loc[train['Outcome'] == 0, 'SkinThickness'].dropna(),\n",
    "         bins=30, alpha=0.5, label='0')\n",
    "plt.hist(train.loc[train['Outcome'] == 1, 'SkinThickness'].dropna(),\n",
    "         bins=30, alpha=0.5, label='1')\n",
    "plt.axis([0, 50, 0, 200])\n",
    "plt.xlabel('Skin')\n",
    "plt.ylabel('count')\n",
    "plt.legend(title='Outcome')"
   ]
  },
  {
   "cell_type": "markdown",
   "id": "86cab504-5fcf-4b0b-86fc-0dc78e16ea10",
   "metadata": {},
   "source": [
    "分布に違いはありそう\n",
    "しかし皮膚厚は分布からみて明らかに０はおかしい,データを取得していないか？\n",
    "０は平均値で置換"
   ]
  },
  {
   "cell_type": "code",
   "execution_count": 169,
   "id": "02c44be1-6daa-4dba-987d-d3cd80991b1e",
   "metadata": {},
   "outputs": [
    {
     "data": {
      "text/plain": [
       "Text(0, 0.5, 'SkinThickness')"
      ]
     },
     "execution_count": 169,
     "metadata": {},
     "output_type": "execute_result"
    },
    {
     "data": {
      "image/png": "[encoded data removed]",
      "text/plain": [
       "<Figure size 432x288 with 1 Axes>"
      ]
     },
     "metadata": {
      "needs_background": "light"
     },
     "output_type": "display_data"
    }
   ],
   "source": [
    "#特に相関が高かったInsulinと皮膚の関係\n",
    "plt.scatter(train['Insulin'], train['SkinThickness'])\n",
    "plt.xlabel('Insulin')\n",
    "plt.ylabel('SkinThickness')"
   ]
  },
  {
   "cell_type": "markdown",
   "id": "ee946454-e999-4651-a2ff-48b229ceabd4",
   "metadata": {},
   "source": [
    "関係性は低いか、、、\n",
    "やはり平均で置換"
   ]
  },
  {
   "cell_type": "code",
   "execution_count": 170,
   "id": "e26672bf-8a61-4cc5-8958-43b5627f60d6",
   "metadata": {},
   "outputs": [
    {
     "name": "stdout",
     "output_type": "stream",
     "text": [
      "<class 'pandas.core.frame.DataFrame'>\n",
      "RangeIndex: 3000 entries, 0 to 2999\n",
      "Data columns (total 22 columns):\n",
      " #   Column                    Non-Null Count  Dtype   \n",
      "---  ------                    --------------  -----   \n",
      " 0   index                     3000 non-null   int64   \n",
      " 1   Pregnancies               3000 non-null   int64   \n",
      " 2   Glucose                   3000 non-null   int64   \n",
      " 3   BloodPressure             3000 non-null   int64   \n",
      " 4   SkinThickness             3000 non-null   int64   \n",
      " 5   Insulin                   3000 non-null   int64   \n",
      " 6   BMI                       3000 non-null   float64 \n",
      " 7   DiabetesPedigreeFunction  3000 non-null   float64 \n",
      " 8   Age                       3000 non-null   int64   \n",
      " 9   Outcome                   3000 non-null   int64   \n",
      " 10  BloodPressure_new         2887 non-null   float64 \n",
      " 11  BloodPressure_na          3000 non-null   int64   \n",
      " 12  Pregancies_bin            3000 non-null   category\n",
      " 13  Pregancies_bin_0          3000 non-null   uint8   \n",
      " 14  Pregancies_bin_3          3000 non-null   uint8   \n",
      " 15  Pregancies_bin_6          3000 non-null   uint8   \n",
      " 16  Pregancies_bin_20         3000 non-null   uint8   \n",
      " 17  Pregnancies_new           2570 non-null   float64 \n",
      " 18  Pregnancies_na            3000 non-null   int64   \n",
      " 19  Pre/age                   3000 non-null   float64 \n",
      " 20  Insulin_DPF               3000 non-null   float64 \n",
      " 21  SkinThickness_new         3000 non-null   float64 \n",
      "dtypes: category(1), float64(7), int64(10), uint8(4)\n",
      "memory usage: 413.4 KB\n"
     ]
    },
    {
     "data": {
      "text/plain": [
       "<matplotlib.legend.Legend at 0x7ff0d374dca0>"
      ]
     },
     "execution_count": 170,
     "metadata": {},
     "output_type": "execute_result"
    },
    {
     "data": {
      "image/png": "[encoded data removed]",
      "text/plain": [
       "<Figure size 432x288 with 1 Axes>"
      ]
     },
     "metadata": {
      "needs_background": "light"
     },
     "output_type": "display_data"
    }
   ],
   "source": [
    "train['SkinThickness_new'] = train['SkinThickness'].replace([0], np.nan)\n",
    "train['SkinThickness_new'].fillna(train['SkinThickness_new'].mean(), inplace=True) \n",
    "train.info()\n",
    "\n",
    "plt.hist(train.loc[train['Outcome'] == 0, 'SkinThickness_new'].dropna(),\n",
    "         bins=30, alpha=0.5, label='0')\n",
    "plt.hist(train.loc[train['Outcome'] == 1, 'SkinThickness_new'].dropna(),\n",
    "         bins=30, alpha=0.5, label='1')\n",
    "plt.axis([0, 50, 0, 200])\n",
    "plt.xlabel('Skin_new')\n",
    "plt.ylabel('count')\n",
    "plt.legend(title='Outcome')"
   ]
  },
  {
   "cell_type": "code",
   "execution_count": 171,
   "id": "2a8fe9bc-edc0-4082-9977-d8e4e72cb62b",
   "metadata": {},
   "outputs": [
    {
     "data": {
      "text/plain": [
       "<matplotlib.legend.Legend at 0x7ff0d3527ee0>"
      ]
     },
     "execution_count": 171,
     "metadata": {},
     "output_type": "execute_result"
    },
    {
     "data": {
      "image/png": "[encoded data removed]",
      "text/plain": [
       "<Figure size 432x288 with 1 Axes>"
      ]
     },
     "metadata": {
      "needs_background": "light"
     },
     "output_type": "display_data"
    }
   ],
   "source": [
    "#　BMIとの関係\n",
    "plt.hist(train.loc[train['Outcome'] == 0, 'BMI'].dropna(),\n",
    "         bins=100, alpha=0.5, label='0')\n",
    "plt.hist(train.loc[train['Outcome'] == 1, 'BMI'].dropna(),\n",
    "         bins=100, alpha=0.5, label='1')\n",
    "# plt.axis([0, 50, 0, 200])\n",
    "plt.xlabel('BMI')\n",
    "plt.ylabel('count')\n",
    "plt.legend(title='Outcome')"
   ]
  },
  {
   "cell_type": "markdown",
   "id": "8292249d-3d5a-41e2-8078-47b938c9ea26",
   "metadata": {},
   "source": [
    "BMIは０でなく０付近に一山ある。この値はおかしい桁間違いか"
   ]
  },
  {
   "cell_type": "code",
   "execution_count": 172,
   "id": "c9d003d8-4564-4d29-ad77-4697455113fe",
   "metadata": {},
   "outputs": [
    {
     "data": {
      "text/plain": [
       "<matplotlib.legend.Legend at 0x7ff0d37669d0>"
      ]
     },
     "execution_count": 172,
     "metadata": {},
     "output_type": "execute_result"
    },
    {
     "data": {
      "image/png": "[encoded data removed]",
      "text/plain": [
       "<Figure size 432x288 with 1 Axes>"
      ]
     },
     "metadata": {
      "needs_background": "light"
     },
     "output_type": "display_data"
    }
   ],
   "source": [
    "# 10以下で確認\n",
    "plt.hist(train.loc[train['BMI'] < 10, 'BMI'].dropna(),\n",
    "         bins=100, alpha=0.5, label='0')\n",
    "plt.xlabel('BMI')\n",
    "plt.ylabel('count')\n",
    "plt.legend(title='BMI(<10)')"
   ]
  },
  {
   "cell_type": "code",
   "execution_count": 173,
   "id": "52cfb4bd-ec02-49d8-a4e1-fd8f0c2c51bc",
   "metadata": {},
   "outputs": [],
   "source": [
    "def BMI(x):\n",
    "    if x<1:\n",
    "        x =  x*10000\n",
    "        return x\n",
    "    else :\n",
    "        return x"
   ]
  },
  {
   "cell_type": "code",
   "execution_count": 174,
   "id": "37475765-03eb-4e89-8f09-67a9411486f6",
   "metadata": {},
   "outputs": [],
   "source": [
    "train['BMI'] = train['BMI'].apply(BMI)"
   ]
  },
  {
   "cell_type": "code",
   "execution_count": 175,
   "id": "3f0a21be-e14e-43fb-af78-d185581f028b",
   "metadata": {
    "tags": []
   },
   "outputs": [
    {
     "data": {
      "text/plain": [
       "<matplotlib.legend.Legend at 0x7ff0d3fe6730>"
      ]
     },
     "execution_count": 175,
     "metadata": {},
     "output_type": "execute_result"
    },
    {
     "data": {
      "image/png": "[encoded data removed]",
      "text/plain": [
       "<Figure size 432x288 with 1 Axes>"
      ]
     },
     "metadata": {
      "needs_background": "light"
     },
     "output_type": "display_data"
    }
   ],
   "source": [
    "#　桁補正後BMIとの関係\n",
    "plt.hist(train.loc[train['Outcome'] == 0, 'BMI'].dropna(),\n",
    "         bins=30, alpha=0.5, label='0')\n",
    "plt.hist(train.loc[train['Outcome'] == 1, 'BMI'].dropna(),\n",
    "         bins=30, alpha=0.5, label='1')\n",
    "# plt.axis([0, 50, 0, 200])\n",
    "plt.xlabel('BMI')\n",
    "plt.ylabel('count')\n",
    "plt.legend(title='Outcome')"
   ]
  },
  {
   "cell_type": "code",
   "execution_count": 176,
   "id": "bb10dda8-7fdf-431f-985e-d057ed494746",
   "metadata": {},
   "outputs": [
    {
     "data": {
      "text/plain": [
       "count    3000.000000\n",
       "mean       35.408959\n",
       "std         6.990180\n",
       "min         7.748040\n",
       "25%        32.301920\n",
       "50%        33.835873\n",
       "75%        39.578256\n",
       "max        53.400629\n",
       "Name: BMI, dtype: float64"
      ]
     },
     "execution_count": 176,
     "metadata": {},
     "output_type": "execute_result"
    }
   ],
   "source": [
    "train['BMI'].describe()"
   ]
  },
  {
   "cell_type": "code",
   "execution_count": 177,
   "id": "69474c3c-7801-4191-8d14-27562d09c517",
   "metadata": {},
   "outputs": [
    {
     "data": {
      "text/plain": [
       "<matplotlib.legend.Legend at 0x7ff0d35106a0>"
      ]
     },
     "execution_count": 177,
     "metadata": {},
     "output_type": "execute_result"
    },
    {
     "data": {
      "image/png": "[encoded data removed]",
      "text/plain": [
       "<Figure size 432x288 with 1 Axes>"
      ]
     },
     "metadata": {
      "needs_background": "light"
     },
     "output_type": "display_data"
    }
   ],
   "source": [
    "#　Glucoseとの関係\n",
    "plt.hist(train.loc[train['Outcome'] == 0, 'Glucose'].dropna(),\n",
    "         bins=30, alpha=0.5, label='0')\n",
    "plt.hist(train.loc[train['Outcome'] == 1, 'Glucose'].dropna(),\n",
    "         bins=30, alpha=0.5, label='1')\n",
    "# plt.axis([0, 50, 0, 200])\n",
    "plt.xlabel('Glucose')\n",
    "plt.ylabel('count')\n",
    "plt.legend(title='Outcome')"
   ]
  },
  {
   "cell_type": "markdown",
   "id": "c7e9e6a1-4889-461c-92a5-316e6d44b606",
   "metadata": {},
   "source": [
    "## データの修正項目\n",
    "\n",
    "・血圧　欠損かどうかの特徴量追加\n",
    "\n",
    "・インスリン　DiabetesPedigreeFunction'] < 0.4　の平均\n",
    "\n",
    "・皮膚厚　平均\n",
    "\n",
    "・妊娠/Age\n",
    "\n",
    "（・BMI　1以下は1000倍）"
   ]
  },
  {
   "cell_type": "code",
   "execution_count": 178,
   "id": "cf47b27c-04af-41f4-ac5d-97e0d704f637",
   "metadata": {},
   "outputs": [],
   "source": [
    "#データ読み込み\n",
    "train = pd.read_csv(\"data/train.csv\")\n",
    "test = pd.read_csv(\"data/test.csv\")\n",
    "sample= pd.read_csv(\"data/sample_submit.csv\",header = None)\n",
    "\n",
    "df = pd.concat([train, test], sort=False)"
   ]
  },
  {
   "cell_type": "code",
   "execution_count": 179,
   "id": "46470948-af23-4b68-b318-8ce68d9cad63",
   "metadata": {},
   "outputs": [],
   "source": [
    "DPF = train[(train['DiabetesPedigreeFunction'] < 0.4)  & (train['Insulin'] != 0 )]['Insulin'].mean()"
   ]
  },
  {
   "cell_type": "code",
   "execution_count": 180,
   "id": "8237c5e0-e861-4d8a-9c0b-e44bcc6c0650",
   "metadata": {},
   "outputs": [
    {
     "data": {
      "text/plain": [
       "index                          0\n",
       "Pregnancies                    0\n",
       "Glucose                        0\n",
       "BloodPressure                  0\n",
       "SkinThickness                  0\n",
       "Insulin                        0\n",
       "BMI                            0\n",
       "DiabetesPedigreeFunction       0\n",
       "Age                            0\n",
       "Outcome                     2000\n",
       "BloodPressure_0              186\n",
       "SkinThickness_0             2920\n",
       "Insulin_0                   4582\n",
       "Pregnancies_0                726\n",
       "dtype: int64"
      ]
     },
     "execution_count": 180,
     "metadata": {},
     "output_type": "execute_result"
    }
   ],
   "source": [
    "df['BloodPressure_0'] = df['BloodPressure'].replace([0], np.nan)\n",
    "df['SkinThickness_0'] = df['SkinThickness'].replace([0], np.nan)\n",
    "df['Insulin_0'] = df['Insulin'].replace([0], np.nan)\n",
    "df['Pregnancies_0'] = train['Pregnancies'].replace([0], np.nan)\n",
    "\n",
    "df.isnull().sum()"
   ]
  },
  {
   "cell_type": "code",
   "execution_count": 181,
   "id": "a520190b-9ccb-427a-85bc-697bbcfcbec2",
   "metadata": {},
   "outputs": [
    {
     "name": "stdout",
     "output_type": "stream",
     "text": [
      "<class 'pandas.core.frame.DataFrame'>\n",
      "Int64Index: 5000 entries, 0 to 1999\n",
      "Data columns (total 27 columns):\n",
      " #   Column                    Non-Null Count  Dtype   \n",
      "---  ------                    --------------  -----   \n",
      " 0   index                     5000 non-null   int64   \n",
      " 1   Pregnancies               5000 non-null   int64   \n",
      " 2   Glucose                   5000 non-null   int64   \n",
      " 3   BloodPressure             5000 non-null   int64   \n",
      " 4   SkinThickness             5000 non-null   int64   \n",
      " 5   Insulin                   5000 non-null   int64   \n",
      " 6   BMI                       5000 non-null   float64 \n",
      " 7   DiabetesPedigreeFunction  5000 non-null   float64 \n",
      " 8   Age                       5000 non-null   int64   \n",
      " 9   Outcome                   3000 non-null   float64 \n",
      " 10  BloodPressure_0           4814 non-null   float64 \n",
      " 11  SkinThickness_0           2080 non-null   float64 \n",
      " 12  Insulin_0                 418 non-null    float64 \n",
      " 13  Pregnancies_0             4274 non-null   float64 \n",
      " 14  SkinThickness_na          5000 non-null   int64   \n",
      " 15  BloodPressure_na          5000 non-null   int64   \n",
      " 16  Insulin_na                5000 non-null   int64   \n",
      " 17  Pregnancies_na            5000 non-null   int64   \n",
      " 18  Pre/age                   5000 non-null   float64 \n",
      " 19  SkinThickness_mean        5000 non-null   float64 \n",
      " 20  BloodPressure_mean        5000 non-null   float64 \n",
      " 21  Insulin_dpf_mean          5000 non-null   float64 \n",
      " 22  Pregnancies_bin           5000 non-null   category\n",
      " 23  Pregnancies_bin_0         5000 non-null   uint8   \n",
      " 24  Pregnancies_bin_-1        5000 non-null   uint8   \n",
      " 25  Pregnancies_bin_-3        5000 non-null   uint8   \n",
      " 26  Pregnancies_bin_3-        5000 non-null   uint8   \n",
      "dtypes: category(1), float64(11), int64(11), uint8(4)\n",
      "memory usage: 923.1 KB\n"
     ]
    }
   ],
   "source": [
    "#追加\n",
    "df['SkinThickness_na'] = df['SkinThickness_0'].isnull()*1\n",
    "df['BloodPressure_na'] = df['BloodPressure_0'].isnull()*1\n",
    "df['Insulin_na'] = df['Insulin_0'].isnull()*1\n",
    "df['Pregnancies_na'] = df['BloodPressure_0'].isnull()*1\n",
    "df['Pre/age'] = df['Pregnancies'] / df['Age']\n",
    "\n",
    "#修正\n",
    "df['BMI'] = df['BMI'].apply(BMI)\n",
    "\n",
    "#欠損補完\n",
    "df['SkinThickness_mean'] = df['SkinThickness_0'].fillna(df['SkinThickness_0'].mean(), inplace=False)\n",
    "df['BloodPressure_mean'] = df['BloodPressure_0'].fillna(df['BloodPressure_0'].mean(), inplace=False)\n",
    "df['Insulin_dpf_mean'] = df['Insulin_0'].fillna(DPF, inplace=False)\n",
    "\n",
    "#離散化\n",
    "df['Pregnancies_bin'] = pd.cut(df['Pregnancies'],\n",
    "                                 bins=[0, 0.1, 3, 6, 20],\n",
    "                                 right=False,\n",
    "                                 labels=['0','-1','-3','3-'],\n",
    "                                 duplicates='raise',\n",
    "                                 include_lowest=True)\n",
    "P_bin = pd.get_dummies(df[['Pregnancies_bin']])\n",
    "df = pd.concat([df,P_bin] , axis=1)\n",
    "\n",
    "# df['Pregnancies_bin_num'] = df['Pregnancies_bin'].astype(np.int64) #カテゴリ変数でなく数値として使える\n",
    "\n",
    "\n",
    "\n",
    "df.info()"
   ]
  },
  {
   "cell_type": "code",
   "execution_count": 182,
   "id": "34129267-19dc-41c1-88e0-1d4a72652194",
   "metadata": {},
   "outputs": [
    {
     "data": {
      "text/plain": [
       "count    5000.000000\n",
       "mean       35.480025\n",
       "std         6.968747\n",
       "min         7.748040\n",
       "25%        32.453978\n",
       "50%        33.828671\n",
       "75%        39.627290\n",
       "max        53.400629\n",
       "Name: BMI, dtype: float64"
      ]
     },
     "execution_count": 182,
     "metadata": {},
     "output_type": "execute_result"
    }
   ],
   "source": [
    "df['BMI'].describe()"
   ]
  },
  {
   "cell_type": "code",
   "execution_count": 183,
   "id": "8bc6f168-7571-4e66-9b36-dc7ce9e82778",
   "metadata": {},
   "outputs": [],
   "source": [
    "train = df[:len(train)]\n",
    "test = df[len(train):]"
   ]
  },
  {
   "cell_type": "code",
   "execution_count": 184,
   "id": "4f55fb8f-3685-4c88-82d8-527b88afb497",
   "metadata": {},
   "outputs": [],
   "source": [
    "train.to_csv('data_EDA/train.csv', index=False)\n",
    "test.to_csv('data_EDA/test.csv', index=False)"
   ]
  },
  {
   "cell_type": "code",
   "execution_count": 185,
   "id": "49bb6b2e-f354-4250-8859-545eab49840d",
   "metadata": {},
   "outputs": [
    {
     "name": "stdout",
     "output_type": "stream",
     "text": [
      "<class 'pandas.core.frame.DataFrame'>\n",
      "Int64Index: 3000 entries, 0 to 2999\n",
      "Data columns (total 27 columns):\n",
      " #   Column                    Non-Null Count  Dtype   \n",
      "---  ------                    --------------  -----   \n",
      " 0   index                     3000 non-null   int64   \n",
      " 1   Pregnancies               3000 non-null   int64   \n",
      " 2   Glucose                   3000 non-null   int64   \n",
      " 3   BloodPressure             3000 non-null   int64   \n",
      " 4   SkinThickness             3000 non-null   int64   \n",
      " 5   Insulin                   3000 non-null   int64   \n",
      " 6   BMI                       3000 non-null   float64 \n",
      " 7   DiabetesPedigreeFunction  3000 non-null   float64 \n",
      " 8   Age                       3000 non-null   int64   \n",
      " 9   Outcome                   3000 non-null   float64 \n",
      " 10  BloodPressure_0           2887 non-null   float64 \n",
      " 11  SkinThickness_0           1234 non-null   float64 \n",
      " 12  Insulin_0                 256 non-null    float64 \n",
      " 13  Pregnancies_0             2570 non-null   float64 \n",
      " 14  SkinThickness_na          3000 non-null   int64   \n",
      " 15  BloodPressure_na          3000 non-null   int64   \n",
      " 16  Insulin_na                3000 non-null   int64   \n",
      " 17  Pregnancies_na            3000 non-null   int64   \n",
      " 18  Pre/age                   3000 non-null   float64 \n",
      " 19  SkinThickness_mean        3000 non-null   float64 \n",
      " 20  BloodPressure_mean        3000 non-null   float64 \n",
      " 21  Insulin_dpf_mean          3000 non-null   float64 \n",
      " 22  Pregnancies_bin           3000 non-null   category\n",
      " 23  Pregnancies_bin_0         3000 non-null   uint8   \n",
      " 24  Pregnancies_bin_-1        3000 non-null   uint8   \n",
      " 25  Pregnancies_bin_-3        3000 non-null   uint8   \n",
      " 26  Pregnancies_bin_3-        3000 non-null   uint8   \n",
      "dtypes: category(1), float64(11), int64(11), uint8(4)\n",
      "memory usage: 553.9 KB\n"
     ]
    }
   ],
   "source": [
    "train.info()"
   ]
  },
  {
   "cell_type": "code",
   "execution_count": null,
   "id": "43a1bf16-957e-4d77-abce-22c8a2400ccd",
   "metadata": {},
   "outputs": [],
   "source": []
  },
  {
   "cell_type": "code",
   "execution_count": null,
   "id": "74955028-30d6-4c42-b6bc-d881810d9583",
   "metadata": {},
   "outputs": [],
   "source": []
  },
  {
   "cell_type": "markdown",
   "id": "03a77ca8-f37f-410b-bead-ba0329a55a61",
   "metadata": {},
   "source": [
    "## 欠損処理関数"
   ]
  },
  {
   "cell_type": "markdown",
   "id": "7868b15a-33ec-4991-819a-e03fd14c83aa",
   "metadata": {},
   "source": [
    "train = pd.read_csv(\"data/train.csv\")\n",
    "test = pd.read_csv(\"data/test.csv\")\n",
    "sample= pd.read_csv(\"data/sample_submit.csv\",header = None)"
   ]
  },
  {
   "cell_type": "code",
   "execution_count": 195,
   "id": "42ab929a-77ad-45b9-bb29-f50ea1bc6d17",
   "metadata": {},
   "outputs": [],
   "source": [
    "#データ読み込み\n",
    "train = pd.read_csv(\"data_EDA/train.csv\")\n",
    "test = pd.read_csv(\"data_EDA/test.csv\")\n",
    "X_train = train[['DiabetesPedigreeFunction',\n",
    "                 'BMI',\n",
    "                 'Glucose',\n",
    "                 'Age',\n",
    "                 'Pregnancies',\n",
    "                 'Pregnancies_bin'\n",
    "                ]]\n",
    "id_train = train[['index']]\n",
    "y_train = train[['Outcome']]\n",
    "\n",
    "\n",
    "X_test = test[X_train.columns]\n",
    "id_test = test[id_train.columns]"
   ]
  },
  {
   "cell_type": "code",
   "execution_count": 196,
   "id": "f9456c50-0e72-466d-85c5-662a952f5c0b",
   "metadata": {},
   "outputs": [
    {
     "name": "stdout",
     "output_type": "stream",
     "text": [
      "DiabetesPedigreeFunction\n",
      "BMI\n",
      "Glucose\n",
      "Age\n",
      "Pregnancies\n",
      "Done\n"
     ]
    }
   ],
   "source": [
    "# 数値データ\n",
    "col_num = X_train.columns[X_train.dtypes!='object'].values.tolist()\n",
    "\n",
    "dict_num = {}\n",
    "for col in col_num:\n",
    "    print(col)\n",
    "    # 欠損値を0へ\n",
    "    value_fillna = 0 \n",
    "    X_train[col] = X_train[col].fillna(value_fillna)\n",
    "    # 正規化\n",
    "    value_min = X_train[col].min()\n",
    "    value_max = X_train[col].max()\n",
    "    value_mean = X_train[col].mean()\n",
    "    value_std = X_train[col].std()\n",
    "    X_train[col] = (X_train[col] - value_min) / (value_max - value_min)\n",
    "    # X_tarin[col] = (X_train[col] - value_mean) / value_std\n",
    "    \n",
    "    dict_num[col] = {}\n",
    "    dict_num[col]['fillna'] = value_fillna\n",
    "    dict_num[col]['min'] = value_min\n",
    "    dict_num[col]['max'] = value_max\n",
    "    dict_num[col]['mean'] = value_max    \n",
    "    dict_num[col]['std'] = value_max    \n",
    "    \n",
    "print('Done')"
   ]
  },
  {
   "cell_type": "code",
   "execution_count": 197,
   "id": "1d2322ac-de5d-4fc3-8e74-f5c1f8caf3e1",
   "metadata": {},
   "outputs": [
    {
     "name": "stdout",
     "output_type": "stream",
     "text": [
      "Pregnancies_bin\n",
      "Done\n"
     ]
    }
   ],
   "source": [
    "# カテゴリデータ\n",
    "# （embedding予定でラベルエンコーダー）\n",
    "from sklearn.preprocessing import LabelEncoder\n",
    "col_cat = X_train.columns[X_train.dtypes=='object'].values.tolist()\n",
    "\n",
    "dict_cat = {}\n",
    "for col in col_cat:\n",
    "    print(col)\n",
    "    value_fillna = 'unknown'\n",
    "    X_train[col] = X_train[col].fillna(value_fillna)\n",
    "    \n",
    "    X_train[col] = X_train[col].astype(str)\n",
    "    # strに変換\n",
    "    le = LabelEncoder()\n",
    "    le.fit(X_train[col])\n",
    "    list_label = sorted(list(set(le.classes_) | set(['unknown'])))\n",
    "    map_label = {j:i for i,j in enumerate(list_label)}\n",
    "    X_train[col] = X_train[col].map(map_label)\n",
    "    \n",
    "    dict_cat[col] = {}\n",
    "    dict_cat[col]['fillna'] = value_fillna\n",
    "    dict_cat[col]['map_label'] = map_label\n",
    "    dict_cat[col]['num_label'] = len(list_label)\n",
    "\n",
    "print('Done')\n"
   ]
  },
  {
   "cell_type": "code",
   "execution_count": 198,
   "id": "0ca4da6d-792c-41f7-a397-68d69834b5e7",
   "metadata": {},
   "outputs": [],
   "source": [
    "def transform_data(input_x):\n",
    "    output_x = input_x.copy()\n",
    "    \n",
    "    for col in col_num:\n",
    "        value_fillna = dict_num[col]['fillna']\n",
    "        output_x[col] = output_x[col].fillna(value_fillna)\n",
    "        \n",
    "        value_min = dict_num[col]['min']\n",
    "        value_max = dict_num[col]['max']\n",
    "        output_x[col]  = (output_x[col] - value_min ) / (value_max - value_min)\n",
    "        \n",
    "    for col in col_cat:\n",
    "        value_fillna = dict_cat[col]['fillna']\n",
    "        output_x[col] = output_x[col].fillna(value_fillna)\n",
    "        \n",
    "        output_x[col] = output_x[col].astype(str)\n",
    "        \n",
    "        map_label = dict_cat[col]['map_label']\n",
    "        output_x[col] = output_x[col].map(map_label)\n",
    "        \n",
    "        #対応するものがない場合はunkoumn\n",
    "        output_x[col] = output_x[col].fillna(map_label['unknown'])\n",
    "        \n",
    "    return output_x\n",
    "\n",
    "X_test = transform_data(X_test)"
   ]
  },
  {
   "cell_type": "code",
   "execution_count": 199,
   "id": "23602c9c-e7c4-44a3-b4de-3afb2321e187",
   "metadata": {},
   "outputs": [
    {
     "data": {
      "text/html": [
       "<div>\n",
       "<style scoped>\n",
       "    .dataframe tbody tr th:only-of-type {\n",
       "        vertical-align: middle;\n",
       "    }\n",
       "\n",
       "    .dataframe tbody tr th {\n",
       "        vertical-align: top;\n",
       "    }\n",
       "\n",
       "    .dataframe thead th {\n",
       "        text-align: right;\n",
       "    }\n",
       "</style>\n",
       "<table border=\"1\" class=\"dataframe\">\n",
       "  <thead>\n",
       "    <tr style=\"text-align: right;\">\n",
       "      <th></th>\n",
       "      <th>DiabetesPedigreeFunction</th>\n",
       "      <th>BMI</th>\n",
       "      <th>Glucose</th>\n",
       "      <th>Age</th>\n",
       "      <th>Pregnancies</th>\n",
       "      <th>Pregnancies_bin</th>\n",
       "    </tr>\n",
       "  </thead>\n",
       "  <tbody>\n",
       "    <tr>\n",
       "      <th>0</th>\n",
       "      <td>0.313823</td>\n",
       "      <td>0.708574</td>\n",
       "      <td>0.496403</td>\n",
       "      <td>0.000000</td>\n",
       "      <td>0.000000</td>\n",
       "      <td>2</td>\n",
       "    </tr>\n",
       "    <tr>\n",
       "      <th>1</th>\n",
       "      <td>0.027125</td>\n",
       "      <td>0.702316</td>\n",
       "      <td>0.223022</td>\n",
       "      <td>0.021739</td>\n",
       "      <td>0.230769</td>\n",
       "      <td>1</td>\n",
       "    </tr>\n",
       "    <tr>\n",
       "      <th>2</th>\n",
       "      <td>0.173992</td>\n",
       "      <td>0.557487</td>\n",
       "      <td>0.410072</td>\n",
       "      <td>0.000000</td>\n",
       "      <td>0.230769</td>\n",
       "      <td>1</td>\n",
       "    </tr>\n",
       "    <tr>\n",
       "      <th>3</th>\n",
       "      <td>0.166544</td>\n",
       "      <td>0.419302</td>\n",
       "      <td>0.640288</td>\n",
       "      <td>0.369565</td>\n",
       "      <td>0.076923</td>\n",
       "      <td>0</td>\n",
       "    </tr>\n",
       "    <tr>\n",
       "      <th>4</th>\n",
       "      <td>0.303618</td>\n",
       "      <td>0.712381</td>\n",
       "      <td>0.474820</td>\n",
       "      <td>0.152174</td>\n",
       "      <td>0.076923</td>\n",
       "      <td>0</td>\n",
       "    </tr>\n",
       "    <tr>\n",
       "      <th>...</th>\n",
       "      <td>...</td>\n",
       "      <td>...</td>\n",
       "      <td>...</td>\n",
       "      <td>...</td>\n",
       "      <td>...</td>\n",
       "      <td>...</td>\n",
       "    </tr>\n",
       "    <tr>\n",
       "      <th>1995</th>\n",
       "      <td>0.013546</td>\n",
       "      <td>0.693011</td>\n",
       "      <td>0.669065</td>\n",
       "      <td>0.108696</td>\n",
       "      <td>0.307692</td>\n",
       "      <td>1</td>\n",
       "    </tr>\n",
       "    <tr>\n",
       "      <th>1996</th>\n",
       "      <td>0.168592</td>\n",
       "      <td>0.676110</td>\n",
       "      <td>0.690647</td>\n",
       "      <td>0.152174</td>\n",
       "      <td>0.461538</td>\n",
       "      <td>3</td>\n",
       "    </tr>\n",
       "    <tr>\n",
       "      <th>1997</th>\n",
       "      <td>0.270176</td>\n",
       "      <td>0.962270</td>\n",
       "      <td>0.352518</td>\n",
       "      <td>0.173913</td>\n",
       "      <td>0.538462</td>\n",
       "      <td>3</td>\n",
       "    </tr>\n",
       "    <tr>\n",
       "      <th>1998</th>\n",
       "      <td>0.079172</td>\n",
       "      <td>0.712423</td>\n",
       "      <td>0.316547</td>\n",
       "      <td>0.108696</td>\n",
       "      <td>0.153846</td>\n",
       "      <td>0</td>\n",
       "    </tr>\n",
       "    <tr>\n",
       "      <th>1999</th>\n",
       "      <td>0.051404</td>\n",
       "      <td>0.953895</td>\n",
       "      <td>0.374101</td>\n",
       "      <td>0.043478</td>\n",
       "      <td>0.384615</td>\n",
       "      <td>1</td>\n",
       "    </tr>\n",
       "  </tbody>\n",
       "</table>\n",
       "<p>2000 rows × 6 columns</p>\n",
       "</div>"
      ],
      "text/plain": [
       "      DiabetesPedigreeFunction       BMI   Glucose       Age  Pregnancies  \\\n",
       "0                     0.313823  0.708574  0.496403  0.000000     0.000000   \n",
       "1                     0.027125  0.702316  0.223022  0.021739     0.230769   \n",
       "2                     0.173992  0.557487  0.410072  0.000000     0.230769   \n",
       "3                     0.166544  0.419302  0.640288  0.369565     0.076923   \n",
       "4                     0.303618  0.712381  0.474820  0.152174     0.076923   \n",
       "...                        ...       ...       ...       ...          ...   \n",
       "1995                  0.013546  0.693011  0.669065  0.108696     0.307692   \n",
       "1996                  0.168592  0.676110  0.690647  0.152174     0.461538   \n",
       "1997                  0.270176  0.962270  0.352518  0.173913     0.538462   \n",
       "1998                  0.079172  0.712423  0.316547  0.108696     0.153846   \n",
       "1999                  0.051404  0.953895  0.374101  0.043478     0.384615   \n",
       "\n",
       "      Pregnancies_bin  \n",
       "0                   2  \n",
       "1                   1  \n",
       "2                   1  \n",
       "3                   0  \n",
       "4                   0  \n",
       "...               ...  \n",
       "1995                1  \n",
       "1996                3  \n",
       "1997                3  \n",
       "1998                0  \n",
       "1999                1  \n",
       "\n",
       "[2000 rows x 6 columns]"
      ]
     },
     "execution_count": 199,
     "metadata": {},
     "output_type": "execute_result"
    }
   ],
   "source": [
    "X_test"
   ]
  },
  {
   "cell_type": "code",
   "execution_count": 200,
   "id": "f14500b9-d05d-4c8d-b230-7e4cbbbec1e0",
   "metadata": {},
   "outputs": [
    {
     "name": "stdout",
     "output_type": "stream",
     "text": [
      "<class 'pandas.core.frame.DataFrame'>\n",
      "RangeIndex: 3000 entries, 0 to 2999\n",
      "Data columns (total 6 columns):\n",
      " #   Column                    Non-Null Count  Dtype  \n",
      "---  ------                    --------------  -----  \n",
      " 0   DiabetesPedigreeFunction  3000 non-null   float64\n",
      " 1   BMI                       3000 non-null   float64\n",
      " 2   Glucose                   3000 non-null   float64\n",
      " 3   Age                       3000 non-null   float64\n",
      " 4   Pregnancies               3000 non-null   float64\n",
      " 5   Pregnancies_bin           3000 non-null   int64  \n",
      "dtypes: float64(5), int64(1)\n",
      "memory usage: 140.8 KB\n"
     ]
    }
   ],
   "source": [
    "X_train.info()"
   ]
  },
  {
   "cell_type": "code",
   "execution_count": null,
   "id": "f3312c29-240f-4ed4-84d7-5958b5b6930c",
   "metadata": {},
   "outputs": [],
   "source": []
  },
  {
   "cell_type": "code",
   "execution_count": 173,
   "id": "ca62731b-a52e-43b2-829b-90f96639dd98",
   "metadata": {},
   "outputs": [
    {
     "data": {
      "text/plain": [
       "{'-1': 0, '-3': 1, '0': 2, '3-': 3, 'unknown': 4}"
      ]
     },
     "execution_count": 173,
     "metadata": {},
     "output_type": "execute_result"
    }
   ],
   "source": [
    "from sklearn.preprocessing import OneHotEncoder\n",
    "ohe = OneHotEncoder()\n",
    "ohe.fit(X_train['Pregnancies_bin'].values.reshape(-1, 1))\n",
    "list_ohe_label = sorted(list(set(le.classes_) | set(['unknown'])))\n",
    "map_ohe_label = {j:i for i,j in enumerate(list_label)}\n",
    "\n",
    "map_label"
   ]
  },
  {
   "cell_type": "code",
   "execution_count": null,
   "id": "0de7d3d5-3774-4e23-b925-84b1d1ba0343",
   "metadata": {},
   "outputs": [],
   "source": []
  }
 ],
 "metadata": {
  "kernelspec": {
   "display_name": "Python 3 (ipykernel)",
   "language": "python",
   "name": "python3"
  },
  "language_info": {
   "codemirror_mode": {
    "name": "ipython",
    "version": 3
   },
   "file_extension": ".py",
   "mimetype": "text/x-python",
   "name": "python",
   "nbconvert_exporter": "python",
   "pygments_lexer": "ipython3",
   "version": "3.9.13"
  }
 },
 "nbformat": 4,
 "nbformat_minor": 5
}
