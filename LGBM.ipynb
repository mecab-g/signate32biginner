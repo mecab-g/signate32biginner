{
 "cells": [
  {
   "cell_type": "code",
   "execution_count": 130,
   "id": "37881612-a260-4c2b-9dd2-9a4f89a0e022",
   "metadata": {},
   "outputs": [],
   "source": [
    "import pandas as pd\n",
    "import pandas_profiling\n",
    "import os\n",
    "import pickle\n",
    "import gc\n",
    "import numpy as np\n",
    "from matplotlib import pyplot as plt\n",
    "%matplotlib inline\n",
    "import seaborn as sns\n",
    "\n",
    "import warnings\n",
    "warnings.filterwarnings('ignore')\n",
    "\n",
    "from sklearn.preprocessing import StandardScaler, MinMaxScaler, LabelEncoder, OneHotEncoder\n",
    "from sklearn.model_selection import train_test_split, KFold, StratifiedKFold\n",
    "from sklearn.metrics import accuracy_score, roc_auc_score, confusion_matrix\n",
    "import lightgbm as lgb\n",
    "\n",
    "#データ読み込み\n",
    "train = pd.read_csv(\"data_EDA/train.csv\")\n",
    "test = pd.read_csv(\"data_EDA/test.csv\")"
   ]
  },
  {
   "cell_type": "code",
   "execution_count": 131,
   "id": "8b68879a-8236-4efc-9cad-c841c7bd78b9",
   "metadata": {},
   "outputs": [],
   "source": [
    "# まずは少ない特徴量から検討していく\n",
    "X_train = train[['DiabetesPedigreeFunction','BMI','Glucose']]\n",
    "id_train = train[['index']]\n",
    "y_train = train[['Outcome']]"
   ]
  },
  {
   "cell_type": "code",
   "execution_count": 73,
   "id": "39f5ff88-b4df-41ec-a772-ba1c234e295a",
   "metadata": {},
   "outputs": [
    {
     "data": {
      "text/plain": [
       "3000"
      ]
     },
     "execution_count": 73,
     "metadata": {},
     "output_type": "execute_result"
    }
   ],
   "source": [
    "len(X_train)\n",
    "len(y_train)"
   ]
  },
  {
   "cell_type": "markdown",
   "id": "ee8776f7-2cba-4fcf-9cbe-1f162ec4778b",
   "metadata": {},
   "source": [
    "ベースライン評価のため一部データを分ける。\n",
    "\n",
    "残りのデータでvalidationしてその条件・目的変数・validation方法・評価指標を仮定し評価する。\n",
    "\n",
    "上記3項目を明確にすることをベースラインの決定とする。\n",
    "\n",
    "validationした後にベースライン評価のためのデータで評価しベースラインを検証する。\n",
    "\n",
    "validation時とベースライン検証時の結果の傾向に大きな差が無ければベースラインの3項目は問題ないと判断する。\n",
    "\n",
    "ベースラインが決定すると、その後EDAやモデル改善後はvalidationのみを行い進めていく。\n",
    "（変更点や結果を記録）"
   ]
  },
  {
   "cell_type": "markdown",
   "id": "3c3d8aaf-e8bb-4da7-912e-4a7c033b0c0a",
   "metadata": {},
   "source": [
    "## validation方法（ベースライン作成へ）"
   ]
  },
  {
   "cell_type": "code",
   "execution_count": 138,
   "id": "81079aa5-f3d3-41b6-98c7-af3f20ee1e74",
   "metadata": {},
   "outputs": [],
   "source": [
    "params = {\n",
    "    'boosting_type' :'gbdt',\n",
    "    'objective' : 'binary',\n",
    "    'metrics' : 'auc',\n",
    "    'learning_rate' : 0.1,\n",
    "    'num_leaves' : 16,\n",
    "    'random_state' : random_state,\n",
    "    'importance_type' : 'gain',\n",
    "}\n",
    "random_state = 123"
   ]
  },
  {
   "cell_type": "code",
   "execution_count": 149,
   "id": "25a5f634-077f-46b3-a2ca-a58523ac2c91",
   "metadata": {},
   "outputs": [],
   "source": [
    "# cvでの評価用\n",
    "def train_cv(input_x,\n",
    "             input_y,\n",
    "             input_id,\n",
    "             params,\n",
    "             random_state=123,\n",
    "             n_splits=5\n",
    "            ):\n",
    "    \n",
    "    metrics = []\n",
    "    imp = pd.DataFrame()\n",
    "    cv = list(StratifiedKFold(n_splits=n_splits, shuffle=True, random_state=random_state).\n",
    "              split(input_x, input_y))\n",
    "    \n",
    "    \n",
    "    for nfold in np.arange(n_splits):\n",
    "        print('-'*20, nfold, '-'*20)\n",
    "        idx_tr, idx_va = cv[nfold][0], cv[nfold][1]\n",
    "        x_tr, y_tr = input_x.loc[idx_tr, :], input_y.loc[idx_tr, :]\n",
    "        x_va, y_va = input_x.loc[idx_va, :], input_y.loc[idx_va, :]\n",
    "        print(x_tr.shape, y_tr.shape)\n",
    "        print(x_va.shape, y_va.shape)\n",
    "        print('y_train:{:.3f}, y_tr:{:.3f}, y_va{:.3f}'.\n",
    "              format(y_train['Outcome'].mean(), y_tr['Outcome'].mean(), y_va['Outcome'].mean(),))\n",
    "\n",
    "        model = lgb.LGBMClassifier(**params)\n",
    "        model.fit(x_tr,\n",
    "                  y_tr,\n",
    "                  eval_set=[(x_tr,y_tr),(x_va,y_va)],\n",
    "                  early_stopping_rounds=100,\n",
    "                  verbose=100,\n",
    "                 )\n",
    "\n",
    "        y_tr_pred = model.predict(x_tr)\n",
    "        y_va_pred = model.predict(x_va)\n",
    "        metric_tr = accuracy_score(y_tr, y_tr_pred)\n",
    "        metric_va = accuracy_score(y_va, y_va_pred)\n",
    "        print('[accuracy] tr: {:.2f}, va: {:2f}'.\n",
    "             format(metric_tr, metric_va))\n",
    "        metrics.append([nfold, metric_tr, metric_va])\n",
    "\n",
    "        _imp = pd.DataFrame({'col':input_x.columns, 'imp':model.feature_importances_,'nfold':nfold})\n",
    "        imp = pd.concat([imp, _imp], axis=0, ignore_index=True)\n",
    "\n",
    "    print('-'*20, 'result', '-'*20)\n",
    "    metrics = np.array(metrics)\n",
    "    print(metrics)\n",
    "\n",
    "    print('[cv] tr: {:.2f}+-{:.2f}, va: {:.2f}'.format(\n",
    "        metrics[:,1].mean(), metrics[:,1].std(),\n",
    "        metrics[:,2].mean(), metrics[:,2].std()\n",
    "    ))\n",
    "\n",
    "    imp = imp.groupby('col')['imp'].agg(['mean', 'std'])\n",
    "    imp.columns = ['imp', 'imp_std']\n",
    "    imp = imp.reset_index(drop=False)\n",
    "    imp.sort_values('imp', ascending=False, ignore_index=True)\n",
    "    print('-'*20, 'imp', '-'*20)\n",
    "    print(imp)\n",
    "\n",
    "    print('Done')\n",
    "    \n",
    "    return imp, metrics"
   ]
  },
  {
   "cell_type": "code",
   "execution_count": 150,
   "id": "cf1c7951-6b35-4f07-894d-814aa7eca215",
   "metadata": {},
   "outputs": [
    {
     "name": "stdout",
     "output_type": "stream",
     "text": [
      "-------------------- 0 --------------------\n",
      "(2250, 3) (2250, 1)\n",
      "(750, 3) (750, 1)\n",
      "y_train:0.239, y_tr:0.239, y_va0.240\n",
      "[100]\ttraining's auc: 0.920533\tvalid_1's auc: 0.715975\n",
      "[accuracy] tr: 0.86, va: 0.773333\n",
      "-------------------- 1 --------------------\n",
      "(2250, 3) (2250, 1)\n",
      "(750, 3) (750, 1)\n",
      "y_train:0.239, y_tr:0.239, y_va0.239\n",
      "[100]\ttraining's auc: 0.920464\tvalid_1's auc: 0.714629\n",
      "[accuracy] tr: 0.85, va: 0.773333\n",
      "-------------------- 2 --------------------\n",
      "(2250, 3) (2250, 1)\n",
      "(750, 3) (750, 1)\n",
      "y_train:0.239, y_tr:0.239, y_va0.239\n",
      "[100]\ttraining's auc: 0.916344\tvalid_1's auc: 0.72839\n",
      "[accuracy] tr: 0.85, va: 0.762667\n",
      "-------------------- 3 --------------------\n",
      "(2250, 3) (2250, 1)\n",
      "(750, 3) (750, 1)\n",
      "y_train:0.239, y_tr:0.239, y_va0.239\n",
      "[100]\ttraining's auc: 0.923504\tvalid_1's auc: 0.716586\n",
      "[accuracy] tr: 0.86, va: 0.770667\n",
      "-------------------- result --------------------\n",
      "[[0.         0.85955556 0.77333333]\n",
      " [1.         0.85377778 0.77333333]\n",
      " [2.         0.84844444 0.76266667]\n",
      " [3.         0.85511111 0.77066667]]\n",
      "[cv] tr: 0.85+-0.00, va: 0.77\n",
      "-------------------- imp --------------------\n",
      "                        col          imp    imp_std\n",
      "0                       BMI  2044.483767  65.301712\n",
      "1  DiabetesPedigreeFunction  1423.637743  50.466360\n",
      "2                   Glucose  1553.314421  92.313083\n",
      "Done\n"
     ]
    }
   ],
   "source": [
    "imp, metrics = train_cv(X_train, y_train, id_train, params, random_state=random_state, n_splits=4)"
   ]
  },
  {
   "cell_type": "markdown",
   "id": "4d581be4-6363-4cc9-8137-868da8cde34b",
   "metadata": {},
   "source": [
    "## 推論"
   ]
  },
  {
   "cell_type": "code",
   "execution_count": 127,
   "id": "a5596cd7-e936-4d29-8dfb-03cc940f76a4",
   "metadata": {},
   "outputs": [
    {
     "name": "stdout",
     "output_type": "stream",
     "text": [
      "[10]\ttraining's auc: 0.759745\tvalid_1's auc: 0.649332\n",
      "[20]\ttraining's auc: 0.783829\tvalid_1's auc: 0.660311\n",
      "[30]\ttraining's auc: 0.801325\tvalid_1's auc: 0.656249\n",
      "[40]\ttraining's auc: 0.813381\tvalid_1's auc: 0.656325\n",
      "[50]\ttraining's auc: 0.824786\tvalid_1's auc: 0.657289\n",
      "[60]\ttraining's auc: 0.834786\tvalid_1's auc: 0.657213\n",
      "[70]\ttraining's auc: 0.842316\tvalid_1's auc: 0.654833\n",
      "[80]\ttraining's auc: 0.848086\tvalid_1's auc: 0.652063\n",
      "[90]\ttraining's auc: 0.853038\tvalid_1's auc: 0.652614\n",
      "[100]\ttraining's auc: 0.858739\tvalid_1's auc: 0.651895\n"
     ]
    },
    {
     "data": {
      "text/html": [
       "<style>#sk-container-id-6 {color: black;background-color: white;}#sk-container-id-6 pre{padding: 0;}#sk-container-id-6 div.sk-toggleable {background-color: white;}#sk-container-id-6 label.sk-toggleable__label {cursor: pointer;display: block;width: 100%;margin-bottom: 0;padding: 0.3em;box-sizing: border-box;text-align: center;}#sk-container-id-6 label.sk-toggleable__label-arrow:before {content: \"▸\";float: left;margin-right: 0.25em;color: #696969;}#sk-container-id-6 label.sk-toggleable__label-arrow:hover:before {color: black;}#sk-container-id-6 div.sk-estimator:hover label.sk-toggleable__label-arrow:before {color: black;}#sk-container-id-6 div.sk-toggleable__content {max-height: 0;max-width: 0;overflow: hidden;text-align: left;background-color: #f0f8ff;}#sk-container-id-6 div.sk-toggleable__content pre {margin: 0.2em;color: black;border-radius: 0.25em;background-color: #f0f8ff;}#sk-container-id-6 input.sk-toggleable__control:checked~div.sk-toggleable__content {max-height: 200px;max-width: 100%;overflow: auto;}#sk-container-id-6 input.sk-toggleable__control:checked~label.sk-toggleable__label-arrow:before {content: \"▾\";}#sk-container-id-6 div.sk-estimator input.sk-toggleable__control:checked~label.sk-toggleable__label {background-color: #d4ebff;}#sk-container-id-6 div.sk-label input.sk-toggleable__control:checked~label.sk-toggleable__label {background-color: #d4ebff;}#sk-container-id-6 input.sk-hidden--visually {border: 0;clip: rect(1px 1px 1px 1px);clip: rect(1px, 1px, 1px, 1px);height: 1px;margin: -1px;overflow: hidden;padding: 0;position: absolute;width: 1px;}#sk-container-id-6 div.sk-estimator {font-family: monospace;background-color: #f0f8ff;border: 1px dotted black;border-radius: 0.25em;box-sizing: border-box;margin-bottom: 0.5em;}#sk-container-id-6 div.sk-estimator:hover {background-color: #d4ebff;}#sk-container-id-6 div.sk-parallel-item::after {content: \"\";width: 100%;border-bottom: 1px solid gray;flex-grow: 1;}#sk-container-id-6 div.sk-label:hover label.sk-toggleable__label {background-color: #d4ebff;}#sk-container-id-6 div.sk-serial::before {content: \"\";position: absolute;border-left: 1px solid gray;box-sizing: border-box;top: 0;bottom: 0;left: 50%;z-index: 0;}#sk-container-id-6 div.sk-serial {display: flex;flex-direction: column;align-items: center;background-color: white;padding-right: 0.2em;padding-left: 0.2em;position: relative;}#sk-container-id-6 div.sk-item {position: relative;z-index: 1;}#sk-container-id-6 div.sk-parallel {display: flex;align-items: stretch;justify-content: center;background-color: white;position: relative;}#sk-container-id-6 div.sk-item::before, #sk-container-id-6 div.sk-parallel-item::before {content: \"\";position: absolute;border-left: 1px solid gray;box-sizing: border-box;top: 0;bottom: 0;left: 50%;z-index: -1;}#sk-container-id-6 div.sk-parallel-item {display: flex;flex-direction: column;z-index: 1;position: relative;background-color: white;}#sk-container-id-6 div.sk-parallel-item:first-child::after {align-self: flex-end;width: 50%;}#sk-container-id-6 div.sk-parallel-item:last-child::after {align-self: flex-start;width: 50%;}#sk-container-id-6 div.sk-parallel-item:only-child::after {width: 0;}#sk-container-id-6 div.sk-dashed-wrapped {border: 1px dashed gray;margin: 0 0.4em 0.5em 0.4em;box-sizing: border-box;padding-bottom: 0.4em;background-color: white;}#sk-container-id-6 div.sk-label label {font-family: monospace;font-weight: bold;display: inline-block;line-height: 1.2em;}#sk-container-id-6 div.sk-label-container {text-align: center;}#sk-container-id-6 div.sk-container {/* jupyter's `normalize.less` sets `[hidden] { display: none; }` but bootstrap.min.css set `[hidden] { display: none !important; }` so we also need the `!important` here to be able to override the default hidden behavior on the sphinx rendered scikit-learn.org. See: https://github.com/scikit-learn/scikit-learn/issues/21755 */display: inline-block !important;position: relative;}#sk-container-id-6 div.sk-text-repr-fallback {display: none;}</style><div id=\"sk-container-id-6\" class=\"sk-top-container\"><div class=\"sk-text-repr-fallback\"><pre>LGBMClassifier(importance_type=&#x27;gain&#x27;, metrics=&#x27;auc&#x27;, num_leaves=16,\n",
       "               objective=&#x27;binary&#x27;, random_state=123)</pre><b>In a Jupyter environment, please rerun this cell to show the HTML representation or trust the notebook. <br />On GitHub, the HTML representation is unable to render, please try loading this page with nbviewer.org.</b></div><div class=\"sk-container\" hidden><div class=\"sk-item\"><div class=\"sk-estimator sk-toggleable\"><input class=\"sk-toggleable__control sk-hidden--visually\" id=\"sk-estimator-id-6\" type=\"checkbox\" checked><label for=\"sk-estimator-id-6\" class=\"sk-toggleable__label sk-toggleable__label-arrow\">LGBMClassifier</label><div class=\"sk-toggleable__content\"><pre>LGBMClassifier(importance_type=&#x27;gain&#x27;, metrics=&#x27;auc&#x27;, num_leaves=16,\n",
       "               objective=&#x27;binary&#x27;, random_state=123)</pre></div></div></div></div></div>"
      ],
      "text/plain": [
       "LGBMClassifier(importance_type='gain', metrics='auc', num_leaves=16,\n",
       "               objective='binary', random_state=123)"
      ]
     },
     "execution_count": 127,
     "metadata": {},
     "output_type": "execute_result"
    }
   ],
   "source": [
    "# 推論用に全てのデータで学習\n",
    "x_tr, x_va, y_tr, y_va = train_test_split(X_train,\n",
    "                                          y_train,\n",
    "                                          test_size=0.2,\n",
    "                                          shuffle=True,\n",
    "                                          stratify=y_train,\n",
    "                                          random_state=random_state)\n",
    "\n",
    "model = lgb.LGBMClassifier(**params)\n",
    "model.fit(x_tr,\n",
    "          y_tr,\n",
    "          eval_set=[(x_tr,y_tr),(x_va,y_va)],\n",
    "          early_stopping_rounds=100,\n",
    "          verbose=10,\n",
    "         )"
   ]
  },
  {
   "cell_type": "code",
   "execution_count": 128,
   "id": "5f516a7c-e10f-4ff0-89dc-756c31d1a1e9",
   "metadata": {},
   "outputs": [
    {
     "data": {
      "text/html": [
       "<div>\n",
       "<style scoped>\n",
       "    .dataframe tbody tr th:only-of-type {\n",
       "        vertical-align: middle;\n",
       "    }\n",
       "\n",
       "    .dataframe tbody tr th {\n",
       "        vertical-align: top;\n",
       "    }\n",
       "\n",
       "    .dataframe thead th {\n",
       "        text-align: right;\n",
       "    }\n",
       "</style>\n",
       "<table border=\"1\" class=\"dataframe\">\n",
       "  <thead>\n",
       "    <tr style=\"text-align: right;\">\n",
       "      <th></th>\n",
       "      <th>index</th>\n",
       "      <th>Outcome</th>\n",
       "    </tr>\n",
       "  </thead>\n",
       "  <tbody>\n",
       "    <tr>\n",
       "      <th>0</th>\n",
       "      <td>398</td>\n",
       "      <td>1</td>\n",
       "    </tr>\n",
       "    <tr>\n",
       "      <th>1</th>\n",
       "      <td>3833</td>\n",
       "      <td>0</td>\n",
       "    </tr>\n",
       "    <tr>\n",
       "      <th>2</th>\n",
       "      <td>4836</td>\n",
       "      <td>0</td>\n",
       "    </tr>\n",
       "    <tr>\n",
       "      <th>3</th>\n",
       "      <td>4572</td>\n",
       "      <td>0</td>\n",
       "    </tr>\n",
       "    <tr>\n",
       "      <th>4</th>\n",
       "      <td>636</td>\n",
       "      <td>1</td>\n",
       "    </tr>\n",
       "  </tbody>\n",
       "</table>\n",
       "</div>"
      ],
      "text/plain": [
       "   index  Outcome\n",
       "0    398        1\n",
       "1   3833        0\n",
       "2   4836        0\n",
       "3   4572        0\n",
       "4    636        1"
      ]
     },
     "metadata": {},
     "output_type": "display_data"
    }
   ],
   "source": [
    "X_test = test[['DiabetesPedigreeFunction','BMI']]\n",
    "id_test = test[['index']]\n",
    "y_test_pred = model.predict(X_test).astype('int')\n",
    "df_sub = pd.DataFrame({'index':id_test['index'], 'Outcome':y_test_pred})\n",
    "display(df_sub.head(5))\n",
    "df_sub.to_csv('submission.csv', index=None, header=False,)"
   ]
  },
  {
   "cell_type": "markdown",
   "id": "7dc2504a-adee-4c7b-9134-e8f2b7bd67cf",
   "metadata": {},
   "source": [
    "## ベースライン検証"
   ]
  },
  {
   "cell_type": "markdown",
   "id": "9b9098bf-dac6-4e6c-974e-61ff82b9c249",
   "metadata": {},
   "source": [
    "### 初めに検討し問題なければ、その後はスキップ可能"
   ]
  },
  {
   "cell_type": "markdown",
   "id": "3e1c6f40-d0b8-4dce-95a3-168b860e1267",
   "metadata": {},
   "source": [
    "ベースライン（評価指標や検証法、特徴量選択）の評価を行う\n",
    "\n",
    "① 検証データの評価値とベースライン評価値のギャップが小さいか確認\n",
    "\n",
    "② 後分類の傾向が似ているか確認\n",
    "\n",
    "③ 予測値の分布が似ているか確認\n",
    "\n",
    "上記3点が問題なければ、ベースラインを決定し、EDAやモデル改善を行う。"
   ]
  },
  {
   "cell_type": "code",
   "execution_count": 97,
   "id": "5d66d8a2-3cd7-4073-b2ad-6ae3de449dd3",
   "metadata": {},
   "outputs": [
    {
     "name": "stdout",
     "output_type": "stream",
     "text": [
      "検証データ:  (2400, 2) (2400, 1)\n",
      "ベースライン検証データ:  (600, 2) (600, 1)\n",
      "検証データ(train):  (1920, 2) (1920, 1)\n",
      "検証データ(test):  (480, 2) (480, 1)\n"
     ]
    }
   ],
   "source": [
    "x_tr, x_va2, y_tr, y_va2 = train_test_split(X_train,\n",
    "                                           y_train,\n",
    "                                           test_size=0.2,\n",
    "                                           shuffle=True,\n",
    "                                           stratify=y_train,\n",
    "                                           random_state=random_state)\n",
    "print('検証データ: ',x_tr.shape, y_tr.shape)\n",
    "print('ベースライン検証データ: ',x_va2.shape, y_va2.shape)\n",
    "\n",
    "x_tr1, x_va1, y_tr1, y_va1 = train_test_split(x_tr,\n",
    "                                              y_tr,\n",
    "                                              test_size=0.2,\n",
    "                                              shuffle=True,\n",
    "                                              stratify=y_tr,\n",
    "                                              random_state=random_state)\n",
    "print('検証データ(train): ',x_tr1.shape, y_tr1.shape)\n",
    "print('検証データ(test): ',x_va1.shape, y_va1.shape)\n"
   ]
  },
  {
   "cell_type": "code",
   "execution_count": 98,
   "id": "3689048c-8d41-446f-9b16-9a132c39de43",
   "metadata": {},
   "outputs": [
    {
     "name": "stdout",
     "output_type": "stream",
     "text": [
      "[10]\ttraining's auc: 0.774768\tvalid_1's auc: 0.645634\n",
      "[20]\ttraining's auc: 0.798016\tvalid_1's auc: 0.651638\n",
      "[30]\ttraining's auc: 0.813006\tvalid_1's auc: 0.646337\n",
      "[40]\ttraining's auc: 0.830381\tvalid_1's auc: 0.646123\n",
      "[50]\ttraining's auc: 0.84587\tvalid_1's auc: 0.646051\n",
      "[60]\ttraining's auc: 0.856523\tvalid_1's auc: 0.641989\n",
      "[70]\ttraining's auc: 0.864736\tvalid_1's auc: 0.638606\n",
      "[80]\ttraining's auc: 0.873103\tvalid_1's auc: 0.632519\n",
      "[90]\ttraining's auc: 0.879872\tvalid_1's auc: 0.627028\n",
      "[100]\ttraining's auc: 0.884502\tvalid_1's auc: 0.629005\n"
     ]
    },
    {
     "data": {
      "text/html": [
       "<style>#sk-container-id-5 {color: black;background-color: white;}#sk-container-id-5 pre{padding: 0;}#sk-container-id-5 div.sk-toggleable {background-color: white;}#sk-container-id-5 label.sk-toggleable__label {cursor: pointer;display: block;width: 100%;margin-bottom: 0;padding: 0.3em;box-sizing: border-box;text-align: center;}#sk-container-id-5 label.sk-toggleable__label-arrow:before {content: \"▸\";float: left;margin-right: 0.25em;color: #696969;}#sk-container-id-5 label.sk-toggleable__label-arrow:hover:before {color: black;}#sk-container-id-5 div.sk-estimator:hover label.sk-toggleable__label-arrow:before {color: black;}#sk-container-id-5 div.sk-toggleable__content {max-height: 0;max-width: 0;overflow: hidden;text-align: left;background-color: #f0f8ff;}#sk-container-id-5 div.sk-toggleable__content pre {margin: 0.2em;color: black;border-radius: 0.25em;background-color: #f0f8ff;}#sk-container-id-5 input.sk-toggleable__control:checked~div.sk-toggleable__content {max-height: 200px;max-width: 100%;overflow: auto;}#sk-container-id-5 input.sk-toggleable__control:checked~label.sk-toggleable__label-arrow:before {content: \"▾\";}#sk-container-id-5 div.sk-estimator input.sk-toggleable__control:checked~label.sk-toggleable__label {background-color: #d4ebff;}#sk-container-id-5 div.sk-label input.sk-toggleable__control:checked~label.sk-toggleable__label {background-color: #d4ebff;}#sk-container-id-5 input.sk-hidden--visually {border: 0;clip: rect(1px 1px 1px 1px);clip: rect(1px, 1px, 1px, 1px);height: 1px;margin: -1px;overflow: hidden;padding: 0;position: absolute;width: 1px;}#sk-container-id-5 div.sk-estimator {font-family: monospace;background-color: #f0f8ff;border: 1px dotted black;border-radius: 0.25em;box-sizing: border-box;margin-bottom: 0.5em;}#sk-container-id-5 div.sk-estimator:hover {background-color: #d4ebff;}#sk-container-id-5 div.sk-parallel-item::after {content: \"\";width: 100%;border-bottom: 1px solid gray;flex-grow: 1;}#sk-container-id-5 div.sk-label:hover label.sk-toggleable__label {background-color: #d4ebff;}#sk-container-id-5 div.sk-serial::before {content: \"\";position: absolute;border-left: 1px solid gray;box-sizing: border-box;top: 0;bottom: 0;left: 50%;z-index: 0;}#sk-container-id-5 div.sk-serial {display: flex;flex-direction: column;align-items: center;background-color: white;padding-right: 0.2em;padding-left: 0.2em;position: relative;}#sk-container-id-5 div.sk-item {position: relative;z-index: 1;}#sk-container-id-5 div.sk-parallel {display: flex;align-items: stretch;justify-content: center;background-color: white;position: relative;}#sk-container-id-5 div.sk-item::before, #sk-container-id-5 div.sk-parallel-item::before {content: \"\";position: absolute;border-left: 1px solid gray;box-sizing: border-box;top: 0;bottom: 0;left: 50%;z-index: -1;}#sk-container-id-5 div.sk-parallel-item {display: flex;flex-direction: column;z-index: 1;position: relative;background-color: white;}#sk-container-id-5 div.sk-parallel-item:first-child::after {align-self: flex-end;width: 50%;}#sk-container-id-5 div.sk-parallel-item:last-child::after {align-self: flex-start;width: 50%;}#sk-container-id-5 div.sk-parallel-item:only-child::after {width: 0;}#sk-container-id-5 div.sk-dashed-wrapped {border: 1px dashed gray;margin: 0 0.4em 0.5em 0.4em;box-sizing: border-box;padding-bottom: 0.4em;background-color: white;}#sk-container-id-5 div.sk-label label {font-family: monospace;font-weight: bold;display: inline-block;line-height: 1.2em;}#sk-container-id-5 div.sk-label-container {text-align: center;}#sk-container-id-5 div.sk-container {/* jupyter's `normalize.less` sets `[hidden] { display: none; }` but bootstrap.min.css set `[hidden] { display: none !important; }` so we also need the `!important` here to be able to override the default hidden behavior on the sphinx rendered scikit-learn.org. See: https://github.com/scikit-learn/scikit-learn/issues/21755 */display: inline-block !important;position: relative;}#sk-container-id-5 div.sk-text-repr-fallback {display: none;}</style><div id=\"sk-container-id-5\" class=\"sk-top-container\"><div class=\"sk-text-repr-fallback\"><pre>LGBMClassifier(importance_type=&#x27;gain&#x27;, metrics=&#x27;auc&#x27;, num_leaves=16,\n",
       "               objective=&#x27;binary&#x27;, random_state=123)</pre><b>In a Jupyter environment, please rerun this cell to show the HTML representation or trust the notebook. <br />On GitHub, the HTML representation is unable to render, please try loading this page with nbviewer.org.</b></div><div class=\"sk-container\" hidden><div class=\"sk-item\"><div class=\"sk-estimator sk-toggleable\"><input class=\"sk-toggleable__control sk-hidden--visually\" id=\"sk-estimator-id-5\" type=\"checkbox\" checked><label for=\"sk-estimator-id-5\" class=\"sk-toggleable__label sk-toggleable__label-arrow\">LGBMClassifier</label><div class=\"sk-toggleable__content\"><pre>LGBMClassifier(importance_type=&#x27;gain&#x27;, metrics=&#x27;auc&#x27;, num_leaves=16,\n",
       "               objective=&#x27;binary&#x27;, random_state=123)</pre></div></div></div></div></div>"
      ],
      "text/plain": [
       "LGBMClassifier(importance_type='gain', metrics='auc', num_leaves=16,\n",
       "               objective='binary', random_state=123)"
      ]
     },
     "execution_count": 98,
     "metadata": {},
     "output_type": "execute_result"
    }
   ],
   "source": [
    "#validation結果\n",
    "model = lgb.LGBMClassifier(**params)\n",
    "model.fit(x_tr1,\n",
    "          y_tr1,\n",
    "          eval_set=[(x_tr1,y_tr1),(x_va1,y_va1)],\n",
    "          early_stopping_rounds=100,\n",
    "          verbose=10,\n",
    "         )"
   ]
  },
  {
   "cell_type": "code",
   "execution_count": 99,
   "id": "3d40ab95-9057-4a6b-8775-3115cd196835",
   "metadata": {},
   "outputs": [
    {
     "name": "stdout",
     "output_type": "stream",
     "text": [
      "[検証データ] acc: 0.7688\n",
      "[ベースライン検証データ] acc: 0.7583\n"
     ]
    }
   ],
   "source": [
    "#評価指標の差\n",
    "y_va1_pred = model.predict(x_va1)\n",
    "y_va2_pred = model.predict(x_va2)\n",
    "print('[検証データ] acc: {:.4f}'.format(accuracy_score(y_va1, y_va1_pred)))\n",
    "print('[ベースライン検証データ] acc: {:.4f}'.format(accuracy_score(y_va2, y_va2_pred)))"
   ]
  },
  {
   "cell_type": "code",
   "execution_count": 104,
   "id": "cbb5fdb1-a291-444d-b89c-cfde589f9f89",
   "metadata": {},
   "outputs": [
    {
     "name": "stdout",
     "output_type": "stream",
     "text": [
      "検証データ\n",
      "[[344  21]\n",
      " [ 90  25]]\n",
      "[[0.71666667 0.04375   ]\n",
      " [0.1875     0.05208333]]\n",
      "ベースライン検証データ\n",
      "[[431  26]\n",
      " [119  24]]\n",
      "[[0.71833333 0.04333333]\n",
      " [0.19833333 0.04      ]]\n"
     ]
    }
   ],
   "source": [
    "#後分類の分布\n",
    "print('検証データ')\n",
    "print(confusion_matrix(y_va1, y_va1_pred))\n",
    "print(confusion_matrix(y_va1, y_va1_pred, normalize='all'))\n",
    "\n",
    "print('ベースライン検証データ')\n",
    "print(confusion_matrix(y_va2, y_va2_pred))\n",
    "print(confusion_matrix(y_va2, y_va2_pred, normalize='all'))"
   ]
  },
  {
   "cell_type": "code",
   "execution_count": 117,
   "id": "0d170e58-efcf-45b4-a54e-8c46f9072c09",
   "metadata": {},
   "outputs": [
    {
     "data": {
      "text/plain": [
       "<matplotlib.legend.Legend at 0xffff5ca0d2b0>"
      ]
     },
     "execution_count": 117,
     "metadata": {},
     "output_type": "execute_result"
    },
    {
     "data": {
      "image/png": "[encoded data removed]",
      "text/plain": [
       "<Figure size 720x576 with 2 Axes>"
      ]
     },
     "metadata": {
      "needs_background": "light"
     },
     "output_type": "display_data"
    }
   ],
   "source": [
    "# 予測値の分布\n",
    "y_va1_pred_prob = model.predict_proba(x_va1)[:,1]\n",
    "y_va2_pred_prob = model.predict_proba(x_va2)[:,1]\n",
    "\n",
    "fig = plt.figure(figsize=(10,8))\n",
    "\n",
    "fig.add_subplot(2,1,1)\n",
    "plt.title('validation_data')\n",
    "plt.hist(y_va1_pred_prob[np.array(y_va1).reshape(-1)==1], bins=10, alpha=0.5, label='1')\n",
    "plt.hist(y_va1_pred_prob[np.array(y_va1).reshape(-1)==0], bins=10, alpha=0.5, label='0')\n",
    "plt.grid()\n",
    "plt.legend()\n",
    "\n",
    "fig.add_subplot(2,1,2)\n",
    "plt.title('basreline_validation_data')\n",
    "plt.hist(y_va2_pred_prob[np.array(y_va2).reshape(-1)==1], bins=10, alpha=0.5, label='1')\n",
    "plt.hist(y_va2_pred_prob[np.array(y_va2).reshape(-1)==0], bins=10, alpha=0.5, label='0')\n",
    "plt.grid()\n",
    "plt.legend()"
   ]
  },
  {
   "cell_type": "code",
   "execution_count": null,
   "id": "f50a03e5-d78d-47b4-b2dc-bf15391f07e5",
   "metadata": {},
   "outputs": [],
   "source": []
  }
 ],
 "metadata": {
  "kernelspec": {
   "display_name": "Python 3 (ipykernel)",
   "language": "python",
   "name": "python3"
  },
  "language_info": {
   "codemirror_mode": {
    "name": "ipython",
    "version": 3
   },
   "file_extension": ".py",
   "mimetype": "text/x-python",
   "name": "python",
   "nbconvert_exporter": "python",
   "pygments_lexer": "ipython3",
   "version": "3.9.13"
  }
 },
 "nbformat": 4,
 "nbformat_minor": 5
}
