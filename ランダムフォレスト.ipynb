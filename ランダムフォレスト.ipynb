{
 "cells": [
  {
   "cell_type": "code",
   "execution_count": 22,
   "id": "37881612-a260-4c2b-9dd2-9a4f89a0e022",
   "metadata": {},
   "outputs": [],
   "source": [
    "import pandas as pd\n",
    "import pandas_profiling\n",
    "import os\n",
    "import pickle\n",
    "import gc\n",
    "import numpy as np\n",
    "from matplotlib import pyplot as plt\n",
    "%matplotlib inline\n",
    "import seaborn as sns\n",
    "\n",
    "import warnings\n",
    "warnings.filterwarnings('ignore')\n",
    "\n",
    "from sklearn.preprocessing import StandardScaler, MinMaxScaler, LabelEncoder, OneHotEncoder\n",
    "from sklearn.model_selection import train_test_split, KFold, StratifiedKFold\n",
    "from sklearn.metrics import accuracy_score, roc_auc_score, confusion_matrix\n",
    "import lightgbm as lgb\n",
    "\n",
    "from sklearn.ensemble import RandomForestClassifier\n",
    "\n",
    "#データ読み込み\n",
    "train = pd.read_csv(\"data_EDA/train.csv\")\n",
    "test = pd.read_csv(\"data_EDA/test.csv\")"
   ]
  },
  {
   "cell_type": "code",
   "execution_count": 23,
   "id": "54f80921-db91-4a83-8330-f929f7a21a54",
   "metadata": {},
   "outputs": [
    {
     "name": "stdout",
     "output_type": "stream",
     "text": [
      "<class 'pandas.core.frame.DataFrame'>\n",
      "RangeIndex: 3000 entries, 0 to 2999\n",
      "Data columns (total 27 columns):\n",
      " #   Column                    Non-Null Count  Dtype  \n",
      "---  ------                    --------------  -----  \n",
      " 0   index                     3000 non-null   int64  \n",
      " 1   Pregnancies               3000 non-null   int64  \n",
      " 2   Glucose                   3000 non-null   int64  \n",
      " 3   BloodPressure             3000 non-null   int64  \n",
      " 4   SkinThickness             3000 non-null   int64  \n",
      " 5   Insulin                   3000 non-null   int64  \n",
      " 6   BMI                       3000 non-null   float64\n",
      " 7   DiabetesPedigreeFunction  3000 non-null   float64\n",
      " 8   Age                       3000 non-null   int64  \n",
      " 9   Outcome                   3000 non-null   float64\n",
      " 10  BloodPressure_0           2887 non-null   float64\n",
      " 11  SkinThickness_0           1234 non-null   float64\n",
      " 12  Insulin_0                 256 non-null    float64\n",
      " 13  Pregnancies_0             2570 non-null   float64\n",
      " 14  SkinThickness_na          3000 non-null   int64  \n",
      " 15  BloodPressure_na          3000 non-null   int64  \n",
      " 16  Insulin_na                3000 non-null   int64  \n",
      " 17  Pregnancies_na            3000 non-null   int64  \n",
      " 18  Pre/age                   3000 non-null   float64\n",
      " 19  SkinThickness_mean        3000 non-null   float64\n",
      " 20  BloodPressure_mean        3000 non-null   float64\n",
      " 21  Insulin_dpf_mean          3000 non-null   float64\n",
      " 22  Pregnancies_bin           3000 non-null   object \n",
      " 23  Pregnancies_bin_0         3000 non-null   int64  \n",
      " 24  Pregnancies_bin_-1        3000 non-null   int64  \n",
      " 25  Pregnancies_bin_-3        3000 non-null   int64  \n",
      " 26  Pregnancies_bin_3-        3000 non-null   int64  \n",
      "dtypes: float64(11), int64(15), object(1)\n",
      "memory usage: 632.9+ KB\n"
     ]
    }
   ],
   "source": [
    "train.info()"
   ]
  },
  {
   "cell_type": "code",
   "execution_count": 24,
   "id": "438b3922-4b12-40a0-805d-bfae37dfe61d",
   "metadata": {},
   "outputs": [
    {
     "data": {
      "text/html": [
       "<div>\n",
       "<style scoped>\n",
       "    .dataframe tbody tr th:only-of-type {\n",
       "        vertical-align: middle;\n",
       "    }\n",
       "\n",
       "    .dataframe tbody tr th {\n",
       "        vertical-align: top;\n",
       "    }\n",
       "\n",
       "    .dataframe thead th {\n",
       "        text-align: right;\n",
       "    }\n",
       "</style>\n",
       "<table border=\"1\" class=\"dataframe\">\n",
       "  <thead>\n",
       "    <tr style=\"text-align: right;\">\n",
       "      <th></th>\n",
       "      <th>index</th>\n",
       "      <th>Pregnancies</th>\n",
       "      <th>Glucose</th>\n",
       "      <th>BloodPressure</th>\n",
       "      <th>SkinThickness</th>\n",
       "      <th>Insulin</th>\n",
       "      <th>BMI</th>\n",
       "      <th>DiabetesPedigreeFunction</th>\n",
       "      <th>Age</th>\n",
       "      <th>Outcome</th>\n",
       "      <th>...</th>\n",
       "      <th>Pregnancies_na</th>\n",
       "      <th>Pre/age</th>\n",
       "      <th>SkinThickness_mean</th>\n",
       "      <th>BloodPressure_mean</th>\n",
       "      <th>Insulin_dpf_mean</th>\n",
       "      <th>Pregnancies_bin</th>\n",
       "      <th>Pregnancies_bin_0</th>\n",
       "      <th>Pregnancies_bin_-1</th>\n",
       "      <th>Pregnancies_bin_-3</th>\n",
       "      <th>Pregnancies_bin_3-</th>\n",
       "    </tr>\n",
       "  </thead>\n",
       "  <tbody>\n",
       "    <tr>\n",
       "      <th>0</th>\n",
       "      <td>200</td>\n",
       "      <td>9</td>\n",
       "      <td>125</td>\n",
       "      <td>74</td>\n",
       "      <td>0</td>\n",
       "      <td>0</td>\n",
       "      <td>28.536910</td>\n",
       "      <td>0.444902</td>\n",
       "      <td>45</td>\n",
       "      <td>1.0</td>\n",
       "      <td>...</td>\n",
       "      <td>0</td>\n",
       "      <td>0.200000</td>\n",
       "      <td>26.875</td>\n",
       "      <td>74.0</td>\n",
       "      <td>135.636364</td>\n",
       "      <td>3-</td>\n",
       "      <td>0</td>\n",
       "      <td>0</td>\n",
       "      <td>0</td>\n",
       "      <td>1</td>\n",
       "    </tr>\n",
       "    <tr>\n",
       "      <th>1</th>\n",
       "      <td>3832</td>\n",
       "      <td>4</td>\n",
       "      <td>109</td>\n",
       "      <td>80</td>\n",
       "      <td>0</td>\n",
       "      <td>0</td>\n",
       "      <td>28.047673</td>\n",
       "      <td>0.238243</td>\n",
       "      <td>22</td>\n",
       "      <td>0.0</td>\n",
       "      <td>...</td>\n",
       "      <td>0</td>\n",
       "      <td>0.181818</td>\n",
       "      <td>26.875</td>\n",
       "      <td>80.0</td>\n",
       "      <td>135.636364</td>\n",
       "      <td>-3</td>\n",
       "      <td>0</td>\n",
       "      <td>0</td>\n",
       "      <td>1</td>\n",
       "      <td>0</td>\n",
       "    </tr>\n",
       "    <tr>\n",
       "      <th>2</th>\n",
       "      <td>4927</td>\n",
       "      <td>4</td>\n",
       "      <td>88</td>\n",
       "      <td>78</td>\n",
       "      <td>39</td>\n",
       "      <td>0</td>\n",
       "      <td>52.371341</td>\n",
       "      <td>0.279471</td>\n",
       "      <td>26</td>\n",
       "      <td>0.0</td>\n",
       "      <td>...</td>\n",
       "      <td>0</td>\n",
       "      <td>0.153846</td>\n",
       "      <td>39.000</td>\n",
       "      <td>78.0</td>\n",
       "      <td>135.636364</td>\n",
       "      <td>-3</td>\n",
       "      <td>0</td>\n",
       "      <td>0</td>\n",
       "      <td>1</td>\n",
       "      <td>0</td>\n",
       "    </tr>\n",
       "    <tr>\n",
       "      <th>3</th>\n",
       "      <td>4088</td>\n",
       "      <td>9</td>\n",
       "      <td>125</td>\n",
       "      <td>74</td>\n",
       "      <td>0</td>\n",
       "      <td>0</td>\n",
       "      <td>40.062688</td>\n",
       "      <td>0.203922</td>\n",
       "      <td>45</td>\n",
       "      <td>0.0</td>\n",
       "      <td>...</td>\n",
       "      <td>0</td>\n",
       "      <td>0.200000</td>\n",
       "      <td>26.875</td>\n",
       "      <td>74.0</td>\n",
       "      <td>135.636364</td>\n",
       "      <td>3-</td>\n",
       "      <td>0</td>\n",
       "      <td>0</td>\n",
       "      <td>0</td>\n",
       "      <td>1</td>\n",
       "    </tr>\n",
       "    <tr>\n",
       "      <th>4</th>\n",
       "      <td>3644</td>\n",
       "      <td>5</td>\n",
       "      <td>107</td>\n",
       "      <td>78</td>\n",
       "      <td>44</td>\n",
       "      <td>284</td>\n",
       "      <td>52.935068</td>\n",
       "      <td>0.284959</td>\n",
       "      <td>45</td>\n",
       "      <td>1.0</td>\n",
       "      <td>...</td>\n",
       "      <td>0</td>\n",
       "      <td>0.111111</td>\n",
       "      <td>44.000</td>\n",
       "      <td>78.0</td>\n",
       "      <td>284.000000</td>\n",
       "      <td>-3</td>\n",
       "      <td>0</td>\n",
       "      <td>0</td>\n",
       "      <td>1</td>\n",
       "      <td>0</td>\n",
       "    </tr>\n",
       "  </tbody>\n",
       "</table>\n",
       "<p>5 rows × 27 columns</p>\n",
       "</div>"
      ],
      "text/plain": [
       "   index  Pregnancies  Glucose  BloodPressure  SkinThickness  Insulin  \\\n",
       "0    200            9      125             74              0        0   \n",
       "1   3832            4      109             80              0        0   \n",
       "2   4927            4       88             78             39        0   \n",
       "3   4088            9      125             74              0        0   \n",
       "4   3644            5      107             78             44      284   \n",
       "\n",
       "         BMI  DiabetesPedigreeFunction  Age  Outcome  ...  Pregnancies_na  \\\n",
       "0  28.536910                  0.444902   45      1.0  ...               0   \n",
       "1  28.047673                  0.238243   22      0.0  ...               0   \n",
       "2  52.371341                  0.279471   26      0.0  ...               0   \n",
       "3  40.062688                  0.203922   45      0.0  ...               0   \n",
       "4  52.935068                  0.284959   45      1.0  ...               0   \n",
       "\n",
       "    Pre/age  SkinThickness_mean  BloodPressure_mean  Insulin_dpf_mean  \\\n",
       "0  0.200000              26.875                74.0        135.636364   \n",
       "1  0.181818              26.875                80.0        135.636364   \n",
       "2  0.153846              39.000                78.0        135.636364   \n",
       "3  0.200000              26.875                74.0        135.636364   \n",
       "4  0.111111              44.000                78.0        284.000000   \n",
       "\n",
       "   Pregnancies_bin  Pregnancies_bin_0  Pregnancies_bin_-1  Pregnancies_bin_-3  \\\n",
       "0               3-                  0                   0                   0   \n",
       "1               -3                  0                   0                   1   \n",
       "2               -3                  0                   0                   1   \n",
       "3               3-                  0                   0                   0   \n",
       "4               -3                  0                   0                   1   \n",
       "\n",
       "   Pregnancies_bin_3-  \n",
       "0                   1  \n",
       "1                   0  \n",
       "2                   0  \n",
       "3                   1  \n",
       "4                   0  \n",
       "\n",
       "[5 rows x 27 columns]"
      ]
     },
     "execution_count": 24,
     "metadata": {},
     "output_type": "execute_result"
    }
   ],
   "source": [
    "train.head()"
   ]
  },
  {
   "cell_type": "code",
   "execution_count": 51,
   "id": "16260b90-7576-4443-bda3-5bcfd32740c2",
   "metadata": {},
   "outputs": [],
   "source": [
    "# まずは少ない特徴量から検討していく\n",
    "X_train = train[['DiabetesPedigreeFunction',\n",
    "                 'BMI',\n",
    "                 'Glucose',\n",
    "                 'Age',\n",
    "                 'Pregnancies',\n",
    "                 'SkinThickness',\n",
    "                 'BloodPressure',\n",
    "                 'BloodPressure_na',\n",
    "                 'Insulin_na',\n",
    "                 'Insulin_dpf_mean',\n",
    "                 \n",
    "                 'Pregnancies_bin_0',\n",
    "                  \n",
    "              \n",
    "                 \n",
    "                \n",
    "                      \n",
    "                \n",
    "                 \n",
    "             ]]\n",
    "id_train = train[['index']]\n",
    "y_train = train[['Outcome']]\n",
    "\n",
    "\n",
    "X_test = test[X_train.columns]\n",
    "id_test = test[id_train.columns]"
   ]
  },
  {
   "cell_type": "code",
   "execution_count": 52,
   "id": "f2afdfe8-8dfb-4cff-a721-436a175d9d4a",
   "metadata": {},
   "outputs": [
    {
     "data": {
      "text/plain": [
       "Index(['DiabetesPedigreeFunction', 'BMI', 'Glucose', 'Age', 'Pregnancies',\n",
       "       'SkinThickness', 'BloodPressure', 'BloodPressure_na', 'Insulin_na',\n",
       "       'Insulin_dpf_mean', 'Pregnancies_bin_0'],\n",
       "      dtype='object')"
      ]
     },
     "execution_count": 52,
     "metadata": {},
     "output_type": "execute_result"
    }
   ],
   "source": [
    "X_train.columns"
   ]
  },
  {
   "cell_type": "code",
   "execution_count": 53,
   "id": "39f5ff88-b4df-41ec-a772-ba1c234e295a",
   "metadata": {},
   "outputs": [
    {
     "name": "stdout",
     "output_type": "stream",
     "text": [
      "(3000, 11) (3000, 1) (3000, 1)\n"
     ]
    }
   ],
   "source": [
    "print(X_train.shape, y_train.shape, id_train.shape)"
   ]
  },
  {
   "cell_type": "markdown",
   "id": "ee8776f7-2cba-4fcf-9cbe-1f162ec4778b",
   "metadata": {},
   "source": [
    "ベースライン評価のため一部データを分ける。\n",
    "\n",
    "残りのデータでvalidationしてその条件・目的変数・validation方法・評価指標を仮定し評価する。\n",
    "\n",
    "上記3項目を明確にすることをベースラインの決定とする。\n",
    "\n",
    "validationした後にベースライン評価のためのデータで評価しベースラインを検証する。\n",
    "\n",
    "validation時とベースライン検証時の結果の傾向に大きな差が無ければベースラインの3項目は問題ないと判断する。\n",
    "\n",
    "ベースラインが決定すると、その後EDAやモデル改善後はvalidationのみを行い進めていく。\n",
    "（変更点や結果を記録）"
   ]
  },
  {
   "cell_type": "markdown",
   "id": "3c3d8aaf-e8bb-4da7-912e-4a7c033b0c0a",
   "metadata": {},
   "source": [
    "## validation方法（ベースライン作成へ）"
   ]
  },
  {
   "cell_type": "markdown",
   "id": "a5f13003-cbdb-446d-bd31-b85caf5735ac",
   "metadata": {},
   "source": [
    "clf = RandomForestClassifier(random_state=1234)\n",
    "clf.fit(X_train, y_train)\n",
    "print(\"score=\", clf.score(X_test, y_test))"
   ]
  },
  {
   "cell_type": "code",
   "execution_count": 54,
   "id": "81079aa5-f3d3-41b6-98c7-af3f20ee1e74",
   "metadata": {},
   "outputs": [],
   "source": [
    "random_state = 123\n",
    "params = {'random_state': random_state,\n",
    "          'criterion': 'gini',\n",
    "\n",
    "    }\n",
    "\n",
    "#https://qiita.com/FujiedaTaro/items/61ded4ea5643a6204317#"
   ]
  },
  {
   "cell_type": "code",
   "execution_count": 76,
   "id": "25a5f634-077f-46b3-a2ca-a58523ac2c91",
   "metadata": {},
   "outputs": [],
   "source": [
    "# cvでの評価用\n",
    "def train_rf(input_x,\n",
    "              input_y,\n",
    "              input_id,\n",
    "              params,\n",
    "              list_nfold=[0,1,2,3,4],\n",
    "              n_splits=5,\n",
    "              random_state=123\n",
    "            ):\n",
    "    train_oof = np.zeros(len(input_x))\n",
    "    # foldごとの推論値\n",
    "    metrics = []\n",
    "    imp = pd.DataFrame()\n",
    "                         \n",
    "    cv = list(StratifiedKFold(n_splits=n_splits, shuffle=True, random_state=random_state).\n",
    "              split(input_x, input_y))\n",
    "    \n",
    "    for nfold in list_nfold:\n",
    "        print('-'*20, nfold, '-'*20)\n",
    "        \n",
    "        idx_tr, idx_va = cv[nfold][0], cv[nfold][1]\n",
    "        x_tr, y_tr = input_x.loc[idx_tr, :], input_y.loc[idx_tr, :]\n",
    "        x_va, y_va = input_x.loc[idx_va, :], input_y.loc[idx_va, :]\n",
    "        print(x_tr.shape, y_tr.shape)\n",
    "        print(x_va.shape, y_va.shape)\n",
    "        print('y_train:{:.3f}, y_tr:{:.3f}, y_va{:.3f}'.\n",
    "              format(y_train['Outcome'].mean(), y_tr['Outcome'].mean(), y_va['Outcome'].mean(),))\n",
    "\n",
    "        model = RandomForestClassifier(**params_best)\n",
    "        model.fit(x_tr,\n",
    "                  y_tr,\n",
    "                )\n",
    "        # モデルの保存\n",
    "        fname_rf = 'model/rf/model_rf_fold{}.pickle'.format(nfold)\n",
    "        with open(fname_rf, 'wb')as f:\n",
    "            pickle.dump(model, f, protocol=4)\n",
    "            \n",
    "        # 評価\n",
    "        y_tr_pred = model.predict_proba(x_tr)[:,1]\n",
    "        y_va_pred = model.predict_proba(x_va)[:,1]\n",
    "        metric_tr = accuracy_score(y_tr, np.where(y_tr_pred>=0.5,1,0).astype(int))\n",
    "        metric_va = accuracy_score(y_va, np.where(y_va_pred>=0.5,1,0).astype(int))\n",
    "        print('[accuracy] tr: {:.2f}, va: {:2f}'.\n",
    "             format(metric_tr, metric_va))\n",
    "        metrics.append([nfold, metric_tr, metric_va])\n",
    "        \n",
    "        # oof\n",
    "        train_oof[idx_va] = y_va_pred\n",
    "        \n",
    "        # imp\n",
    "        _imp = pd.DataFrame({'col':input_x.columns, 'imp':model.feature_importances_,'nfold':nfold})\n",
    "        imp = pd.concat([imp, _imp], axis=0, ignore_index=False)\n",
    "\n",
    "    print('-'*20, 'result', '-'*20)\n",
    "    \n",
    "    # metrix出力\n",
    "    metrics = np.array(metrics)\n",
    "    print(metrics)\n",
    "    print('[cv] tr: {:.2f}+-{:.2f}, va: {:.2f}'.format(\n",
    "        metrics[:,1].mean(), metrics[:,1].std(),\n",
    "        metrics[:,2].mean(), metrics[:,2].std()\n",
    "    ))\n",
    "    print('[oof] {:.4f}'.format(\n",
    "        accuracy_score(input_y, np.where(train_oof>=0.5,1,0))))\n",
    "    # oof出力  \n",
    "    train_oof = pd.concat([\n",
    "        input_id,\n",
    "        pd.DataFrame({'pred':train_oof})]\n",
    "        ,axis=1)\n",
    "    \n",
    "    # imp出力\n",
    "    imp = imp.groupby('col')['imp'].agg(['mean', 'std']).reset_index(drop=False)\n",
    "    imp.columns = ['col', 'imp', 'imp_std']\n",
    "\n",
    "    print('Done')\n",
    "    \n",
    "    return train_oof, imp, metrics"
   ]
  },
  {
   "cell_type": "code",
   "execution_count": 77,
   "id": "cf1c7951-6b35-4f07-894d-814aa7eca215",
   "metadata": {},
   "outputs": [
    {
     "name": "stdout",
     "output_type": "stream",
     "text": [
      "-------------------- 0 --------------------\n",
      "(2400, 11) (2400, 1)\n",
      "(600, 11) (600, 1)\n",
      "y_train:0.239, y_tr:0.239, y_va0.240\n",
      "[accuracy] tr: 1.00, va: 0.813333\n",
      "-------------------- 1 --------------------\n",
      "(2400, 11) (2400, 1)\n",
      "(600, 11) (600, 1)\n",
      "y_train:0.239, y_tr:0.239, y_va0.240\n",
      "[accuracy] tr: 1.00, va: 0.803333\n",
      "-------------------- 2 --------------------\n",
      "(2400, 11) (2400, 1)\n",
      "(600, 11) (600, 1)\n",
      "y_train:0.239, y_tr:0.239, y_va0.238\n",
      "[accuracy] tr: 1.00, va: 0.785000\n",
      "-------------------- 3 --------------------\n",
      "(2400, 11) (2400, 1)\n",
      "(600, 11) (600, 1)\n",
      "y_train:0.239, y_tr:0.239, y_va0.238\n",
      "[accuracy] tr: 1.00, va: 0.816667\n",
      "-------------------- 4 --------------------\n",
      "(2400, 11) (2400, 1)\n",
      "(600, 11) (600, 1)\n",
      "y_train:0.239, y_tr:0.239, y_va0.238\n",
      "[accuracy] tr: 1.00, va: 0.795000\n",
      "-------------------- result --------------------\n",
      "[[0.         1.         0.81333333]\n",
      " [1.         1.         0.80333333]\n",
      " [2.         1.         0.785     ]\n",
      " [3.         1.         0.81666667]\n",
      " [4.         1.         0.795     ]]\n",
      "[cv] tr: 1.00+-0.00, va: 0.80\n",
      "[oof] 0.8027\n",
      "Done\n"
     ]
    }
   ],
   "source": [
    "train_oof, imp, metrics = train_rf(X_train, y_train, id_train, params,list_nfold=[0,1,2,3,4], n_splits=5, random_state=123)"
   ]
  },
  {
   "cell_type": "code",
   "execution_count": 78,
   "id": "e5529ae9-fe8b-4852-8367-50a809dc147a",
   "metadata": {},
   "outputs": [
    {
     "data": {
      "text/html": [
       "<div>\n",
       "<style scoped>\n",
       "    .dataframe tbody tr th:only-of-type {\n",
       "        vertical-align: middle;\n",
       "    }\n",
       "\n",
       "    .dataframe tbody tr th {\n",
       "        vertical-align: top;\n",
       "    }\n",
       "\n",
       "    .dataframe thead th {\n",
       "        text-align: right;\n",
       "    }\n",
       "</style>\n",
       "<table border=\"1\" class=\"dataframe\">\n",
       "  <thead>\n",
       "    <tr style=\"text-align: right;\">\n",
       "      <th></th>\n",
       "      <th>col</th>\n",
       "      <th>imp</th>\n",
       "      <th>imp_std</th>\n",
       "    </tr>\n",
       "  </thead>\n",
       "  <tbody>\n",
       "    <tr>\n",
       "      <th>1</th>\n",
       "      <td>BMI</td>\n",
       "      <td>0.224934</td>\n",
       "      <td>0.003747</td>\n",
       "    </tr>\n",
       "    <tr>\n",
       "      <th>4</th>\n",
       "      <td>DiabetesPedigreeFunction</td>\n",
       "      <td>0.169187</td>\n",
       "      <td>0.001921</td>\n",
       "    </tr>\n",
       "    <tr>\n",
       "      <th>0</th>\n",
       "      <td>Age</td>\n",
       "      <td>0.163364</td>\n",
       "      <td>0.009416</td>\n",
       "    </tr>\n",
       "    <tr>\n",
       "      <th>5</th>\n",
       "      <td>Glucose</td>\n",
       "      <td>0.136197</td>\n",
       "      <td>0.003054</td>\n",
       "    </tr>\n",
       "    <tr>\n",
       "      <th>2</th>\n",
       "      <td>BloodPressure</td>\n",
       "      <td>0.103606</td>\n",
       "      <td>0.002065</td>\n",
       "    </tr>\n",
       "    <tr>\n",
       "      <th>8</th>\n",
       "      <td>Pregnancies</td>\n",
       "      <td>0.094409</td>\n",
       "      <td>0.003158</td>\n",
       "    </tr>\n",
       "    <tr>\n",
       "      <th>10</th>\n",
       "      <td>SkinThickness</td>\n",
       "      <td>0.062712</td>\n",
       "      <td>0.001090</td>\n",
       "    </tr>\n",
       "    <tr>\n",
       "      <th>6</th>\n",
       "      <td>Insulin_dpf_mean</td>\n",
       "      <td>0.021897</td>\n",
       "      <td>0.001323</td>\n",
       "    </tr>\n",
       "    <tr>\n",
       "      <th>7</th>\n",
       "      <td>Insulin_na</td>\n",
       "      <td>0.009559</td>\n",
       "      <td>0.000388</td>\n",
       "    </tr>\n",
       "    <tr>\n",
       "      <th>9</th>\n",
       "      <td>Pregnancies_bin_0</td>\n",
       "      <td>0.009396</td>\n",
       "      <td>0.000193</td>\n",
       "    </tr>\n",
       "    <tr>\n",
       "      <th>3</th>\n",
       "      <td>BloodPressure_na</td>\n",
       "      <td>0.004739</td>\n",
       "      <td>0.000414</td>\n",
       "    </tr>\n",
       "  </tbody>\n",
       "</table>\n",
       "</div>"
      ],
      "text/plain": [
       "                         col       imp   imp_std\n",
       "1                        BMI  0.224934  0.003747\n",
       "4   DiabetesPedigreeFunction  0.169187  0.001921\n",
       "0                        Age  0.163364  0.009416\n",
       "5                    Glucose  0.136197  0.003054\n",
       "2              BloodPressure  0.103606  0.002065\n",
       "8                Pregnancies  0.094409  0.003158\n",
       "10             SkinThickness  0.062712  0.001090\n",
       "6           Insulin_dpf_mean  0.021897  0.001323\n",
       "7                 Insulin_na  0.009559  0.000388\n",
       "9          Pregnancies_bin_0  0.009396  0.000193\n",
       "3           BloodPressure_na  0.004739  0.000414"
      ]
     },
     "execution_count": 78,
     "metadata": {},
     "output_type": "execute_result"
    }
   ],
   "source": [
    "imp.sort_values('imp', ascending=False)"
   ]
  },
  {
   "cell_type": "code",
   "execution_count": 79,
   "id": "fb3a004c-8449-40fd-9d1c-df80707ad29c",
   "metadata": {},
   "outputs": [
    {
     "data": {
      "text/html": [
       "<div>\n",
       "<style scoped>\n",
       "    .dataframe tbody tr th:only-of-type {\n",
       "        vertical-align: middle;\n",
       "    }\n",
       "\n",
       "    .dataframe tbody tr th {\n",
       "        vertical-align: top;\n",
       "    }\n",
       "\n",
       "    .dataframe thead th {\n",
       "        text-align: right;\n",
       "    }\n",
       "</style>\n",
       "<table border=\"1\" class=\"dataframe\">\n",
       "  <thead>\n",
       "    <tr style=\"text-align: right;\">\n",
       "      <th></th>\n",
       "      <th>index</th>\n",
       "      <th>pred</th>\n",
       "    </tr>\n",
       "  </thead>\n",
       "  <tbody>\n",
       "    <tr>\n",
       "      <th>0</th>\n",
       "      <td>200</td>\n",
       "      <td>0.442568</td>\n",
       "    </tr>\n",
       "    <tr>\n",
       "      <th>1</th>\n",
       "      <td>3832</td>\n",
       "      <td>0.057432</td>\n",
       "    </tr>\n",
       "    <tr>\n",
       "      <th>2</th>\n",
       "      <td>4927</td>\n",
       "      <td>0.530405</td>\n",
       "    </tr>\n",
       "    <tr>\n",
       "      <th>3</th>\n",
       "      <td>4088</td>\n",
       "      <td>0.628378</td>\n",
       "    </tr>\n",
       "    <tr>\n",
       "      <th>4</th>\n",
       "      <td>3644</td>\n",
       "      <td>0.847973</td>\n",
       "    </tr>\n",
       "    <tr>\n",
       "      <th>...</th>\n",
       "      <td>...</td>\n",
       "      <td>...</td>\n",
       "    </tr>\n",
       "    <tr>\n",
       "      <th>2995</th>\n",
       "      <td>4931</td>\n",
       "      <td>0.209459</td>\n",
       "    </tr>\n",
       "    <tr>\n",
       "      <th>2996</th>\n",
       "      <td>3264</td>\n",
       "      <td>0.043919</td>\n",
       "    </tr>\n",
       "    <tr>\n",
       "      <th>2997</th>\n",
       "      <td>1653</td>\n",
       "      <td>0.280405</td>\n",
       "    </tr>\n",
       "    <tr>\n",
       "      <th>2998</th>\n",
       "      <td>2607</td>\n",
       "      <td>0.395270</td>\n",
       "    </tr>\n",
       "    <tr>\n",
       "      <th>2999</th>\n",
       "      <td>2732</td>\n",
       "      <td>0.003378</td>\n",
       "    </tr>\n",
       "  </tbody>\n",
       "</table>\n",
       "<p>3000 rows × 2 columns</p>\n",
       "</div>"
      ],
      "text/plain": [
       "      index      pred\n",
       "0       200  0.442568\n",
       "1      3832  0.057432\n",
       "2      4927  0.530405\n",
       "3      4088  0.628378\n",
       "4      3644  0.847973\n",
       "...     ...       ...\n",
       "2995   4931  0.209459\n",
       "2996   3264  0.043919\n",
       "2997   1653  0.280405\n",
       "2998   2607  0.395270\n",
       "2999   2732  0.003378\n",
       "\n",
       "[3000 rows x 2 columns]"
      ]
     },
     "execution_count": 79,
     "metadata": {},
     "output_type": "execute_result"
    }
   ],
   "source": [
    "train_oof"
   ]
  },
  {
   "cell_type": "markdown",
   "id": "ff2e912e-0d71-46ee-9f04-e89c0286a928",
   "metadata": {},
   "source": [
    "###\n",
    "\n",
    "'DiabetesPedigreeFunction', 'BMI', 'Glucose', 'Age', 'Pregnancies',\n",
    "       'BloodPressure_na', 'BloodPressure_0', 'SkinThickness', 'Insulin_0' 'Insulin_na' \n",
    "       \n",
    "       \n",
    "'SkinThickness_na' or 'SkinThickness'\n",
    "###"
   ]
  },
  {
   "cell_type": "code",
   "execution_count": 80,
   "id": "5be77985-124b-44db-b1f7-5c53f25c064e",
   "metadata": {},
   "outputs": [
    {
     "data": {
      "text/plain": [
       "Index(['DiabetesPedigreeFunction', 'BMI', 'Glucose', 'Age', 'Pregnancies',\n",
       "       'SkinThickness', 'BloodPressure', 'BloodPressure_na', 'Insulin_na',\n",
       "       'Insulin_dpf_mean', 'Pregnancies_bin_0'],\n",
       "      dtype='object')"
      ]
     },
     "execution_count": 80,
     "metadata": {},
     "output_type": "execute_result"
    }
   ],
   "source": [
    "X_train.columns"
   ]
  },
  {
   "cell_type": "markdown",
   "id": "4d581be4-6363-4cc9-8137-868da8cde34b",
   "metadata": {},
   "source": [
    "## 推論"
   ]
  },
  {
   "cell_type": "code",
   "execution_count": 81,
   "id": "4fa1a2ad-1583-47ee-8445-b289bbf4d884",
   "metadata": {},
   "outputs": [],
   "source": [
    "def predict_rf(input_x,\n",
    "                input_id,\n",
    "                list_nfold=[0,1,2,3,4],\n",
    "               ):\n",
    "    pred = np.zeros((len(input_x), len(list_nfold)))\n",
    "    for nfold in list_nfold:\n",
    "        print('-'*20, nfold, '-'*20)\n",
    "        fname_rf = 'model/rf/model_rf_fold{}.pickle'.format(nfold)\n",
    "        with open(fname_rf, 'rb')as f:\n",
    "            model = pickle.load(f)\n",
    "        pred[:,nfold] = model.predict_proba(input_x)[:,1]\n",
    "        \n",
    "    pred = pd.concat([\n",
    "        input_id,\n",
    "        pd.DataFrame({'pred':pred.mean(axis=1)}),], axis=1)\n",
    "    \n",
    "    print('Done')\n",
    "    \n",
    "    return pred"
   ]
  },
  {
   "cell_type": "code",
   "execution_count": 82,
   "id": "4459524a-7973-46a6-9048-5641416d6987",
   "metadata": {},
   "outputs": [
    {
     "name": "stdout",
     "output_type": "stream",
     "text": [
      "-------------------- 0 --------------------\n",
      "-------------------- 1 --------------------\n",
      "-------------------- 2 --------------------\n",
      "-------------------- 3 --------------------\n",
      "-------------------- 4 --------------------\n",
      "Done\n"
     ]
    }
   ],
   "source": [
    "test_pred_proba = predict_rf(X_test,\n",
    "                    id_test,\n",
    "                    list_nfold=[0,1,2,3,4],\n",
    "                   )"
   ]
  },
  {
   "cell_type": "code",
   "execution_count": 83,
   "id": "c4852bd4-77c2-40d8-b4e8-4fb64f5d2e5c",
   "metadata": {},
   "outputs": [
    {
     "data": {
      "text/html": [
       "<div>\n",
       "<style scoped>\n",
       "    .dataframe tbody tr th:only-of-type {\n",
       "        vertical-align: middle;\n",
       "    }\n",
       "\n",
       "    .dataframe tbody tr th {\n",
       "        vertical-align: top;\n",
       "    }\n",
       "\n",
       "    .dataframe thead th {\n",
       "        text-align: right;\n",
       "    }\n",
       "</style>\n",
       "<table border=\"1\" class=\"dataframe\">\n",
       "  <thead>\n",
       "    <tr style=\"text-align: right;\">\n",
       "      <th></th>\n",
       "      <th>index</th>\n",
       "      <th>pred</th>\n",
       "    </tr>\n",
       "  </thead>\n",
       "  <tbody>\n",
       "    <tr>\n",
       "      <th>0</th>\n",
       "      <td>398</td>\n",
       "      <td>0.332432</td>\n",
       "    </tr>\n",
       "    <tr>\n",
       "      <th>1</th>\n",
       "      <td>3833</td>\n",
       "      <td>0.092568</td>\n",
       "    </tr>\n",
       "    <tr>\n",
       "      <th>2</th>\n",
       "      <td>4836</td>\n",
       "      <td>0.032432</td>\n",
       "    </tr>\n",
       "  </tbody>\n",
       "</table>\n",
       "</div>"
      ],
      "text/plain": [
       "   index      pred\n",
       "0    398  0.332432\n",
       "1   3833  0.092568\n",
       "2   4836  0.032432"
      ]
     },
     "execution_count": 83,
     "metadata": {},
     "output_type": "execute_result"
    }
   ],
   "source": [
    "test_pred_proba[:3]"
   ]
  },
  {
   "cell_type": "code",
   "execution_count": 84,
   "id": "20a73cd2-155b-460e-9c49-8a43c139b091",
   "metadata": {},
   "outputs": [
    {
     "data": {
      "text/html": [
       "<div>\n",
       "<style scoped>\n",
       "    .dataframe tbody tr th:only-of-type {\n",
       "        vertical-align: middle;\n",
       "    }\n",
       "\n",
       "    .dataframe tbody tr th {\n",
       "        vertical-align: top;\n",
       "    }\n",
       "\n",
       "    .dataframe thead th {\n",
       "        text-align: right;\n",
       "    }\n",
       "</style>\n",
       "<table border=\"1\" class=\"dataframe\">\n",
       "  <thead>\n",
       "    <tr style=\"text-align: right;\">\n",
       "      <th></th>\n",
       "      <th>index</th>\n",
       "      <th>pred</th>\n",
       "    </tr>\n",
       "  </thead>\n",
       "  <tbody>\n",
       "    <tr>\n",
       "      <th>0</th>\n",
       "      <td>398</td>\n",
       "      <td>0</td>\n",
       "    </tr>\n",
       "    <tr>\n",
       "      <th>1</th>\n",
       "      <td>3833</td>\n",
       "      <td>0</td>\n",
       "    </tr>\n",
       "    <tr>\n",
       "      <th>2</th>\n",
       "      <td>4836</td>\n",
       "      <td>0</td>\n",
       "    </tr>\n",
       "  </tbody>\n",
       "</table>\n",
       "</div>"
      ],
      "text/plain": [
       "   index  pred\n",
       "0    398     0\n",
       "1   3833     0\n",
       "2   4836     0"
      ]
     },
     "execution_count": 84,
     "metadata": {},
     "output_type": "execute_result"
    }
   ],
   "source": [
    "test_pred = test_pred_proba.copy()  \n",
    "test_pred['pred']=np.where(test_pred['pred'] < 0.5, 0, 1)\n",
    "test_pred[:3]"
   ]
  },
  {
   "cell_type": "code",
   "execution_count": 85,
   "id": "012ecca7-2231-4eb1-bfef-8395a9c92e52",
   "metadata": {},
   "outputs": [
    {
     "data": {
      "text/html": [
       "<div>\n",
       "<style scoped>\n",
       "    .dataframe tbody tr th:only-of-type {\n",
       "        vertical-align: middle;\n",
       "    }\n",
       "\n",
       "    .dataframe tbody tr th {\n",
       "        vertical-align: top;\n",
       "    }\n",
       "\n",
       "    .dataframe thead th {\n",
       "        text-align: right;\n",
       "    }\n",
       "</style>\n",
       "<table border=\"1\" class=\"dataframe\">\n",
       "  <thead>\n",
       "    <tr style=\"text-align: right;\">\n",
       "      <th></th>\n",
       "      <th>index</th>\n",
       "      <th>pred</th>\n",
       "    </tr>\n",
       "  </thead>\n",
       "  <tbody>\n",
       "    <tr>\n",
       "      <th>0</th>\n",
       "      <td>200</td>\n",
       "      <td>0.442568</td>\n",
       "    </tr>\n",
       "    <tr>\n",
       "      <th>1</th>\n",
       "      <td>3832</td>\n",
       "      <td>0.057432</td>\n",
       "    </tr>\n",
       "    <tr>\n",
       "      <th>2</th>\n",
       "      <td>4927</td>\n",
       "      <td>0.530405</td>\n",
       "    </tr>\n",
       "  </tbody>\n",
       "</table>\n",
       "</div>"
      ],
      "text/plain": [
       "   index      pred\n",
       "0    200  0.442568\n",
       "1   3832  0.057432\n",
       "2   4927  0.530405"
      ]
     },
     "execution_count": 85,
     "metadata": {},
     "output_type": "execute_result"
    }
   ],
   "source": [
    "train_oof[:3]"
   ]
  },
  {
   "cell_type": "code",
   "execution_count": 87,
   "id": "5f516a7c-e10f-4ff0-89dc-756c31d1a1e9",
   "metadata": {},
   "outputs": [],
   "source": [
    "test_pred.to_csv('ensamble/sub/submission_rf.csv', index=None, header=False,)"
   ]
  },
  {
   "cell_type": "markdown",
   "id": "fe3e126f-a777-4030-a0f5-71fc2a8e877b",
   "metadata": {},
   "source": [
    "## アンサンブル用データ"
   ]
  },
  {
   "cell_type": "code",
   "execution_count": 88,
   "id": "d7afd05d-53fb-4b79-a4a2-781d32a475db",
   "metadata": {},
   "outputs": [],
   "source": [
    "import pickle\n",
    " \n",
    "with open('ensamble/rf_train.pickle', mode='wb') as fo:\n",
    "    pickle.dump(train_oof, fo)\n",
    "    \n",
    "with open('ensamble/rf_test.pickle', mode='wb') as fo:\n",
    "    pickle.dump(test_pred_proba, fo)\n",
    "    "
   ]
  },
  {
   "cell_type": "markdown",
   "id": "7dc2504a-adee-4c7b-9134-e8f2b7bd67cf",
   "metadata": {},
   "source": [
    "## ベースライン検証"
   ]
  },
  {
   "cell_type": "markdown",
   "id": "9b9098bf-dac6-4e6c-974e-61ff82b9c249",
   "metadata": {},
   "source": [
    "### 初めに検討し問題なければ、その後はスキップ可能"
   ]
  },
  {
   "cell_type": "markdown",
   "id": "3e1c6f40-d0b8-4dce-95a3-168b860e1267",
   "metadata": {},
   "source": [
    "ベースライン（評価指標や検証法、特徴量選択）の評価を行う\n",
    "\n",
    "① 検証データの評価値とベースライン評価値のギャップが小さいか確認\n",
    "\n",
    "② 後分類の傾向が似ているか確認\n",
    "\n",
    "③ 予測値の分布が似ているか確認\n",
    "\n",
    "上記3点が問題なければ、ベースラインを決定し、EDAやモデル改善を行う。"
   ]
  },
  {
   "cell_type": "code",
   "execution_count": 89,
   "id": "5d66d8a2-3cd7-4073-b2ad-6ae3de449dd3",
   "metadata": {},
   "outputs": [
    {
     "name": "stdout",
     "output_type": "stream",
     "text": [
      "検証データ:  (2400, 11) (2400, 1)\n",
      "ベースライン検証データ:  (600, 11) (600, 1)\n",
      "検証データ(train):  (1920, 11) (1920, 1)\n",
      "検証データ(test):  (480, 11) (480, 1)\n"
     ]
    }
   ],
   "source": [
    "x_tr, x_va2, y_tr, y_va2 = train_test_split(X_train,\n",
    "                                           y_train,\n",
    "                                           test_size=0.2,\n",
    "                                           shuffle=True,\n",
    "                                           stratify=y_train,\n",
    "                                           random_state=random_state)\n",
    "print('検証データ: ',x_tr.shape, y_tr.shape)\n",
    "print('ベースライン検証データ: ',x_va2.shape, y_va2.shape)\n",
    "\n",
    "x_tr1, x_va1, y_tr1, y_va1 = train_test_split(x_tr,\n",
    "                                              y_tr,\n",
    "                                              test_size=0.2,\n",
    "                                              shuffle=True,\n",
    "                                              stratify=y_tr,\n",
    "                                              random_state=random_state)\n",
    "print('検証データ(train): ',x_tr1.shape, y_tr1.shape)\n",
    "print('検証データ(test): ',x_va1.shape, y_va1.shape)\n"
   ]
  },
  {
   "cell_type": "code",
   "execution_count": 90,
   "id": "3689048c-8d41-446f-9b16-9a132c39de43",
   "metadata": {},
   "outputs": [
    {
     "data": {
      "text/html": [
       "<style>#sk-container-id-1 {color: black;background-color: white;}#sk-container-id-1 pre{padding: 0;}#sk-container-id-1 div.sk-toggleable {background-color: white;}#sk-container-id-1 label.sk-toggleable__label {cursor: pointer;display: block;width: 100%;margin-bottom: 0;padding: 0.3em;box-sizing: border-box;text-align: center;}#sk-container-id-1 label.sk-toggleable__label-arrow:before {content: \"▸\";float: left;margin-right: 0.25em;color: #696969;}#sk-container-id-1 label.sk-toggleable__label-arrow:hover:before {color: black;}#sk-container-id-1 div.sk-estimator:hover label.sk-toggleable__label-arrow:before {color: black;}#sk-container-id-1 div.sk-toggleable__content {max-height: 0;max-width: 0;overflow: hidden;text-align: left;background-color: #f0f8ff;}#sk-container-id-1 div.sk-toggleable__content pre {margin: 0.2em;color: black;border-radius: 0.25em;background-color: #f0f8ff;}#sk-container-id-1 input.sk-toggleable__control:checked~div.sk-toggleable__content {max-height: 200px;max-width: 100%;overflow: auto;}#sk-container-id-1 input.sk-toggleable__control:checked~label.sk-toggleable__label-arrow:before {content: \"▾\";}#sk-container-id-1 div.sk-estimator input.sk-toggleable__control:checked~label.sk-toggleable__label {background-color: #d4ebff;}#sk-container-id-1 div.sk-label input.sk-toggleable__control:checked~label.sk-toggleable__label {background-color: #d4ebff;}#sk-container-id-1 input.sk-hidden--visually {border: 0;clip: rect(1px 1px 1px 1px);clip: rect(1px, 1px, 1px, 1px);height: 1px;margin: -1px;overflow: hidden;padding: 0;position: absolute;width: 1px;}#sk-container-id-1 div.sk-estimator {font-family: monospace;background-color: #f0f8ff;border: 1px dotted black;border-radius: 0.25em;box-sizing: border-box;margin-bottom: 0.5em;}#sk-container-id-1 div.sk-estimator:hover {background-color: #d4ebff;}#sk-container-id-1 div.sk-parallel-item::after {content: \"\";width: 100%;border-bottom: 1px solid gray;flex-grow: 1;}#sk-container-id-1 div.sk-label:hover label.sk-toggleable__label {background-color: #d4ebff;}#sk-container-id-1 div.sk-serial::before {content: \"\";position: absolute;border-left: 1px solid gray;box-sizing: border-box;top: 0;bottom: 0;left: 50%;z-index: 0;}#sk-container-id-1 div.sk-serial {display: flex;flex-direction: column;align-items: center;background-color: white;padding-right: 0.2em;padding-left: 0.2em;position: relative;}#sk-container-id-1 div.sk-item {position: relative;z-index: 1;}#sk-container-id-1 div.sk-parallel {display: flex;align-items: stretch;justify-content: center;background-color: white;position: relative;}#sk-container-id-1 div.sk-item::before, #sk-container-id-1 div.sk-parallel-item::before {content: \"\";position: absolute;border-left: 1px solid gray;box-sizing: border-box;top: 0;bottom: 0;left: 50%;z-index: -1;}#sk-container-id-1 div.sk-parallel-item {display: flex;flex-direction: column;z-index: 1;position: relative;background-color: white;}#sk-container-id-1 div.sk-parallel-item:first-child::after {align-self: flex-end;width: 50%;}#sk-container-id-1 div.sk-parallel-item:last-child::after {align-self: flex-start;width: 50%;}#sk-container-id-1 div.sk-parallel-item:only-child::after {width: 0;}#sk-container-id-1 div.sk-dashed-wrapped {border: 1px dashed gray;margin: 0 0.4em 0.5em 0.4em;box-sizing: border-box;padding-bottom: 0.4em;background-color: white;}#sk-container-id-1 div.sk-label label {font-family: monospace;font-weight: bold;display: inline-block;line-height: 1.2em;}#sk-container-id-1 div.sk-label-container {text-align: center;}#sk-container-id-1 div.sk-container {/* jupyter's `normalize.less` sets `[hidden] { display: none; }` but bootstrap.min.css set `[hidden] { display: none !important; }` so we also need the `!important` here to be able to override the default hidden behavior on the sphinx rendered scikit-learn.org. See: https://github.com/scikit-learn/scikit-learn/issues/21755 */display: inline-block !important;position: relative;}#sk-container-id-1 div.sk-text-repr-fallback {display: none;}</style><div id=\"sk-container-id-1\" class=\"sk-top-container\"><div class=\"sk-text-repr-fallback\"><pre>RandomForestClassifier(max_depth=38, max_features=&#x27;auto&#x27;, n_estimators=296,\n",
       "                       random_state=123)</pre><b>In a Jupyter environment, please rerun this cell to show the HTML representation or trust the notebook. <br />On GitHub, the HTML representation is unable to render, please try loading this page with nbviewer.org.</b></div><div class=\"sk-container\" hidden><div class=\"sk-item\"><div class=\"sk-estimator sk-toggleable\"><input class=\"sk-toggleable__control sk-hidden--visually\" id=\"sk-estimator-id-1\" type=\"checkbox\" checked><label for=\"sk-estimator-id-1\" class=\"sk-toggleable__label sk-toggleable__label-arrow\">RandomForestClassifier</label><div class=\"sk-toggleable__content\"><pre>RandomForestClassifier(max_depth=38, max_features=&#x27;auto&#x27;, n_estimators=296,\n",
       "                       random_state=123)</pre></div></div></div></div></div>"
      ],
      "text/plain": [
       "RandomForestClassifier(max_depth=38, max_features='auto', n_estimators=296,\n",
       "                       random_state=123)"
      ]
     },
     "execution_count": 90,
     "metadata": {},
     "output_type": "execute_result"
    }
   ],
   "source": [
    "#validation結果\n",
    "model = RandomForestClassifier(**params_best)\n",
    "model.fit(x_tr1,\n",
    "          y_tr1,\n",
    "         )"
   ]
  },
  {
   "cell_type": "code",
   "execution_count": 91,
   "id": "3d40ab95-9057-4a6b-8775-3115cd196835",
   "metadata": {},
   "outputs": [
    {
     "name": "stdout",
     "output_type": "stream",
     "text": [
      "[検証データ] acc: 0.7792\n",
      "[ベースライン検証データ] acc: 0.7883\n",
      "[検証データ] auc: 0.7610\n",
      "[ベースライン検証データ] auc: 0.8255\n"
     ]
    }
   ],
   "source": [
    "#評価指標の差\n",
    "y_va1_pred = model.predict(x_va1)\n",
    "y_va2_pred = model.predict(x_va2)\n",
    "print('[検証データ] acc: {:.4f}'.format(accuracy_score(y_va1, y_va1_pred)))\n",
    "print('[ベースライン検証データ] acc: {:.4f}'.format(accuracy_score(y_va2, y_va2_pred)))\n",
    "\n",
    "y_va1_pred_proba = model.predict_proba(x_va1)\n",
    "y_va2_pred_proba = model.predict_proba(x_va2)\n",
    "print('[検証データ] auc: {:.4f}'.format(roc_auc_score(y_va1, y_va1_pred_proba[:,1])))\n",
    "print('[ベースライン検証データ] auc: {:.4f}'.format(roc_auc_score(y_va2, y_va2_pred_proba[:,1])))\n"
   ]
  },
  {
   "cell_type": "code",
   "execution_count": 92,
   "id": "cbb5fdb1-a291-444d-b89c-cfde589f9f89",
   "metadata": {},
   "outputs": [
    {
     "name": "stdout",
     "output_type": "stream",
     "text": [
      "検証データ\n",
      "[[344  21]\n",
      " [ 85  30]]\n",
      "[[0.71666667 0.04375   ]\n",
      " [0.17708333 0.0625    ]]\n",
      "ベースライン検証データ\n",
      "[[428  29]\n",
      " [ 98  45]]\n",
      "[[0.71333333 0.04833333]\n",
      " [0.16333333 0.075     ]]\n"
     ]
    }
   ],
   "source": [
    "#後分類の分布\n",
    "print('検証データ')\n",
    "print(confusion_matrix(y_va1, y_va1_pred))\n",
    "print(confusion_matrix(y_va1, y_va1_pred, normalize='all'))\n",
    "\n",
    "print('ベースライン検証データ')\n",
    "print(confusion_matrix(y_va2, y_va2_pred))\n",
    "print(confusion_matrix(y_va2, y_va2_pred, normalize='all'))"
   ]
  },
  {
   "cell_type": "code",
   "execution_count": 93,
   "id": "0d170e58-efcf-45b4-a54e-8c46f9072c09",
   "metadata": {},
   "outputs": [
    {
     "data": {
      "text/plain": [
       "<matplotlib.legend.Legend at 0xffff3a4fa3d0>"
      ]
     },
     "execution_count": 93,
     "metadata": {},
     "output_type": "execute_result"
    },
    {
     "data": {
      "image/png": "[encoded data removed]",
      "text/plain": [
       "<Figure size 720x576 with 2 Axes>"
      ]
     },
     "metadata": {
      "needs_background": "light"
     },
     "output_type": "display_data"
    }
   ],
   "source": [
    "# 予測値の分布\n",
    "y_va1_pred_prob = model.predict_proba(x_va1)[:,1]\n",
    "y_va2_pred_prob = model.predict_proba(x_va2)[:,1]\n",
    "\n",
    "fig = plt.figure(figsize=(10,8))\n",
    "\n",
    "fig.add_subplot(2,1,1)\n",
    "plt.title('validation_data')\n",
    "plt.hist(y_va1_pred_prob[np.array(y_va1).reshape(-1)==1], bins=10, alpha=0.5, label='1')\n",
    "plt.hist(y_va1_pred_prob[np.array(y_va1).reshape(-1)==0], bins=10, alpha=0.5, label='0')\n",
    "plt.grid()\n",
    "plt.legend()\n",
    "\n",
    "fig.add_subplot(2,1,2)\n",
    "plt.title('basreline_validation_data')\n",
    "plt.hist(y_va2_pred_prob[np.array(y_va2).reshape(-1)==1], bins=10, alpha=0.5, label='1')\n",
    "plt.hist(y_va2_pred_prob[np.array(y_va2).reshape(-1)==0], bins=10, alpha=0.5, label='0')\n",
    "plt.grid()\n",
    "plt.legend()"
   ]
  },
  {
   "cell_type": "markdown",
   "id": "efb11e3d-8ce4-4764-b0ac-e95282a3d108",
   "metadata": {},
   "source": [
    "## チューニング"
   ]
  },
  {
   "cell_type": "code",
   "execution_count": 71,
   "id": "f961da15-d496-4366-b612-258a6fa887ff",
   "metadata": {},
   "outputs": [],
   "source": [
    "import optuna"
   ]
  },
  {
   "cell_type": "markdown",
   "id": "45e09950-1a80-4196-aa20-3b75d75d27e1",
   "metadata": {},
   "source": [
    "          'min_samples_split': 2,\n",
    "          'min_samples_leaf': 1,\n",
    "          'verbose': 1,\n",
    "          'n_estimators': 10, \n",
    "          'max_depth': None,\n",
    "          'min_weight_fraction_leaf': 0,\n",
    "          'max_features': 'auto',\n",
    "          'max_leaf_nodes': None,\n",
    "          'min_impurity_decrease': 0,\n",
    "          'bootstrap': True,\n",
    "          'oob_score': False,\n",
    "          'n_jobs': None,\n",
    "          'warm_start': False,\n",
    "          'class_weight': None"
   ]
  },
  {
   "cell_type": "code",
   "execution_count": 72,
   "id": "181e5c98-18c8-4a77-a962-9d36a8483fae",
   "metadata": {},
   "outputs": [],
   "source": [
    "# 探索しないパラメータ\n",
    "\n",
    "params_base = {\n",
    "    'criterion': 'gini',\n",
    "    'n_jobs':None,\n",
    "    'random_state': 123,\n",
    "    'max_features': 'auto'\n",
    "}\n",
    "\n",
    "def objective(trial):\n",
    "    # 探索するパラメータ\n",
    "    params_tuning = {\n",
    "        'n_estimators': trial.suggest_int('n_estimators',50,500),\n",
    "        'max_depth': trial.suggest_int('max_depth',1,100),\n",
    "        # 'max_features': trial.suggest_categorical('max_features', ['sqrt', 'log2', 'auto', None])\n",
    "        'criterion': trial.suggest_categorical('criterion', ['gini', 'entropy'])\n",
    "        \n",
    "         }\n",
    "    params_tuning.update(params_base)\n",
    "    \n",
    "    # モデル学習・評価\n",
    "    list_metrics = []\n",
    "    cv = list(StratifiedKFold(n_splits=4, shuffle=True, random_state=random_state).split(X_train, y_train))\n",
    "    for nfold in np.arange(4):\n",
    "        idx_tr, idx_va = cv[nfold][0], cv[nfold][1]\n",
    "        x_tr, y_tr = X_train.loc[idx_tr, :], y_train.loc[idx_tr, :]\n",
    "        x_va, y_va = X_train.loc[idx_va, :], y_train.loc[idx_va, :]\n",
    "        \n",
    "        model = RandomForestClassifier(**params_tuning)\n",
    "        model.fit(x_tr,\n",
    "                  y_tr,\n",
    "                 )\n",
    "        y_va_pred = model.predict_proba(x_va)[:,1]\n",
    "        metric_va = accuracy_score(y_va, np.where(y_va_pred>0.5, 1, 0))\n",
    "        list_metrics.append(metric_va)\n",
    "        \n",
    "    # 評価値の計算\n",
    "    metrics = np.mean(list_metrics)\n",
    "    \n",
    "    return metrics"
   ]
  },
  {
   "cell_type": "code",
   "execution_count": 73,
   "id": "c8717fb9-5a0d-4e3d-95e2-770a5cf4980c",
   "metadata": {},
   "outputs": [
    {
     "name": "stderr",
     "output_type": "stream",
     "text": [
      "\u001b[32m[I 2023-03-21 09:53:00,151]\u001b[0m A new study created in memory with name: no-name-5a57eff8-79f8-467f-858a-82310194d86f\u001b[0m\n",
      "\u001b[32m[I 2023-03-21 09:53:02,838]\u001b[0m Trial 0 finished with value: 0.7963333333333333 and parameters: {'n_estimators': 364, 'max_depth': 29, 'criterion': 'entropy'}. Best is trial 0 with value: 0.7963333333333333.\u001b[0m\n",
      "\u001b[32m[I 2023-03-21 09:53:05,548]\u001b[0m Trial 1 finished with value: 0.798 and parameters: {'n_estimators': 374, 'max_depth': 43, 'criterion': 'gini'}. Best is trial 1 with value: 0.798.\u001b[0m\n",
      "\u001b[32m[I 2023-03-21 09:53:07,485]\u001b[0m Trial 2 finished with value: 0.7976666666666666 and parameters: {'n_estimators': 266, 'max_depth': 40, 'criterion': 'entropy'}. Best is trial 1 with value: 0.798.\u001b[0m\n",
      "\u001b[32m[I 2023-03-21 09:53:08,660]\u001b[0m Trial 3 finished with value: 0.79 and parameters: {'n_estimators': 247, 'max_depth': 6, 'criterion': 'entropy'}. Best is trial 1 with value: 0.798.\u001b[0m\n",
      "\u001b[32m[I 2023-03-21 09:53:09,615]\u001b[0m Trial 4 finished with value: 0.7953333333333334 and parameters: {'n_estimators': 132, 'max_depth': 18, 'criterion': 'entropy'}. Best is trial 1 with value: 0.798.\u001b[0m\n",
      "\u001b[32m[I 2023-03-21 09:53:12,056]\u001b[0m Trial 5 finished with value: 0.7976666666666666 and parameters: {'n_estimators': 336, 'max_depth': 85, 'criterion': 'gini'}. Best is trial 1 with value: 0.798.\u001b[0m\n",
      "\u001b[32m[I 2023-03-21 09:53:14,797]\u001b[0m Trial 6 finished with value: 0.798 and parameters: {'n_estimators': 375, 'max_depth': 33, 'criterion': 'gini'}. Best is trial 1 with value: 0.798.\u001b[0m\n",
      "\u001b[32m[I 2023-03-21 09:53:16,137]\u001b[0m Trial 7 finished with value: 0.7973333333333334 and parameters: {'n_estimators': 182, 'max_depth': 64, 'criterion': 'entropy'}. Best is trial 1 with value: 0.798.\u001b[0m\n",
      "\u001b[32m[I 2023-03-21 09:53:17,915]\u001b[0m Trial 8 finished with value: 0.7963333333333333 and parameters: {'n_estimators': 244, 'max_depth': 50, 'criterion': 'gini'}. Best is trial 1 with value: 0.798.\u001b[0m\n",
      "\u001b[32m[I 2023-03-21 09:53:19,675]\u001b[0m Trial 9 finished with value: 0.7963333333333333 and parameters: {'n_estimators': 242, 'max_depth': 90, 'criterion': 'gini'}. Best is trial 1 with value: 0.798.\u001b[0m\n",
      "\u001b[32m[I 2023-03-21 09:53:23,265]\u001b[0m Trial 10 finished with value: 0.7966666666666666 and parameters: {'n_estimators': 493, 'max_depth': 69, 'criterion': 'gini'}. Best is trial 1 with value: 0.798.\u001b[0m\n",
      "\u001b[32m[I 2023-03-21 09:53:26,414]\u001b[0m Trial 11 finished with value: 0.7966666666666667 and parameters: {'n_estimators': 434, 'max_depth': 34, 'criterion': 'gini'}. Best is trial 1 with value: 0.798.\u001b[0m\n",
      "\u001b[32m[I 2023-03-21 09:53:29,109]\u001b[0m Trial 12 finished with value: 0.7976666666666667 and parameters: {'n_estimators': 370, 'max_depth': 56, 'criterion': 'gini'}. Best is trial 1 with value: 0.798.\u001b[0m\n",
      "\u001b[32m[I 2023-03-21 09:53:32,321]\u001b[0m Trial 13 finished with value: 0.7943333333333333 and parameters: {'n_estimators': 449, 'max_depth': 16, 'criterion': 'gini'}. Best is trial 1 with value: 0.798.\u001b[0m\n",
      "\u001b[32m[I 2023-03-21 09:53:34,739]\u001b[0m Trial 14 finished with value: 0.7973333333333333 and parameters: {'n_estimators': 330, 'max_depth': 45, 'criterion': 'gini'}. Best is trial 1 with value: 0.798.\u001b[0m\n",
      "\u001b[32m[I 2023-03-21 09:53:37,835]\u001b[0m Trial 15 finished with value: 0.7946666666666666 and parameters: {'n_estimators': 420, 'max_depth': 25, 'criterion': 'gini'}. Best is trial 1 with value: 0.798.\u001b[0m\n",
      "\u001b[32m[I 2023-03-21 09:53:39,069]\u001b[0m Trial 16 finished with value: 0.766 and parameters: {'n_estimators': 396, 'max_depth': 2, 'criterion': 'gini'}. Best is trial 1 with value: 0.798.\u001b[0m\n",
      "\u001b[32m[I 2023-03-21 09:53:39,459]\u001b[0m Trial 17 finished with value: 0.7976666666666666 and parameters: {'n_estimators': 51, 'max_depth': 55, 'criterion': 'gini'}. Best is trial 1 with value: 0.798.\u001b[0m\n",
      "\u001b[32m[I 2023-03-21 09:53:41,682]\u001b[0m Trial 18 finished with value: 0.7973333333333332 and parameters: {'n_estimators': 303, 'max_depth': 75, 'criterion': 'gini'}. Best is trial 1 with value: 0.798.\u001b[0m\n",
      "\u001b[32m[I 2023-03-21 09:53:45,161]\u001b[0m Trial 19 finished with value: 0.7963333333333333 and parameters: {'n_estimators': 478, 'max_depth': 99, 'criterion': 'gini'}. Best is trial 1 with value: 0.798.\u001b[0m\n",
      "\u001b[32m[I 2023-03-21 09:53:47,355]\u001b[0m Trial 20 finished with value: 0.7986666666666667 and parameters: {'n_estimators': 296, 'max_depth': 38, 'criterion': 'gini'}. Best is trial 20 with value: 0.7986666666666667.\u001b[0m\n",
      "\u001b[32m[I 2023-03-21 09:53:49,830]\u001b[0m Trial 21 finished with value: 0.7966666666666667 and parameters: {'n_estimators': 337, 'max_depth': 38, 'criterion': 'gini'}. Best is trial 20 with value: 0.7986666666666667.\u001b[0m\n",
      "\u001b[32m[I 2023-03-21 09:53:52,008]\u001b[0m Trial 22 finished with value: 0.7976666666666667 and parameters: {'n_estimators': 296, 'max_depth': 24, 'criterion': 'gini'}. Best is trial 20 with value: 0.7986666666666667.\u001b[0m\n",
      "\u001b[32m[I 2023-03-21 09:53:53,485]\u001b[0m Trial 23 finished with value: 0.7953333333333333 and parameters: {'n_estimators': 202, 'max_depth': 44, 'criterion': 'gini'}. Best is trial 20 with value: 0.7986666666666667.\u001b[0m\n",
      "\u001b[32m[I 2023-03-21 09:53:56,328]\u001b[0m Trial 24 finished with value: 0.7963333333333333 and parameters: {'n_estimators': 383, 'max_depth': 33, 'criterion': 'gini'}. Best is trial 20 with value: 0.7986666666666667.\u001b[0m\n",
      "\u001b[32m[I 2023-03-21 09:53:59,209]\u001b[0m Trial 25 finished with value: 0.7966666666666667 and parameters: {'n_estimators': 407, 'max_depth': 13, 'criterion': 'gini'}. Best is trial 20 with value: 0.7986666666666667.\u001b[0m\n",
      "\u001b[32m[I 2023-03-21 09:54:01,468]\u001b[0m Trial 26 finished with value: 0.796 and parameters: {'n_estimators': 307, 'max_depth': 50, 'criterion': 'gini'}. Best is trial 20 with value: 0.7986666666666667.\u001b[0m\n",
      "\u001b[32m[I 2023-03-21 09:54:04,077]\u001b[0m Trial 27 finished with value: 0.7966666666666667 and parameters: {'n_estimators': 355, 'max_depth': 61, 'criterion': 'entropy'}. Best is trial 20 with value: 0.7986666666666667.\u001b[0m\n",
      "\u001b[32m[I 2023-03-21 09:54:07,449]\u001b[0m Trial 28 finished with value: 0.7956666666666666 and parameters: {'n_estimators': 461, 'max_depth': 25, 'criterion': 'gini'}. Best is trial 20 with value: 0.7986666666666667.\u001b[0m\n",
      "\u001b[32m[I 2023-03-21 09:54:10,200]\u001b[0m Trial 29 finished with value: 0.798 and parameters: {'n_estimators': 375, 'max_depth': 33, 'criterion': 'entropy'}. Best is trial 20 with value: 0.7986666666666667.\u001b[0m\n"
     ]
    }
   ],
   "source": [
    "sampler = optuna.samplers.TPESampler(seed=random_state)\n",
    "study = optuna.create_study(sampler=sampler, direction='maximize')\n",
    "study.optimize(objective, n_trials=30)"
   ]
  },
  {
   "cell_type": "code",
   "execution_count": 74,
   "id": "5e7557e0-ee79-4166-beef-195c3bc31883",
   "metadata": {},
   "outputs": [
    {
     "name": "stdout",
     "output_type": "stream",
     "text": [
      "acc(best)=0.7987\n"
     ]
    },
    {
     "data": {
      "text/plain": [
       "{'n_estimators': 296, 'max_depth': 38, 'criterion': 'gini'}"
      ]
     },
     "metadata": {},
     "output_type": "display_data"
    }
   ],
   "source": [
    "trial = study.best_trial\n",
    "print('acc(best)={:.4f}'.format(trial.value))\n",
    "display(trial.params)"
   ]
  },
  {
   "cell_type": "code",
   "execution_count": 75,
   "id": "7ef7875c-72e2-4bd9-8a56-e5a804688df8",
   "metadata": {},
   "outputs": [
    {
     "data": {
      "text/plain": [
       "{'n_estimators': 296,\n",
       " 'max_depth': 38,\n",
       " 'criterion': 'gini',\n",
       " 'n_jobs': None,\n",
       " 'random_state': 123,\n",
       " 'max_features': 'auto'}"
      ]
     },
     "metadata": {},
     "output_type": "display_data"
    }
   ],
   "source": [
    "params_best = trial.params\n",
    "params_best.update(params_base)\n",
    "display(params_best)"
   ]
  },
  {
   "cell_type": "code",
   "execution_count": null,
   "id": "5ada8de8-9b76-4cc2-a007-8c8136b5c52c",
   "metadata": {},
   "outputs": [],
   "source": []
  }
 ],
 "metadata": {
  "kernelspec": {
   "display_name": "Python 3 (ipykernel)",
   "language": "python",
   "name": "python3"
  },
  "language_info": {
   "codemirror_mode": {
    "name": "ipython",
    "version": 3
   },
   "file_extension": ".py",
   "mimetype": "text/x-python",
   "name": "python",
   "nbconvert_exporter": "python",
   "pygments_lexer": "ipython3",
   "version": "3.9.13"
  }
 },
 "nbformat": 4,
 "nbformat_minor": 5
}
